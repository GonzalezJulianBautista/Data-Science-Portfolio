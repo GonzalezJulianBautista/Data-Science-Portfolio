{
  "nbformat": 4,
  "nbformat_minor": 0,
  "metadata": {
    "colab": {
      "name": "LIMPIEZA DE DATOS (PYTHON) - AIRBNB",
      "provenance": [],
      "collapsed_sections": [
        "uuT8u8x_0g_A",
        "FUU_FXHUXT7b",
        "36mjhWpCcEKI",
        "RAo0a96Agwgh",
        "VFKMy5tZlJ-J",
        "vLqHpCWBpWuN",
        "LTqd14y8sCk1",
        "roZiNpnZF7Rf",
        "tQZomdRwYx2U",
        "irbqaDCkdNy2",
        "l_RdXrlXI2Xe",
        "e58Ab4CpI4Qg",
        "s7X4HTc15bjb",
        "3flvQ3-7dKz9",
        "_lMbCDbGdODl",
        "C1ceDb1hguFh"
      ],
      "include_colab_link": true
    },
    "kernelspec": {
      "name": "python3",
      "display_name": "Python 3"
    },
    "language_info": {
      "name": "python"
    }
  },
  "cells": [
    {
      "cell_type": "markdown",
      "metadata": {
        "id": "view-in-github",
        "colab_type": "text"
      },
      "source": [
        "<a href=\"https://colab.research.google.com/github/GonzalezJulianBautista/Data-Science-Portfolio/blob/main/LIMPIEZA_DE_DATOS_(PYTHON)_AIRBNB.ipynb\" target=\"_parent\"><img src=\"https://colab.research.google.com/assets/colab-badge.svg\" alt=\"Open In Colab\"/></a>"
      ]
    },
    {
      "cell_type": "markdown",
      "metadata": {
        "id": "t1-lqp33zePD"
      },
      "source": [
        "#**LIMPIEZA DE DATOS (PYTHON) - Listados Airbnb**\n",
        "\n",
        "**Contenido:** \n",
        "\n",
        "* Presentación\n",
        "* Carga de datos \n",
        "* Limpieza de datos: \n",
        "  * Interpretación\n",
        "  * Limpieza\n",
        "* Transformación de datos: \n",
        "  * Análisis columna por columna\n",
        "  * Transformación\n",
        "* Conclusiones \n",
        "* Carga de datos\n"
      ]
    },
    {
      "cell_type": "markdown",
      "metadata": {
        "id": "2WbNWZN_JVNc"
      },
      "source": [
        "## **PRESENTACIÓN**\n",
        "\n",
        "Presentamos el proyecto, la metodología, el contexto y los objetivos. "
      ]
    },
    {
      "cell_type": "markdown",
      "metadata": {
        "id": "2blZ-3DXAgMr"
      },
      "source": [
        "* **Limpieza de Datos**\n",
        "\n",
        "A continuación, se realizarán las tareas de carga, limpieza y transformación de dos datasets: **listado y reviews**.\n",
        "\n",
        "* **Fuente de los datos**\n",
        "\n",
        "Los datasets se extraerán directamente de un [repositorio Github](https://github.com/al34n1x/DataScience/tree/master/data) que contiene una variedad de datasets para explotar.\n",
        "\n",
        "* **Contenido**\n",
        "\n",
        "Ambos datasets, extraídos en formato csv, contienen datos del sitio web de Airbnb. Cubren toda la información de listados y reseñas para las publicaciones en las Islas Baleares, España.  \n",
        "\n",
        "\n",
        "* **Qué es Airbnb?** \n",
        "\n",
        "Airbnb es un mercado comunitario que sirve para publicar, dar publicidad y reservar alojamiento de forma económica en más de 190 países a través de internet. Es uno de los sistemas mas exitosos de intercambio de servicios de alojamiento entre particulares a través de plataformas digitales. \n",
        "\n",
        "\n",
        "* **Objetivo**\n",
        "El objetivo del siguiente proyecto será realizar el las tareas de acondicionamiento de los datos de ambos datasets, a la vez que se plasma el desarrollo, segmento por segmento y de la forma más clara y concisa posible.\n",
        "Esto lo haremos: \n",
        "  * **Desde el punto de vista técnico y práctico:** Utilizando herramientas y librerías de explotación de datos importados directamente a Python.\n",
        "\n",
        "  * **Desde el punto de vista expositivo:** Complementando las celdas de código con celdas de texto y comentarios a lo largo  todo el proceso, además de realizar la adecuada división en segmentos del notebook, para mejor seguimiento de la metodología de trabajo. \n",
        "\n",
        "* **¿Por qué limpiamos los datos?**\n",
        "\n",
        "El sentido de este notebook es exhibir la importancia de un buen proceso de limpieza de los datos, los cuales muchas veces llegan al analista con lo que se conoce como \"ruido\" y espacios en blanco. Un buen proceso de limpieza y transformación es sinónimo de un buen proceso de análisis y visualización posterior.\n",
        "\n",
        "\n",
        "* **Notas Técnicas**\n",
        "\n",
        "1. **Sobre la utilización del método .unique():**  A lo largo del notebook, se utilizó el método .unique() para adentrarnos en detalle en el contenido de cada columna y tener en cuenta **cómo afecta el data input** **manual** **de los usuarios en la calidad de los datos y su posible agrupación.** El output de dicha función no fue incluído en el desarrollo de las instancias mencionadas, en cambio, el método .head() representa ese paso. Esto es así por dos principales motivos: \n",
        "\n",
        "  1. El DataFrame listado contiene, inicialmente, 98 columnas.  \n",
        "  2. El método .head() muestra el DataFrame de forma muchísimo más prolija que si intentásemos mostrar columna por columna el output del método .unique(), que puede llegar a devolver un array de hasta 3 mil valores, el cual obstruiría la fluidez en la explicación.\n",
        "\n",
        "  Con lo cual, cada vez que se utilice el método .head() y/o **se realice una afirmación sobre el contenido de una columna**, la misma está fundamentada sobre una revisión en detalle de la columna con el método unique(). "
      ]
    },
    {
      "cell_type": "markdown",
      "metadata": {
        "id": "uuT8u8x_0g_A"
      },
      "source": [
        "## **CARGA DE DATOS**\n",
        "\n",
        "Extraemos los datos e importamos las librerías a utilizar."
      ]
    },
    {
      "cell_type": "code",
      "metadata": {
        "colab": {
          "base_uri": "https://localhost:8080/"
        },
        "id": "vK6ngQf7zYBy",
        "outputId": "d44f520e-894e-4b92-b07f-c21e5721b700"
      },
      "source": [
        "import pandas as pd\n",
        "import numpy as np\n",
        "from datetime import datetime\n",
        "%matplotlib inline\n",
        "from datetime import datetime\n",
        "from datetime import timedelta\n",
        "import matplotlib.pyplot as plt\n",
        "import plotly.express as px\n",
        "import cufflinks as cf\n",
        "import seaborn as sns\n",
        "import sys\n",
        "cf.go_offline()\n",
        "cf.set_config_file(offline=False, world_readable=True)"
      ],
      "execution_count": null,
      "outputs": [
        {
          "output_type": "display_data",
          "data": {
            "text/html": [
              "        <script type=\"text/javascript\">\n",
              "        window.PlotlyConfig = {MathJaxConfig: 'local'};\n",
              "        if (window.MathJax) {MathJax.Hub.Config({SVG: {font: \"STIX-Web\"}});}\n",
              "        if (typeof require !== 'undefined') {\n",
              "        require.undef(\"plotly\");\n",
              "        requirejs.config({\n",
              "            paths: {\n",
              "                'plotly': ['https://cdn.plot.ly/plotly-latest.min']\n",
              "            }\n",
              "        });\n",
              "        require(['plotly'], function(Plotly) {\n",
              "            window._Plotly = Plotly;\n",
              "        });\n",
              "        }\n",
              "        </script>\n",
              "        "
            ]
          },
          "metadata": {}
        }
      ]
    },
    {
      "cell_type": "code",
      "metadata": {
        "id": "s7__rNnXD9mb",
        "colab": {
          "base_uri": "https://localhost:8080/"
        },
        "outputId": "98010c0c-1df6-476c-a977-860db4f56170"
      },
      "source": [
        "pip install geopandas"
      ],
      "execution_count": null,
      "outputs": [
        {
          "output_type": "stream",
          "name": "stdout",
          "text": [
            "Collecting geopandas\n",
            "  Downloading geopandas-0.9.0-py2.py3-none-any.whl (994 kB)\n",
            "\u001b[K     |████████████████████████████████| 994 kB 37.3 MB/s \n",
            "\u001b[?25hCollecting pyproj>=2.2.0\n",
            "  Downloading pyproj-3.2.0-cp37-cp37m-manylinux2010_x86_64.whl (6.3 MB)\n",
            "\u001b[K     |████████████████████████████████| 6.3 MB 14.9 MB/s \n",
            "\u001b[?25hRequirement already satisfied: shapely>=1.6 in /usr/local/lib/python3.7/dist-packages (from geopandas) (1.7.1)\n",
            "Requirement already satisfied: pandas>=0.24.0 in /usr/local/lib/python3.7/dist-packages (from geopandas) (1.1.5)\n",
            "Collecting fiona>=1.8\n",
            "  Downloading Fiona-1.8.20-cp37-cp37m-manylinux1_x86_64.whl (15.4 MB)\n",
            "\u001b[K     |████████████████████████████████| 15.4 MB 37 kB/s \n",
            "\u001b[?25hRequirement already satisfied: attrs>=17 in /usr/local/lib/python3.7/dist-packages (from fiona>=1.8->geopandas) (21.2.0)\n",
            "Requirement already satisfied: certifi in /usr/local/lib/python3.7/dist-packages (from fiona>=1.8->geopandas) (2021.5.30)\n",
            "Collecting munch\n",
            "  Downloading munch-2.5.0-py2.py3-none-any.whl (10 kB)\n",
            "Requirement already satisfied: click>=4.0 in /usr/local/lib/python3.7/dist-packages (from fiona>=1.8->geopandas) (7.1.2)\n",
            "Collecting cligj>=0.5\n",
            "  Downloading cligj-0.7.2-py3-none-any.whl (7.1 kB)\n",
            "Collecting click-plugins>=1.0\n",
            "  Downloading click_plugins-1.1.1-py2.py3-none-any.whl (7.5 kB)\n",
            "Requirement already satisfied: six>=1.7 in /usr/local/lib/python3.7/dist-packages (from fiona>=1.8->geopandas) (1.15.0)\n",
            "Requirement already satisfied: setuptools in /usr/local/lib/python3.7/dist-packages (from fiona>=1.8->geopandas) (57.4.0)\n",
            "Requirement already satisfied: python-dateutil>=2.7.3 in /usr/local/lib/python3.7/dist-packages (from pandas>=0.24.0->geopandas) (2.8.2)\n",
            "Requirement already satisfied: numpy>=1.15.4 in /usr/local/lib/python3.7/dist-packages (from pandas>=0.24.0->geopandas) (1.19.5)\n",
            "Requirement already satisfied: pytz>=2017.2 in /usr/local/lib/python3.7/dist-packages (from pandas>=0.24.0->geopandas) (2018.9)\n",
            "Installing collected packages: munch, cligj, click-plugins, pyproj, fiona, geopandas\n",
            "Successfully installed click-plugins-1.1.1 cligj-0.7.2 fiona-1.8.20 geopandas-0.9.0 munch-2.5.0 pyproj-3.2.0\n"
          ]
        }
      ]
    },
    {
      "cell_type": "markdown",
      "metadata": {
        "id": "jtlwDXf-Lw3j"
      },
      "source": [
        "* listado: DataFrame que contiene la información detallada de los listados en Islas Baleares. \n",
        "* reviews: DataFrame que contiene la información detallada de las reseñas en Islas Baleares."
      ]
    },
    {
      "cell_type": "code",
      "metadata": {
        "colab": {
          "base_uri": "https://localhost:8080/"
        },
        "id": "sdO_xUS5DUfD",
        "outputId": "72176e36-4393-4518-f6f0-132df2b88158"
      },
      "source": [
        "listado = pd.read_csv('https://raw.githubusercontent.com/al34n1x/DataScience/master/100.Examen/2021/examen_listado.csv', delimiter = ',')\n",
        "reviews = pd.read_csv('https://raw.githubusercontent.com/al34n1x/DataScience/master/100.Examen/2021/examen_reviews.csv', delimiter = ',')\n"
      ],
      "execution_count": null,
      "outputs": [
        {
          "output_type": "stream",
          "name": "stderr",
          "text": [
            "/usr/local/lib/python3.7/dist-packages/IPython/core/interactiveshell.py:2718: DtypeWarning:\n",
            "\n",
            "Columns (0,13,21,24,25,32,35,40,53,54,59,70,71,72,74) have mixed types.Specify dtype option on import or set low_memory=False.\n",
            "\n"
          ]
        }
      ]
    },
    {
      "cell_type": "markdown",
      "metadata": {
        "id": "VyZ8M50Y0lXX"
      },
      "source": [
        "## **LIMPIEZA DE DATOS**\n",
        "\n",
        "Para el primer paso del proyecto, realizaremos la limpieza de los datos. Se trabajará en 2 segmentos:\n",
        "\n",
        "* **Interpretación y descarte.**  \n",
        "* **Limpieza.**"
      ]
    },
    {
      "cell_type": "markdown",
      "metadata": {
        "id": "WVzYMvtUMO41"
      },
      "source": [
        "### INTERPRETACIÓN\n",
        "\n",
        "Empezamos familiarizándonos con las columnas en los dataset, para entender qué representa cada valor. Esto nos ayudará a evitar caer en un análisis pobre de los datos una vez lleguemos a esa instancia. \n"
      ]
    },
    {
      "cell_type": "markdown",
      "metadata": {
        "id": "v1j9kYNmFcnM"
      },
      "source": [
        "#### **Explicación del paso**\n"
      ]
    },
    {
      "cell_type": "markdown",
      "metadata": {
        "id": "Xh1myTGsTnlZ"
      },
      "source": [
        "El dataframe listado contiene 98 columnas y 16774 entries. "
      ]
    },
    {
      "cell_type": "code",
      "metadata": {
        "colab": {
          "base_uri": "https://localhost:8080/"
        },
        "id": "dvLR11fiTXSQ",
        "outputId": "a7271310-be79-41ce-fb58-29c538ac7cc2"
      },
      "source": [
        "listado.shape"
      ],
      "execution_count": null,
      "outputs": [
        {
          "output_type": "execute_result",
          "data": {
            "text/plain": [
              "(16774, 98)"
            ]
          },
          "metadata": {},
          "execution_count": 4
        }
      ]
    },
    {
      "cell_type": "markdown",
      "metadata": {
        "id": "LhjF7zceTzZ4"
      },
      "source": [
        "Si revisamos los nombres de las 98 columnas, podemos deducir ciertos subsets de columnas para poder hacer el desarrollo de este paso lo más claro y ameno posible. "
      ]
    },
    {
      "cell_type": "code",
      "metadata": {
        "colab": {
          "base_uri": "https://localhost:8080/"
        },
        "id": "IGRcOdN7T7Mr",
        "outputId": "cfbb5b63-4561-4e62-c631-d5c7b7df016c"
      },
      "source": [
        "listado.columns"
      ],
      "execution_count": null,
      "outputs": [
        {
          "output_type": "execute_result",
          "data": {
            "text/plain": [
              "Index(['id', 'name', 'summary', 'space', 'description', 'experiences_offered',\n",
              "       'neighborhood_overview', 'notes', 'transit', 'access', 'interaction',\n",
              "       'house_rules', 'thumbnail_url', 'medium_url', 'host_id', 'host_name',\n",
              "       'host_since', 'host_location', 'host_about', 'host_response_time',\n",
              "       'host_response_rate', 'host_acceptance_rate', 'host_is_superhost',\n",
              "       'host_neighbourhood', 'host_listings_count',\n",
              "       'host_total_listings_count', 'host_verifications',\n",
              "       'host_has_profile_pic', 'host_identity_verified', 'street',\n",
              "       'neighbourhood', 'neighbourhood_cleansed',\n",
              "       'neighbourhood_group_cleansed', 'city', 'state', 'zipcode', 'market',\n",
              "       'smart_location', 'country_code', 'country', 'latitude', 'longitude',\n",
              "       'is_location_exact', 'property_type', 'room_type', 'accommodates',\n",
              "       'bathrooms', 'bedrooms', 'beds', 'bed_type', 'amenities', 'square_feet',\n",
              "       'price', 'weekly_price', 'monthly_price', 'security_deposit',\n",
              "       'cleaning_fee', 'guests_included', 'extra_people', 'minimum_nights',\n",
              "       'maximum_nights', 'minimum_minimum_nights', 'maximum_minimum_nights',\n",
              "       'minimum_maximum_nights', 'maximum_maximum_nights',\n",
              "       'minimum_nights_avg_ntm', 'maximum_nights_avg_ntm', 'calendar_updated',\n",
              "       'has_availability', 'availability_30', 'availability_60',\n",
              "       'availability_90', 'availability_365', 'calendar_last_scraped',\n",
              "       'number_of_reviews', 'number_of_reviews_ltm', 'first_review',\n",
              "       'last_review', 'review_scores_rating', 'review_scores_accuracy',\n",
              "       'review_scores_cleanliness', 'review_scores_checkin',\n",
              "       'review_scores_communication', 'review_scores_location',\n",
              "       'review_scores_value', 'requires_license', 'license',\n",
              "       'jurisdiction_names', 'instant_bookable', 'is_business_travel_ready',\n",
              "       'cancellation_policy', 'require_guest_profile_picture',\n",
              "       'require_guest_phone_verification', 'calculated_host_listings_count',\n",
              "       'calculated_host_listings_count_entire_homes',\n",
              "       'calculated_host_listings_count_private_rooms',\n",
              "       'calculated_host_listings_count_shared_rooms', 'reviews_per_month'],\n",
              "      dtype='object')"
            ]
          },
          "metadata": {},
          "execution_count": 5
        }
      ]
    },
    {
      "cell_type": "markdown",
      "metadata": {
        "id": "oHIrLsf3UTHz"
      },
      "source": [
        "Así, podemos dividir las columnas en: \n",
        "\n",
        "*NOTA: Las columnas resaltadas están a manera de representativas para que se entienda mejor en la exposición el contenido de cada subset.*\n",
        "\n",
        "* **Información básica de la publicación (14 columnas):** \n",
        "'id', **'name'**, 'summary', 'space', **'description'**, 'experiences_offered', 'neighborhood_overview', 'notes', 'transit', 'access', 'interaction', **'house_rules'**,   'thumbnail_url', 'medium_url'\n",
        "\n",
        "* **Información del host (15 columnas):** 'host_id', **'host_name'**, 'host_since', 'host_location', **'host_about'**, 'host_response_time', 'host_response_rate', 'host_acceptance_rate', **'host_is_superhost'**, 'host_neighbourhood', 'host_listings_count', 'host_total_listings_count', 'host_verifications', 'host_has_profile_pic', 'host_identity_verified'\n",
        "\n",
        "* **Información geográfica de la publicación (14 columnas):** 'street', 'neighbourhood', **'neighbourhood_cleansed'**, 'neighbourhood_group_cleansed', 'city', 'state', **'zipcode'**,  'market', 'smart_location', 'country_code', 'country', **'latitude'**, **'longitude'**, 'is_location_exact'\n",
        "\n",
        "* **Información de la propiedad y el alquiler (31 columnas):** 'property_type', 'room_type', 'accommodates', **'bathrooms'**, 'bedrooms', **'beds'**, 'bed_type', 'amenities', 'square_feet', 'price', 'weekly_price', 'monthly_price', 'security_deposit', 'cleaning_fee', **'guests_included'**, 'extra_people', **'minimum_nights'**, 'maximum_nights', 'minimum_minimum_nights', 'maximum_minimum_nights', 'minimum_maximum_nights', 'maximum_maximum_nights', 'minimum_nights_avg_ntm', 'maximum_nights_avg_ntm', 'calendar_updated', 'has_availability', 'availability_30', 'availability_60', 'availability_90', 'availability_365', 'calendar_last_scraped'\n",
        "\n",
        "* **Información Reviews (11 columnas):** **'number_of_reviews'**, 'number_of_reviews_ltm', 'first_review', 'last_review', 'review_scores_rating', 'review_scores_accuracy', 'review_scores_cleanliness', 'review_scores_checkin', **'review_scores_communication'**, **'review_scores_location'**, 'review_scores_value'\n",
        "\n",
        "* **Otros (13 columnas):** 'requires_license', **'license'**, 'jurisdiction_names', 'instant_bookable', 'is_business_travel_ready', 'cancellation_policy', **'require_guest_profile_picture'**, 'require_guest_phone_verification', 'calculated_host_listings_count', 'calculated_host_listings_count_entire_homes', 'calculated_host_listings_count_private_rooms', 'calculated_host_listings_count_shared_rooms', 'reviews_per_month'"
      ]
    },
    {
      "cell_type": "markdown",
      "metadata": {
        "id": "05SIKtDvCxrU"
      },
      "source": [
        "Para cada subset, realizaremos: \n",
        "\n",
        "* **Una revisión general del contenido de cada columna:** \n",
        "  * ¿Qué tipo de variables contienen? \n",
        "  * ¿Qué preguntas se podrían llegar a responder con la información de esa columna? \n",
        "  * ¿La información que aporta la columna es única dentro del subset o incluso del dataframe? ¿O está contenida en otras columnas?\n",
        "\n",
        "* **Un relevamiento de la presencia de NaN's en las columnas:**\n",
        "  * ¿Qué porcentaje de NaN's presenta la columna?\n",
        "  * Dado el porcentaje de NaN's reportado: ¿Hay que eliminar la columna?"
      ]
    },
    {
      "cell_type": "markdown",
      "metadata": {
        "id": "An6Wg44cIIKk"
      },
      "source": [
        "#### **Implementación**"
      ]
    },
    {
      "cell_type": "markdown",
      "metadata": {
        "id": "FUU_FXHUXT7b"
      },
      "source": [
        "###### **Información básica de la publicación**\n",
        "\n",
        "* Revisión general.\n",
        "* Relevamiento de NaN's por columna. "
      ]
    },
    {
      "cell_type": "markdown",
      "metadata": {
        "id": "Umw-4MqDE2v0"
      },
      "source": [
        "Creamos el subset para la revisión general. "
      ]
    },
    {
      "cell_type": "code",
      "metadata": {
        "colab": {
          "base_uri": "https://localhost:8080/"
        },
        "id": "2O2Q-wgXXYTJ",
        "outputId": "29772ab0-b785-48df-d43f-ee931ed9589c"
      },
      "source": [
        "listado_info_basica = pd.DataFrame(listado[['id', 'name', 'summary', 'space', 'description', 'experiences_offered',\n",
        "                                            'neighborhood_overview', 'notes', 'transit', 'access', 'interaction',\n",
        "                                            'house_rules', 'thumbnail_url', 'medium_url']])\n",
        "listado_info_basica.head()"
      ],
      "execution_count": null,
      "outputs": [
        {
          "output_type": "execute_result",
          "data": {
            "text/html": [
              "<div>\n",
              "<style scoped>\n",
              "    .dataframe tbody tr th:only-of-type {\n",
              "        vertical-align: middle;\n",
              "    }\n",
              "\n",
              "    .dataframe tbody tr th {\n",
              "        vertical-align: top;\n",
              "    }\n",
              "\n",
              "    .dataframe thead th {\n",
              "        text-align: right;\n",
              "    }\n",
              "</style>\n",
              "<table border=\"1\" class=\"dataframe\">\n",
              "  <thead>\n",
              "    <tr style=\"text-align: right;\">\n",
              "      <th></th>\n",
              "      <th>id</th>\n",
              "      <th>name</th>\n",
              "      <th>summary</th>\n",
              "      <th>space</th>\n",
              "      <th>description</th>\n",
              "      <th>experiences_offered</th>\n",
              "      <th>neighborhood_overview</th>\n",
              "      <th>notes</th>\n",
              "      <th>transit</th>\n",
              "      <th>access</th>\n",
              "      <th>interaction</th>\n",
              "      <th>house_rules</th>\n",
              "      <th>thumbnail_url</th>\n",
              "      <th>medium_url</th>\n",
              "    </tr>\n",
              "  </thead>\n",
              "  <tbody>\n",
              "    <tr>\n",
              "      <th>0</th>\n",
              "      <td>100831</td>\n",
              "      <td>HOUSE IN MALLORCA - WiFi(ET-3045)</td>\n",
              "      <td>NaN</td>\n",
              "      <td>House situated in a quiet area of Ca'n Picafor...</td>\n",
              "      <td>House situated in a quiet area of Ca'n Picafor...</td>\n",
              "      <td>none</td>\n",
              "      <td>NaN</td>\n",
              "      <td>NaN</td>\n",
              "      <td>NaN</td>\n",
              "      <td>NaN</td>\n",
              "      <td>NaN</td>\n",
              "      <td>Que disfruten su estancia en nuestra casa.</td>\n",
              "      <td>NaN</td>\n",
              "      <td>NaN</td>\n",
              "    </tr>\n",
              "    <tr>\n",
              "      <th>1</th>\n",
              "      <td>105891</td>\n",
              "      <td>VILLAGE HOUSE WITH POOL: IDEAL FOR FAMILIES</td>\n",
              "      <td>The house is a street on the outskirts of the ...</td>\n",
              "      <td>House, ground floor, situated in a small town ...</td>\n",
              "      <td>The house is a street on the outskirts of the ...</td>\n",
              "      <td>none</td>\n",
              "      <td>The village's population does not reach two th...</td>\n",
              "      <td>On arrival at the house, the owner will inform...</td>\n",
              "      <td>It is advisable to rent a car when you arrive ...</td>\n",
              "      <td>It is a ground floor house with porch, terrace...</td>\n",
              "      <td>I usually go once every four days for the main...</td>\n",
              "      <td>I hope to correct behavior of my guests with n...</td>\n",
              "      <td>NaN</td>\n",
              "      <td>NaN</td>\n",
              "    </tr>\n",
              "    <tr>\n",
              "      <th>2</th>\n",
              "      <td>106833</td>\n",
              "      <td>Villa with a big pool in Mallorca</td>\n",
              "      <td>NaN</td>\n",
              "      <td>This is a restored old building situated in th...</td>\n",
              "      <td>This is a restored old building situated in th...</td>\n",
              "      <td>none</td>\n",
              "      <td>NaN</td>\n",
              "      <td>NaN</td>\n",
              "      <td>NaN</td>\n",
              "      <td>NaN</td>\n",
              "      <td>NaN</td>\n",
              "      <td>NaN</td>\n",
              "      <td>NaN</td>\n",
              "      <td>NaN</td>\n",
              "    </tr>\n",
              "    <tr>\n",
              "      <th>3</th>\n",
              "      <td>130669</td>\n",
              "      <td>Room great apartment</td>\n",
              "      <td>Located in a residential neighbourhood and 10m...</td>\n",
              "      <td>Located in a beautiful area of palma, (Bonanov...</td>\n",
              "      <td>Located in a residential neighbourhood and 10m...</td>\n",
              "      <td>none</td>\n",
              "      <td>Located in the center of the city, within minu...</td>\n",
              "      <td>Summer is here, fun, fun and more fun, what el...</td>\n",
              "      <td>Bus stop out the building, free parking on street</td>\n",
              "      <td>NaN</td>\n",
              "      <td>Great place near plaza Espana, bars, cafes</td>\n",
              "      <td>Respect on property and neighbours</td>\n",
              "      <td>NaN</td>\n",
              "      <td>NaN</td>\n",
              "    </tr>\n",
              "    <tr>\n",
              "      <th>4</th>\n",
              "      <td>158925</td>\n",
              "      <td>Casa M, a must in Majorca south</td>\n",
              "      <td>Pouvez-vous lire le résumé publié avec la prem...</td>\n",
              "      <td>Two independant bedrooms with bathrooms en sui...</td>\n",
              "      <td>Pouvez-vous lire le résumé publié avec la prem...</td>\n",
              "      <td>none</td>\n",
              "      <td>Tout. L'isolement de la maison d'abord, un oas...</td>\n",
              "      <td>Sans doute mais au fil de la demande. He suis ...</td>\n",
              "      <td>Il faut louer une voiture à Son Sant Juan ( aé...</td>\n",
              "      <td>À leur chambre indépendante avec salle-de-bain...</td>\n",
              "      <td>Bien entendu! J 'essaie toujours de leur faire...</td>\n",
              "      <td>Cada uno puede llevar su vida de forma indepen...</td>\n",
              "      <td>NaN</td>\n",
              "      <td>NaN</td>\n",
              "    </tr>\n",
              "  </tbody>\n",
              "</table>\n",
              "</div>"
            ],
            "text/plain": [
              "       id  ... medium_url\n",
              "0  100831  ...        NaN\n",
              "1  105891  ...        NaN\n",
              "2  106833  ...        NaN\n",
              "3  130669  ...        NaN\n",
              "4  158925  ...        NaN\n",
              "\n",
              "[5 rows x 14 columns]"
            ]
          },
          "metadata": {},
          "execution_count": 6
        }
      ]
    },
    {
      "cell_type": "markdown",
      "metadata": {
        "id": "e4TvGtz5E9EO"
      },
      "source": [
        "Generamos la tabla de porcentaje de NaN. "
      ]
    },
    {
      "cell_type": "code",
      "metadata": {
        "colab": {
          "base_uri": "https://localhost:8080/"
        },
        "id": "Q_CnSFcf5yrx",
        "outputId": "48bb19a1-2166-4079-88c6-943813a7af27"
      },
      "source": [
        "missings_info_basica = listado_info_basica.isnull().sum() * 100 / len(listado_info_basica)\n",
        "listado_missing_info_basica = pd.DataFrame({'column_name': listado_info_basica.columns,\n",
        "                                 'missings_info_basica': missings_info_basica})\n",
        "\n",
        "listado_missing_info_basica.sort_values('missings_info_basica', ascending = False, inplace=True)\n",
        "\n",
        "listado_missing_info_basica.head(14)"
      ],
      "execution_count": null,
      "outputs": [
        {
          "output_type": "execute_result",
          "data": {
            "text/html": [
              "<div>\n",
              "<style scoped>\n",
              "    .dataframe tbody tr th:only-of-type {\n",
              "        vertical-align: middle;\n",
              "    }\n",
              "\n",
              "    .dataframe tbody tr th {\n",
              "        vertical-align: top;\n",
              "    }\n",
              "\n",
              "    .dataframe thead th {\n",
              "        text-align: right;\n",
              "    }\n",
              "</style>\n",
              "<table border=\"1\" class=\"dataframe\">\n",
              "  <thead>\n",
              "    <tr style=\"text-align: right;\">\n",
              "      <th></th>\n",
              "      <th>column_name</th>\n",
              "      <th>missings_info_basica</th>\n",
              "    </tr>\n",
              "  </thead>\n",
              "  <tbody>\n",
              "    <tr>\n",
              "      <th>thumbnail_url</th>\n",
              "      <td>thumbnail_url</td>\n",
              "      <td>100.000000</td>\n",
              "    </tr>\n",
              "    <tr>\n",
              "      <th>medium_url</th>\n",
              "      <td>medium_url</td>\n",
              "      <td>99.994038</td>\n",
              "    </tr>\n",
              "    <tr>\n",
              "      <th>access</th>\n",
              "      <td>access</td>\n",
              "      <td>63.497079</td>\n",
              "    </tr>\n",
              "    <tr>\n",
              "      <th>transit</th>\n",
              "      <td>transit</td>\n",
              "      <td>60.444736</td>\n",
              "    </tr>\n",
              "    <tr>\n",
              "      <th>interaction</th>\n",
              "      <td>interaction</td>\n",
              "      <td>60.063193</td>\n",
              "    </tr>\n",
              "    <tr>\n",
              "      <th>neighborhood_overview</th>\n",
              "      <td>neighborhood_overview</td>\n",
              "      <td>52.366758</td>\n",
              "    </tr>\n",
              "    <tr>\n",
              "      <th>notes</th>\n",
              "      <td>notes</td>\n",
              "      <td>48.074401</td>\n",
              "    </tr>\n",
              "    <tr>\n",
              "      <th>house_rules</th>\n",
              "      <td>house_rules</td>\n",
              "      <td>36.592345</td>\n",
              "    </tr>\n",
              "    <tr>\n",
              "      <th>space</th>\n",
              "      <td>space</td>\n",
              "      <td>22.713724</td>\n",
              "    </tr>\n",
              "    <tr>\n",
              "      <th>summary</th>\n",
              "      <td>summary</td>\n",
              "      <td>2.605222</td>\n",
              "    </tr>\n",
              "    <tr>\n",
              "      <th>description</th>\n",
              "      <td>description</td>\n",
              "      <td>0.852510</td>\n",
              "    </tr>\n",
              "    <tr>\n",
              "      <th>name</th>\n",
              "      <td>name</td>\n",
              "      <td>0.017885</td>\n",
              "    </tr>\n",
              "    <tr>\n",
              "      <th>experiences_offered</th>\n",
              "      <td>experiences_offered</td>\n",
              "      <td>0.005962</td>\n",
              "    </tr>\n",
              "    <tr>\n",
              "      <th>id</th>\n",
              "      <td>id</td>\n",
              "      <td>0.000000</td>\n",
              "    </tr>\n",
              "  </tbody>\n",
              "</table>\n",
              "</div>"
            ],
            "text/plain": [
              "                                 column_name  missings_info_basica\n",
              "thumbnail_url                  thumbnail_url            100.000000\n",
              "medium_url                        medium_url             99.994038\n",
              "access                                access             63.497079\n",
              "transit                              transit             60.444736\n",
              "interaction                      interaction             60.063193\n",
              "neighborhood_overview  neighborhood_overview             52.366758\n",
              "notes                                  notes             48.074401\n",
              "house_rules                      house_rules             36.592345\n",
              "space                                  space             22.713724\n",
              "summary                              summary              2.605222\n",
              "description                      description              0.852510\n",
              "name                                    name              0.017885\n",
              "experiences_offered      experiences_offered              0.005962\n",
              "id                                        id              0.000000"
            ]
          },
          "metadata": {},
          "execution_count": 7
        }
      ]
    },
    {
      "cell_type": "markdown",
      "metadata": {
        "id": "_6T0hOqpFCZe"
      },
      "source": [
        "Para mejorar la toma de decisiones, graficamos la tabla de NaN's. "
      ]
    },
    {
      "cell_type": "code",
      "metadata": {
        "colab": {
          "base_uri": "https://localhost:8080/"
        },
        "id": "48deyxgE4jvG",
        "outputId": "c90952ce-4635-4d78-9db8-7ab492362daf"
      },
      "source": [
        "prod_count_basica = pd.DataFrame(listado_missing_info_basica.sort_index().head(20))\n",
        "plt.figure()\n",
        "sns.set_theme(style=\"darkgrid\")\n",
        "sns.barplot(listado_missing_info_basica[:12].index, \n",
        "            listado_missing_info_basica[:12]['missings_info_basica'].values, alpha=1, color = 'Salmon')\n",
        "plt.title('NaN en Info. Básica')\n",
        "plt.ylabel('% De NaN', fontsize=12)\n",
        "plt.xlabel('Columnas', fontsize=12)\n",
        "plt.xticks(rotation=90)\n",
        "plt.show()"
      ],
      "execution_count": null,
      "outputs": [
        {
          "output_type": "stream",
          "name": "stderr",
          "text": [
            "/usr/local/lib/python3.7/dist-packages/seaborn/_decorators.py:43: FutureWarning:\n",
            "\n",
            "Pass the following variables as keyword args: x, y. From version 0.12, the only valid positional argument will be `data`, and passing other arguments without an explicit keyword will result in an error or misinterpretation.\n",
            "\n"
          ]
        },
        {
          "output_type": "display_data",
          "data": {
            "image/png": "[encoded data removed]",
            "text/plain": [
              "<Figure size 432x288 with 1 Axes>"
            ]
          },
          "metadata": {
            "needs_background": "light"
          }
        }
      ]
    },
    {
      "cell_type": "markdown",
      "metadata": {
        "id": "oOe9XW3DX2yD"
      },
      "source": [
        "De las 14 columnas del subset nos quedamos con la(s) siguiente(s): \n",
        "\n",
        "* 'id': identificador del listado, puede ser usado para JOIN's. \n",
        "\n",
        "Y descartamos: \n",
        "\n",
        "* 'name': Una descripción textual de la publicación, especialmente del alojamiento en cuestión, no es necesaria. La información que pueda contener esta columna estará presente en columnas específicas como pueden ser habitaciones, ubicación, ammenities, etc. \n",
        "* 'summary': Mismo que 'name'.\n",
        "* 'space': Mismo que 'name'.\n",
        "* 'description': Mismo que 'name'.\n",
        "* 'experiences_offered': Mismo que 'name'. \n",
        "* 'neighborhood_overview': La explotación de esta columna en un dato utilizable llevaría mucho tiempo. \n",
        "* 'notes': Mismo que 'neighborhood_overview'.\n",
        "* 'transit': Mismo que 'neighborhood_overview'.\n",
        "* 'access': Mismo que 'neighborhood_overview'.\n",
        "* 'interaction': Mismo que 'neighborhood_overview'.\n",
        "* 'house_rules': Mismo que 'neighborhood_overview'.\n",
        "* 'thumbnail_url': NaN. \n",
        "* 'medium_url': Nan."
      ]
    },
    {
      "cell_type": "markdown",
      "metadata": {
        "id": "36mjhWpCcEKI"
      },
      "source": [
        "##### **Información del host**\n",
        "\n",
        "* Revisión general.\n",
        "* Relevamiento de NaN's por columna. "
      ]
    },
    {
      "cell_type": "code",
      "metadata": {
        "colab": {
          "base_uri": "https://localhost:8080/"
        },
        "id": "xFUDrA0ib9QX",
        "outputId": "1dc86164-ceeb-4e7a-8710-c5d67c1ef0f9"
      },
      "source": [
        "listado_info_host = pd.DataFrame(listado[['host_id', 'host_name', 'host_since', 'host_location',\n",
        "                                            'host_about', 'host_response_time', 'host_response_rate',\n",
        "                                            'host_acceptance_rate', 'host_is_superhost', \n",
        "                                            'host_neighbourhood', 'host_listings_count', 'host_total_listings_count',\n",
        "                                            'host_verifications', 'host_has_profile_pic', 'host_identity_verified']])\n",
        "listado_info_host.head()"
      ],
      "execution_count": null,
      "outputs": [
        {
          "output_type": "execute_result",
          "data": {
            "text/html": [
              "<div>\n",
              "<style scoped>\n",
              "    .dataframe tbody tr th:only-of-type {\n",
              "        vertical-align: middle;\n",
              "    }\n",
              "\n",
              "    .dataframe tbody tr th {\n",
              "        vertical-align: top;\n",
              "    }\n",
              "\n",
              "    .dataframe thead th {\n",
              "        text-align: right;\n",
              "    }\n",
              "</style>\n",
              "<table border=\"1\" class=\"dataframe\">\n",
              "  <thead>\n",
              "    <tr style=\"text-align: right;\">\n",
              "      <th></th>\n",
              "      <th>host_id</th>\n",
              "      <th>host_name</th>\n",
              "      <th>host_since</th>\n",
              "      <th>host_location</th>\n",
              "      <th>host_about</th>\n",
              "      <th>host_response_time</th>\n",
              "      <th>host_response_rate</th>\n",
              "      <th>host_acceptance_rate</th>\n",
              "      <th>host_is_superhost</th>\n",
              "      <th>host_neighbourhood</th>\n",
              "      <th>host_listings_count</th>\n",
              "      <th>host_total_listings_count</th>\n",
              "      <th>host_verifications</th>\n",
              "      <th>host_has_profile_pic</th>\n",
              "      <th>host_identity_verified</th>\n",
              "    </tr>\n",
              "  </thead>\n",
              "  <tbody>\n",
              "    <tr>\n",
              "      <th>0</th>\n",
              "      <td>529151.0</td>\n",
              "      <td>Miguel</td>\n",
              "      <td>2011-04-23</td>\n",
              "      <td>Mallorca</td>\n",
              "      <td>Somos una pareja con los mismos gustos e inter...</td>\n",
              "      <td>within a few hours</td>\n",
              "      <td>100%</td>\n",
              "      <td>NaN</td>\n",
              "      <td>f</td>\n",
              "      <td>NaN</td>\n",
              "      <td>1.0</td>\n",
              "      <td>1.0</td>\n",
              "      <td>['email', 'phone', 'facebook', 'reviews', 'jum...</td>\n",
              "      <td>t</td>\n",
              "      <td>t</td>\n",
              "    </tr>\n",
              "    <tr>\n",
              "      <th>1</th>\n",
              "      <td>549192.0</td>\n",
              "      <td>Bartomeu</td>\n",
              "      <td>2011-05-01</td>\n",
              "      <td>Ariany, Balearic Islands, Spain</td>\n",
              "      <td>Hola!. Resido en una casa de campo de un puebl...</td>\n",
              "      <td>within an hour</td>\n",
              "      <td>100%</td>\n",
              "      <td>NaN</td>\n",
              "      <td>t</td>\n",
              "      <td>NaN</td>\n",
              "      <td>2.0</td>\n",
              "      <td>2.0</td>\n",
              "      <td>['email', 'phone', 'facebook', 'reviews', 'jum...</td>\n",
              "      <td>t</td>\n",
              "      <td>t</td>\n",
              "    </tr>\n",
              "    <tr>\n",
              "      <th>2</th>\n",
              "      <td>551974.0</td>\n",
              "      <td>Xisco</td>\n",
              "      <td>2011-05-02</td>\n",
              "      <td>Palma de Mallorca, Balearic Islands, Spain</td>\n",
              "      <td>I'm Xisco. I love Mallorcan way of life.</td>\n",
              "      <td>within a day</td>\n",
              "      <td>100%</td>\n",
              "      <td>NaN</td>\n",
              "      <td>f</td>\n",
              "      <td>NaN</td>\n",
              "      <td>1.0</td>\n",
              "      <td>1.0</td>\n",
              "      <td>['email', 'phone', 'reviews', 'jumio', 'offlin...</td>\n",
              "      <td>t</td>\n",
              "      <td>f</td>\n",
              "    </tr>\n",
              "    <tr>\n",
              "      <th>3</th>\n",
              "      <td>643065.0</td>\n",
              "      <td>Nick</td>\n",
              "      <td>2011-05-30</td>\n",
              "      <td>Palma de Mallorca, Balearic Islands, Spain</td>\n",
              "      <td>NaN</td>\n",
              "      <td>within a day</td>\n",
              "      <td>57%</td>\n",
              "      <td>NaN</td>\n",
              "      <td>f</td>\n",
              "      <td>NaN</td>\n",
              "      <td>3.0</td>\n",
              "      <td>3.0</td>\n",
              "      <td>['email', 'phone', 'reviews']</td>\n",
              "      <td>t</td>\n",
              "      <td>f</td>\n",
              "    </tr>\n",
              "    <tr>\n",
              "      <th>4</th>\n",
              "      <td>673756.0</td>\n",
              "      <td>Marie</td>\n",
              "      <td>2011-06-07</td>\n",
              "      <td>Palma, Balearic Islands, Spain</td>\n",
              "      <td>Hola, me llamo Marie.  Despues de haber viajad...</td>\n",
              "      <td>within an hour</td>\n",
              "      <td>100%</td>\n",
              "      <td>NaN</td>\n",
              "      <td>f</td>\n",
              "      <td>NaN</td>\n",
              "      <td>3.0</td>\n",
              "      <td>3.0</td>\n",
              "      <td>['email', 'phone', 'facebook', 'reviews', 'off...</td>\n",
              "      <td>t</td>\n",
              "      <td>f</td>\n",
              "    </tr>\n",
              "  </tbody>\n",
              "</table>\n",
              "</div>"
            ],
            "text/plain": [
              "    host_id host_name  ... host_has_profile_pic host_identity_verified\n",
              "0  529151.0    Miguel  ...                    t                      t\n",
              "1  549192.0  Bartomeu  ...                    t                      t\n",
              "2  551974.0     Xisco  ...                    t                      f\n",
              "3  643065.0      Nick  ...                    t                      f\n",
              "4  673756.0     Marie  ...                    t                      f\n",
              "\n",
              "[5 rows x 15 columns]"
            ]
          },
          "metadata": {},
          "execution_count": 9
        }
      ]
    },
    {
      "cell_type": "code",
      "metadata": {
        "colab": {
          "base_uri": "https://localhost:8080/"
        },
        "id": "h9gRBG1l7sH6",
        "outputId": "1c6deb24-d190-4315-d685-e9af93e9cc18"
      },
      "source": [
        "missings_info_host = listado_info_host.isnull().sum() * 100 / len(listado_info_host)\n",
        "listado_missing_info_host = pd.DataFrame({'column_name': listado_info_host.columns,\n",
        "                                 'missings_info_host': missings_info_host})\n",
        "\n",
        "listado_missing_info_host.sort_values('missings_info_host', ascending = False, inplace=True)\n",
        "\n",
        "listado_missing_info_host.head(14)"
      ],
      "execution_count": null,
      "outputs": [
        {
          "output_type": "execute_result",
          "data": {
            "text/html": [
              "<div>\n",
              "<style scoped>\n",
              "    .dataframe tbody tr th:only-of-type {\n",
              "        vertical-align: middle;\n",
              "    }\n",
              "\n",
              "    .dataframe tbody tr th {\n",
              "        vertical-align: top;\n",
              "    }\n",
              "\n",
              "    .dataframe thead th {\n",
              "        text-align: right;\n",
              "    }\n",
              "</style>\n",
              "<table border=\"1\" class=\"dataframe\">\n",
              "  <thead>\n",
              "    <tr style=\"text-align: right;\">\n",
              "      <th></th>\n",
              "      <th>column_name</th>\n",
              "      <th>missings_info_host</th>\n",
              "    </tr>\n",
              "  </thead>\n",
              "  <tbody>\n",
              "    <tr>\n",
              "      <th>host_acceptance_rate</th>\n",
              "      <td>host_acceptance_rate</td>\n",
              "      <td>99.994038</td>\n",
              "    </tr>\n",
              "    <tr>\n",
              "      <th>host_neighbourhood</th>\n",
              "      <td>host_neighbourhood</td>\n",
              "      <td>98.444021</td>\n",
              "    </tr>\n",
              "    <tr>\n",
              "      <th>host_about</th>\n",
              "      <td>host_about</td>\n",
              "      <td>34.517706</td>\n",
              "    </tr>\n",
              "    <tr>\n",
              "      <th>host_response_time</th>\n",
              "      <td>host_response_time</td>\n",
              "      <td>6.885656</td>\n",
              "    </tr>\n",
              "    <tr>\n",
              "      <th>host_response_rate</th>\n",
              "      <td>host_response_rate</td>\n",
              "      <td>6.885656</td>\n",
              "    </tr>\n",
              "    <tr>\n",
              "      <th>host_location</th>\n",
              "      <td>host_location</td>\n",
              "      <td>0.220579</td>\n",
              "    </tr>\n",
              "    <tr>\n",
              "      <th>host_is_superhost</th>\n",
              "      <td>host_is_superhost</td>\n",
              "      <td>0.041731</td>\n",
              "    </tr>\n",
              "    <tr>\n",
              "      <th>host_listings_count</th>\n",
              "      <td>host_listings_count</td>\n",
              "      <td>0.041731</td>\n",
              "    </tr>\n",
              "    <tr>\n",
              "      <th>host_total_listings_count</th>\n",
              "      <td>host_total_listings_count</td>\n",
              "      <td>0.041731</td>\n",
              "    </tr>\n",
              "    <tr>\n",
              "      <th>host_has_profile_pic</th>\n",
              "      <td>host_has_profile_pic</td>\n",
              "      <td>0.041731</td>\n",
              "    </tr>\n",
              "    <tr>\n",
              "      <th>host_identity_verified</th>\n",
              "      <td>host_identity_verified</td>\n",
              "      <td>0.041731</td>\n",
              "    </tr>\n",
              "    <tr>\n",
              "      <th>host_name</th>\n",
              "      <td>host_name</td>\n",
              "      <td>0.035770</td>\n",
              "    </tr>\n",
              "    <tr>\n",
              "      <th>host_since</th>\n",
              "      <td>host_since</td>\n",
              "      <td>0.035770</td>\n",
              "    </tr>\n",
              "    <tr>\n",
              "      <th>host_id</th>\n",
              "      <td>host_id</td>\n",
              "      <td>0.005962</td>\n",
              "    </tr>\n",
              "  </tbody>\n",
              "</table>\n",
              "</div>"
            ],
            "text/plain": [
              "                                         column_name  missings_info_host\n",
              "host_acceptance_rate            host_acceptance_rate           99.994038\n",
              "host_neighbourhood                host_neighbourhood           98.444021\n",
              "host_about                                host_about           34.517706\n",
              "host_response_time                host_response_time            6.885656\n",
              "host_response_rate                host_response_rate            6.885656\n",
              "host_location                          host_location            0.220579\n",
              "host_is_superhost                  host_is_superhost            0.041731\n",
              "host_listings_count              host_listings_count            0.041731\n",
              "host_total_listings_count  host_total_listings_count            0.041731\n",
              "host_has_profile_pic            host_has_profile_pic            0.041731\n",
              "host_identity_verified        host_identity_verified            0.041731\n",
              "host_name                                  host_name            0.035770\n",
              "host_since                                host_since            0.035770\n",
              "host_id                                      host_id            0.005962"
            ]
          },
          "metadata": {},
          "execution_count": 10
        }
      ]
    },
    {
      "cell_type": "code",
      "metadata": {
        "colab": {
          "base_uri": "https://localhost:8080/"
        },
        "id": "hef4ZOJn8BUY",
        "outputId": "df013846-eed5-444a-ed7c-51fcaaaab830"
      },
      "source": [
        "prod_count_host = pd.DataFrame(listado_missing_info_host.sort_index().head(20))\n",
        "plt.figure()\n",
        "sns.set_theme(style=\"darkgrid\")\n",
        "sns.barplot(listado_missing_info_host[:7].index, \n",
        "            listado_missing_info_host[:7]['missings_info_host'].values, alpha=1, color = 'Salmon')\n",
        "plt.title('NaN en Info. Host')\n",
        "plt.ylabel('% De NaN', fontsize=12)\n",
        "plt.xlabel('Columnas', fontsize=12)\n",
        "plt.xticks(rotation=90)\n",
        "plt.show()"
      ],
      "execution_count": null,
      "outputs": [
        {
          "output_type": "stream",
          "name": "stderr",
          "text": [
            "/usr/local/lib/python3.7/dist-packages/seaborn/_decorators.py:43: FutureWarning:\n",
            "\n",
            "Pass the following variables as keyword args: x, y. From version 0.12, the only valid positional argument will be `data`, and passing other arguments without an explicit keyword will result in an error or misinterpretation.\n",
            "\n"
          ]
        },
        {
          "output_type": "display_data",
          "data": {
            "image/png": "[encoded data removed]",
            "text/plain": [
              "<Figure size 432x288 with 1 Axes>"
            ]
          },
          "metadata": {}
        }
      ]
    },
    {
      "cell_type": "markdown",
      "metadata": {
        "id": "aqCHbzBycX7v"
      },
      "source": [
        "De las 15 columnas del subset nos quedamos con la(s) siguiente(s): \n",
        "\n",
        "* 'host_name': Podemos usar el nombre del host para filtrar reviews de sus publicaciones. \n",
        "* 'host_since': Variable de serie temporal a la que se le puede dar uso. \n",
        "* 'host_location': Variable de ubicación a la que se le puede dar uso. \n",
        "* 'host_about': Variable de la cual se pueden extraer palabras clave. \n",
        "* 'host_is_superhost': Booleano que puede ser muy útil en la etapa de análisis. [Qué es un 'SuperHost'?](https://www.airbnb.es/help/article/828/qu%C3%A9-es-un-superhost)\n",
        "* 'host_has_profile_pic': Mismo que 'host_is_superhost'\n",
        "* 'host_identity_verified': Mismo que 'host_is_superhost'\n",
        "\n",
        "Y descartamos: \n",
        "\n",
        "* 'host_id': No sirve como identificador. \n",
        "* 'host_response_time': La calidad de comunicación con el host está comprendido en la columna score_communication.\n",
        "* 'host_response_rate': Mismo que 'host_response_time'.\n",
        "* 'host_acceptance_rate':  NaN.\n",
        "* 'host_neighbourhood': Utilizaremos la columna 'host_location', NaN.\n",
        "* 'host_listings_count': Podemos calcularlo nosotros mismos. \n",
        "* 'host_total_listings_count': Mismo que 'host_listings_count'\n",
        "* 'host_verifications': Comprende el booleano 'host_identity_verified'\n",
        "\n"
      ]
    },
    {
      "cell_type": "markdown",
      "metadata": {
        "id": "RAo0a96Agwgh"
      },
      "source": [
        "##### **Información geográfica de la publicación**\n",
        "\n",
        "* Revisión general.\n",
        "* Relevamiento de NaN's por columna. "
      ]
    },
    {
      "cell_type": "code",
      "metadata": {
        "colab": {
          "base_uri": "https://localhost:8080/"
        },
        "id": "zIP0McpUg40h",
        "outputId": "bb4df671-30d6-4022-ebf0-7f58c216f85d"
      },
      "source": [
        "listado_info_geo = pd.DataFrame(listado[['street', 'neighbourhood', 'neighbourhood_cleansed', \n",
        "                                         'neighbourhood_group_cleansed', 'city', 'state', 'zipcode',\n",
        "                                         'market', 'smart_location', 'country_code', 'country',\n",
        "                                         'latitude', 'longitude', 'is_location_exact']])\n",
        "listado_info_geo.head()"
      ],
      "execution_count": null,
      "outputs": [
        {
          "output_type": "execute_result",
          "data": {
            "text/html": [
              "<div>\n",
              "<style scoped>\n",
              "    .dataframe tbody tr th:only-of-type {\n",
              "        vertical-align: middle;\n",
              "    }\n",
              "\n",
              "    .dataframe tbody tr th {\n",
              "        vertical-align: top;\n",
              "    }\n",
              "\n",
              "    .dataframe thead th {\n",
              "        text-align: right;\n",
              "    }\n",
              "</style>\n",
              "<table border=\"1\" class=\"dataframe\">\n",
              "  <thead>\n",
              "    <tr style=\"text-align: right;\">\n",
              "      <th></th>\n",
              "      <th>street</th>\n",
              "      <th>neighbourhood</th>\n",
              "      <th>neighbourhood_cleansed</th>\n",
              "      <th>neighbourhood_group_cleansed</th>\n",
              "      <th>city</th>\n",
              "      <th>state</th>\n",
              "      <th>zipcode</th>\n",
              "      <th>market</th>\n",
              "      <th>smart_location</th>\n",
              "      <th>country_code</th>\n",
              "      <th>country</th>\n",
              "      <th>latitude</th>\n",
              "      <th>longitude</th>\n",
              "      <th>is_location_exact</th>\n",
              "    </tr>\n",
              "  </thead>\n",
              "  <tbody>\n",
              "    <tr>\n",
              "      <th>0</th>\n",
              "      <td>Can Picafort, Illes Balears, Spain</td>\n",
              "      <td>NaN</td>\n",
              "      <td>Santa Margalida</td>\n",
              "      <td>NaN</td>\n",
              "      <td>Can Picafort</td>\n",
              "      <td>Illes Balears</td>\n",
              "      <td>07458</td>\n",
              "      <td>Mallorca Island</td>\n",
              "      <td>Can Picafort, Spain</td>\n",
              "      <td>ES</td>\n",
              "      <td>Spain</td>\n",
              "      <td>39.76347</td>\n",
              "      <td>3.16255</td>\n",
              "      <td>f</td>\n",
              "    </tr>\n",
              "    <tr>\n",
              "      <th>1</th>\n",
              "      <td>Maria de la Salut, Balearic Islands, Spain</td>\n",
              "      <td>NaN</td>\n",
              "      <td>Maria de la Salut</td>\n",
              "      <td>NaN</td>\n",
              "      <td>Maria de la Salut</td>\n",
              "      <td>Balearic Islands</td>\n",
              "      <td>07519</td>\n",
              "      <td>Mallorca Island</td>\n",
              "      <td>Maria de la Salut, Spain</td>\n",
              "      <td>ES</td>\n",
              "      <td>Spain</td>\n",
              "      <td>39.66044</td>\n",
              "      <td>3.07165</td>\n",
              "      <td>t</td>\n",
              "    </tr>\n",
              "    <tr>\n",
              "      <th>2</th>\n",
              "      <td>Sant Llorenç des Cardassar, Spain</td>\n",
              "      <td>NaN</td>\n",
              "      <td>Sant Llorenç des Cardassar</td>\n",
              "      <td>NaN</td>\n",
              "      <td>Sant Llorenç des Cardassar</td>\n",
              "      <td>NaN</td>\n",
              "      <td>07530</td>\n",
              "      <td>Mallorca Island</td>\n",
              "      <td>Sant Llorenç des Cardassar, Spain</td>\n",
              "      <td>ES</td>\n",
              "      <td>Spain</td>\n",
              "      <td>39.616</td>\n",
              "      <td>3.30121</td>\n",
              "      <td>f</td>\n",
              "    </tr>\n",
              "    <tr>\n",
              "      <th>3</th>\n",
              "      <td>Palma de Mallorca, PM, Spain</td>\n",
              "      <td>NaN</td>\n",
              "      <td>Palma de Mallorca</td>\n",
              "      <td>NaN</td>\n",
              "      <td>Palma de Mallorca</td>\n",
              "      <td>PM</td>\n",
              "      <td>07015</td>\n",
              "      <td>Mallorca Island</td>\n",
              "      <td>Palma de Mallorca, Spain</td>\n",
              "      <td>ES</td>\n",
              "      <td>Spain</td>\n",
              "      <td>39.56478</td>\n",
              "      <td>2.60333</td>\n",
              "      <td>f</td>\n",
              "    </tr>\n",
              "    <tr>\n",
              "      <th>4</th>\n",
              "      <td>Campos, Balearic Islands, Spain</td>\n",
              "      <td>NaN</td>\n",
              "      <td>Campos</td>\n",
              "      <td>NaN</td>\n",
              "      <td>Campos</td>\n",
              "      <td>Balearic Islands</td>\n",
              "      <td>07630</td>\n",
              "      <td>Mallorca Island</td>\n",
              "      <td>Campos, Spain</td>\n",
              "      <td>ES</td>\n",
              "      <td>Spain</td>\n",
              "      <td>39.396609999999995</td>\n",
              "      <td>3.08728</td>\n",
              "      <td>t</td>\n",
              "    </tr>\n",
              "  </tbody>\n",
              "</table>\n",
              "</div>"
            ],
            "text/plain": [
              "                                       street  ...  is_location_exact\n",
              "0          Can Picafort, Illes Balears, Spain  ...                  f\n",
              "1  Maria de la Salut, Balearic Islands, Spain  ...                  t\n",
              "2           Sant Llorenç des Cardassar, Spain  ...                  f\n",
              "3                Palma de Mallorca, PM, Spain  ...                  f\n",
              "4             Campos, Balearic Islands, Spain  ...                  t\n",
              "\n",
              "[5 rows x 14 columns]"
            ]
          },
          "metadata": {},
          "execution_count": 12
        }
      ]
    },
    {
      "cell_type": "code",
      "metadata": {
        "colab": {
          "base_uri": "https://localhost:8080/"
        },
        "id": "mITp84Yf8xj9",
        "outputId": "2634558d-2c3a-4c63-92e9-1cf1ebdf7f48"
      },
      "source": [
        "missings_info_geo = listado_info_geo.isnull().sum() * 100 / len(listado_info_geo)\n",
        "listado_missing_info_geo = pd.DataFrame({'column_name': listado_info_geo.columns,\n",
        "                                 'missings_info_geo': missings_info_geo})\n",
        "\n",
        "listado_missing_info_geo.sort_values('missings_info_geo', ascending = False, inplace=True)\n",
        "\n",
        "listado_missing_info_geo.head(14)"
      ],
      "execution_count": null,
      "outputs": [
        {
          "output_type": "execute_result",
          "data": {
            "text/html": [
              "<div>\n",
              "<style scoped>\n",
              "    .dataframe tbody tr th:only-of-type {\n",
              "        vertical-align: middle;\n",
              "    }\n",
              "\n",
              "    .dataframe tbody tr th {\n",
              "        vertical-align: top;\n",
              "    }\n",
              "\n",
              "    .dataframe thead th {\n",
              "        text-align: right;\n",
              "    }\n",
              "</style>\n",
              "<table border=\"1\" class=\"dataframe\">\n",
              "  <thead>\n",
              "    <tr style=\"text-align: right;\">\n",
              "      <th></th>\n",
              "      <th>column_name</th>\n",
              "      <th>missings_info_geo</th>\n",
              "    </tr>\n",
              "  </thead>\n",
              "  <tbody>\n",
              "    <tr>\n",
              "      <th>neighbourhood</th>\n",
              "      <td>neighbourhood</td>\n",
              "      <td>99.994038</td>\n",
              "    </tr>\n",
              "    <tr>\n",
              "      <th>neighbourhood_group_cleansed</th>\n",
              "      <td>neighbourhood_group_cleansed</td>\n",
              "      <td>99.994038</td>\n",
              "    </tr>\n",
              "    <tr>\n",
              "      <th>state</th>\n",
              "      <td>state</td>\n",
              "      <td>17.211160</td>\n",
              "    </tr>\n",
              "    <tr>\n",
              "      <th>zipcode</th>\n",
              "      <td>zipcode</td>\n",
              "      <td>2.557530</td>\n",
              "    </tr>\n",
              "    <tr>\n",
              "      <th>city</th>\n",
              "      <td>city</td>\n",
              "      <td>0.166925</td>\n",
              "    </tr>\n",
              "    <tr>\n",
              "      <th>market</th>\n",
              "      <td>market</td>\n",
              "      <td>0.017885</td>\n",
              "    </tr>\n",
              "    <tr>\n",
              "      <th>street</th>\n",
              "      <td>street</td>\n",
              "      <td>0.005962</td>\n",
              "    </tr>\n",
              "    <tr>\n",
              "      <th>neighbourhood_cleansed</th>\n",
              "      <td>neighbourhood_cleansed</td>\n",
              "      <td>0.005962</td>\n",
              "    </tr>\n",
              "    <tr>\n",
              "      <th>smart_location</th>\n",
              "      <td>smart_location</td>\n",
              "      <td>0.005962</td>\n",
              "    </tr>\n",
              "    <tr>\n",
              "      <th>country_code</th>\n",
              "      <td>country_code</td>\n",
              "      <td>0.005962</td>\n",
              "    </tr>\n",
              "    <tr>\n",
              "      <th>country</th>\n",
              "      <td>country</td>\n",
              "      <td>0.005962</td>\n",
              "    </tr>\n",
              "    <tr>\n",
              "      <th>latitude</th>\n",
              "      <td>latitude</td>\n",
              "      <td>0.005962</td>\n",
              "    </tr>\n",
              "    <tr>\n",
              "      <th>longitude</th>\n",
              "      <td>longitude</td>\n",
              "      <td>0.005962</td>\n",
              "    </tr>\n",
              "    <tr>\n",
              "      <th>is_location_exact</th>\n",
              "      <td>is_location_exact</td>\n",
              "      <td>0.005962</td>\n",
              "    </tr>\n",
              "  </tbody>\n",
              "</table>\n",
              "</div>"
            ],
            "text/plain": [
              "                                               column_name  missings_info_geo\n",
              "neighbourhood                                neighbourhood          99.994038\n",
              "neighbourhood_group_cleansed  neighbourhood_group_cleansed          99.994038\n",
              "state                                                state          17.211160\n",
              "zipcode                                            zipcode           2.557530\n",
              "city                                                  city           0.166925\n",
              "market                                              market           0.017885\n",
              "street                                              street           0.005962\n",
              "neighbourhood_cleansed              neighbourhood_cleansed           0.005962\n",
              "smart_location                              smart_location           0.005962\n",
              "country_code                                  country_code           0.005962\n",
              "country                                            country           0.005962\n",
              "latitude                                          latitude           0.005962\n",
              "longitude                                        longitude           0.005962\n",
              "is_location_exact                        is_location_exact           0.005962"
            ]
          },
          "metadata": {},
          "execution_count": 13
        }
      ]
    },
    {
      "cell_type": "code",
      "metadata": {
        "colab": {
          "base_uri": "https://localhost:8080/"
        },
        "id": "AFr9bX0z9D75",
        "outputId": "fb5c6da5-1a00-4455-e87e-ab12141b8756"
      },
      "source": [
        "prod_count_geo = pd.DataFrame(listado_missing_info_geo.sort_index().head(20))\n",
        "plt.figure()\n",
        "sns.set_theme(style=\"darkgrid\")\n",
        "sns.barplot(listado_missing_info_geo[:5].index, \n",
        "            listado_missing_info_geo[:5]['missings_info_geo'].values, alpha=1, color = 'Salmon')\n",
        "plt.title('NaN en Info. Geográfica')\n",
        "plt.ylabel('% De NaN', fontsize=12)\n",
        "plt.xlabel('Columnas', fontsize=12)\n",
        "plt.xticks(rotation=90)\n",
        "plt.show()"
      ],
      "execution_count": null,
      "outputs": [
        {
          "output_type": "stream",
          "name": "stderr",
          "text": [
            "/usr/local/lib/python3.7/dist-packages/seaborn/_decorators.py:43: FutureWarning:\n",
            "\n",
            "Pass the following variables as keyword args: x, y. From version 0.12, the only valid positional argument will be `data`, and passing other arguments without an explicit keyword will result in an error or misinterpretation.\n",
            "\n"
          ]
        },
        {
          "output_type": "display_data",
          "data": {
            "image/png": "[encoded data removed]",
            "text/plain": [
              "<Figure size 432x288 with 1 Axes>"
            ]
          },
          "metadata": {}
        }
      ]
    },
    {
      "cell_type": "markdown",
      "metadata": {
        "id": "rhDWXDBahEUC"
      },
      "source": [
        "De las 14 columnas del subset nos quedamos con la(s) siguiente(s): \n",
        "\n",
        "\n",
        "* 'neighbourhood_cleansed': Variable procesada que nos permitirá ubicar las publicaciones geográficamente. \n",
        "* 'latitude': Mismo que 'neighbourhood_cleansed'.\n",
        "* 'longitude': Mismo que 'neighbourhood_cleansed'.\n",
        "\n",
        "Y descartamos: \n",
        "\n",
        "* 'neighbourhood': NaN\n",
        "* 'neighbourhood_group_cleansed': NaN\n",
        "* 'city': Vamos a usar 'neighbourhood_cleansed'.\n",
        "* 'street': Mismo que 'city'.\n",
        "* 'zipcode': Mismo que 'city'.\n",
        "* 'smart_location': Mismo que 'city'. \n",
        "* 'state': Islas Baleares, Illes Balears.\n",
        "* 'market' Mallorca Island.\n",
        "* 'country_code': ES.\n",
        "* 'country': Spain, España.\n",
        "* 'is_location_exact': No sirve ya que contiene un margen de error de hasta 150 metros. [Airbnb Disclaimers](http://insideairbnb.com/about.html#disclaimers)\n",
        "\n",
        "\n",
        "\n"
      ]
    },
    {
      "cell_type": "markdown",
      "metadata": {
        "id": "VFKMy5tZlJ-J"
      },
      "source": [
        "##### **Información de la propiedad y el alquiler**\n",
        "\n",
        "* Revisión general.\n",
        "* Relevamiento de NaN's por columna. "
      ]
    },
    {
      "cell_type": "code",
      "metadata": {
        "colab": {
          "base_uri": "https://localhost:8080/"
        },
        "id": "SGuEat4llYO0",
        "outputId": "433ac9ed-a8c1-4f93-db25-7335c41f5d91"
      },
      "source": [
        "listado_info_alquiler = pd.DataFrame(listado[['property_type', 'room_type', 'accommodates', 'bathrooms', \n",
        "                                         'bedrooms', 'beds', 'bed_type', 'amenities', 'square_feet',\n",
        "                                         'price', 'weekly_price', 'monthly_price', 'security_deposit',\n",
        "                                         'cleaning_fee', 'guests_included', 'extra_people', 'minimum_nights',\n",
        "                                         'maximum_nights', 'minimum_minimum_nights', 'maximum_minimum_nights',\n",
        "                                         'minimum_maximum_nights', 'maximum_maximum_nights', 'minimum_nights_avg_ntm',\n",
        "                                         'maximum_nights_avg_ntm', 'calendar_updated', 'has_availability', 'availability_30', \n",
        "                                         'availability_60', 'availability_90', 'availability_365', 'calendar_last_scraped']])\n",
        "listado_info_alquiler.head()"
      ],
      "execution_count": null,
      "outputs": [
        {
          "output_type": "execute_result",
          "data": {
            "text/html": [
              "<div>\n",
              "<style scoped>\n",
              "    .dataframe tbody tr th:only-of-type {\n",
              "        vertical-align: middle;\n",
              "    }\n",
              "\n",
              "    .dataframe tbody tr th {\n",
              "        vertical-align: top;\n",
              "    }\n",
              "\n",
              "    .dataframe thead th {\n",
              "        text-align: right;\n",
              "    }\n",
              "</style>\n",
              "<table border=\"1\" class=\"dataframe\">\n",
              "  <thead>\n",
              "    <tr style=\"text-align: right;\">\n",
              "      <th></th>\n",
              "      <th>property_type</th>\n",
              "      <th>room_type</th>\n",
              "      <th>accommodates</th>\n",
              "      <th>bathrooms</th>\n",
              "      <th>bedrooms</th>\n",
              "      <th>beds</th>\n",
              "      <th>bed_type</th>\n",
              "      <th>amenities</th>\n",
              "      <th>square_feet</th>\n",
              "      <th>price</th>\n",
              "      <th>weekly_price</th>\n",
              "      <th>monthly_price</th>\n",
              "      <th>security_deposit</th>\n",
              "      <th>cleaning_fee</th>\n",
              "      <th>guests_included</th>\n",
              "      <th>extra_people</th>\n",
              "      <th>minimum_nights</th>\n",
              "      <th>maximum_nights</th>\n",
              "      <th>minimum_minimum_nights</th>\n",
              "      <th>maximum_minimum_nights</th>\n",
              "      <th>minimum_maximum_nights</th>\n",
              "      <th>maximum_maximum_nights</th>\n",
              "      <th>minimum_nights_avg_ntm</th>\n",
              "      <th>maximum_nights_avg_ntm</th>\n",
              "      <th>calendar_updated</th>\n",
              "      <th>has_availability</th>\n",
              "      <th>availability_30</th>\n",
              "      <th>availability_60</th>\n",
              "      <th>availability_90</th>\n",
              "      <th>availability_365</th>\n",
              "      <th>calendar_last_scraped</th>\n",
              "    </tr>\n",
              "  </thead>\n",
              "  <tbody>\n",
              "    <tr>\n",
              "      <th>0</th>\n",
              "      <td>House</td>\n",
              "      <td>Entire home/apt</td>\n",
              "      <td>8.0</td>\n",
              "      <td>3.0</td>\n",
              "      <td>4.0</td>\n",
              "      <td>7.0</td>\n",
              "      <td>Real Bed</td>\n",
              "      <td>{TV,\"Cable TV\",Internet,Wifi,\"Air conditioning...</td>\n",
              "      <td>NaN</td>\n",
              "      <td>$155.00</td>\n",
              "      <td>NaN</td>\n",
              "      <td>NaN</td>\n",
              "      <td>$0.00</td>\n",
              "      <td>$100.00</td>\n",
              "      <td>1.0</td>\n",
              "      <td>$0.00</td>\n",
              "      <td>4</td>\n",
              "      <td>365.0</td>\n",
              "      <td>4.0</td>\n",
              "      <td>4.0</td>\n",
              "      <td>365.0</td>\n",
              "      <td>365.0</td>\n",
              "      <td>4.0</td>\n",
              "      <td>365.0</td>\n",
              "      <td>today</td>\n",
              "      <td>t</td>\n",
              "      <td>0.0</td>\n",
              "      <td>0</td>\n",
              "      <td>0</td>\n",
              "      <td>0</td>\n",
              "      <td>2019-06-27</td>\n",
              "    </tr>\n",
              "    <tr>\n",
              "      <th>1</th>\n",
              "      <td>Townhouse</td>\n",
              "      <td>Entire home/apt</td>\n",
              "      <td>6.0</td>\n",
              "      <td>2.0</td>\n",
              "      <td>3.0</td>\n",
              "      <td>4.0</td>\n",
              "      <td>Real Bed</td>\n",
              "      <td>{TV,\"Cable TV\",Wifi,\"Air conditioning\",Pool,Ki...</td>\n",
              "      <td>NaN</td>\n",
              "      <td>$90.00</td>\n",
              "      <td>NaN</td>\n",
              "      <td>NaN</td>\n",
              "      <td>NaN</td>\n",
              "      <td>NaN</td>\n",
              "      <td>4.0</td>\n",
              "      <td>$10.00</td>\n",
              "      <td>7</td>\n",
              "      <td>365.0</td>\n",
              "      <td>7.0</td>\n",
              "      <td>7.0</td>\n",
              "      <td>365.0</td>\n",
              "      <td>365.0</td>\n",
              "      <td>7.0</td>\n",
              "      <td>365.0</td>\n",
              "      <td>today</td>\n",
              "      <td>t</td>\n",
              "      <td>0.0</td>\n",
              "      <td>4</td>\n",
              "      <td>10</td>\n",
              "      <td>248</td>\n",
              "      <td>2019-06-27</td>\n",
              "    </tr>\n",
              "    <tr>\n",
              "      <th>2</th>\n",
              "      <td>Villa</td>\n",
              "      <td>Entire home/apt</td>\n",
              "      <td>5.0</td>\n",
              "      <td>NaN</td>\n",
              "      <td>2.0</td>\n",
              "      <td>4.0</td>\n",
              "      <td>Real Bed</td>\n",
              "      <td>{TV,\"Cable TV\",Internet,Wifi,\"Air conditioning...</td>\n",
              "      <td>NaN</td>\n",
              "      <td>$84.00</td>\n",
              "      <td>NaN</td>\n",
              "      <td>NaN</td>\n",
              "      <td>NaN</td>\n",
              "      <td>$100.00</td>\n",
              "      <td>1.0</td>\n",
              "      <td>$0.00</td>\n",
              "      <td>5</td>\n",
              "      <td>365.0</td>\n",
              "      <td>5.0</td>\n",
              "      <td>5.0</td>\n",
              "      <td>365.0</td>\n",
              "      <td>365.0</td>\n",
              "      <td>5.0</td>\n",
              "      <td>365.0</td>\n",
              "      <td>today</td>\n",
              "      <td>t</td>\n",
              "      <td>0.0</td>\n",
              "      <td>6</td>\n",
              "      <td>19</td>\n",
              "      <td>294</td>\n",
              "      <td>2019-06-27</td>\n",
              "    </tr>\n",
              "    <tr>\n",
              "      <th>3</th>\n",
              "      <td>Apartment</td>\n",
              "      <td>Private room</td>\n",
              "      <td>2.0</td>\n",
              "      <td>1.0</td>\n",
              "      <td>1.0</td>\n",
              "      <td>2.0</td>\n",
              "      <td>Real Bed</td>\n",
              "      <td>{TV,Wifi,\"Air conditioning\",Pool,Kitchen,Eleva...</td>\n",
              "      <td>NaN</td>\n",
              "      <td>$110.00</td>\n",
              "      <td>$426.00</td>\n",
              "      <td>$1,600.00</td>\n",
              "      <td>$0.00</td>\n",
              "      <td>$25.00</td>\n",
              "      <td>1.0</td>\n",
              "      <td>$0.00</td>\n",
              "      <td>2</td>\n",
              "      <td>365.0</td>\n",
              "      <td>2.0</td>\n",
              "      <td>2.0</td>\n",
              "      <td>365.0</td>\n",
              "      <td>365.0</td>\n",
              "      <td>2.0</td>\n",
              "      <td>365.0</td>\n",
              "      <td>2 weeks ago</td>\n",
              "      <td>t</td>\n",
              "      <td>7.0</td>\n",
              "      <td>31</td>\n",
              "      <td>31</td>\n",
              "      <td>300</td>\n",
              "      <td>2019-06-27</td>\n",
              "    </tr>\n",
              "    <tr>\n",
              "      <th>4</th>\n",
              "      <td>Villa</td>\n",
              "      <td>Private room</td>\n",
              "      <td>3.0</td>\n",
              "      <td>1.0</td>\n",
              "      <td>1.0</td>\n",
              "      <td>3.0</td>\n",
              "      <td>Real Bed</td>\n",
              "      <td>{TV,Wifi,Pool,Kitchen,\"Free parking on premise...</td>\n",
              "      <td>NaN</td>\n",
              "      <td>$120.00</td>\n",
              "      <td>$780.00</td>\n",
              "      <td>NaN</td>\n",
              "      <td>$200.00</td>\n",
              "      <td>$40.00</td>\n",
              "      <td>2.0</td>\n",
              "      <td>$10.00</td>\n",
              "      <td>3</td>\n",
              "      <td>30.0</td>\n",
              "      <td>3.0</td>\n",
              "      <td>3.0</td>\n",
              "      <td>30.0</td>\n",
              "      <td>30.0</td>\n",
              "      <td>3.0</td>\n",
              "      <td>30.0</td>\n",
              "      <td>3 months ago</td>\n",
              "      <td>t</td>\n",
              "      <td>19.0</td>\n",
              "      <td>37</td>\n",
              "      <td>60</td>\n",
              "      <td>240</td>\n",
              "      <td>2019-06-27</td>\n",
              "    </tr>\n",
              "  </tbody>\n",
              "</table>\n",
              "</div>"
            ],
            "text/plain": [
              "  property_type        room_type  ...  availability_365  calendar_last_scraped\n",
              "0         House  Entire home/apt  ...                 0             2019-06-27\n",
              "1     Townhouse  Entire home/apt  ...               248             2019-06-27\n",
              "2         Villa  Entire home/apt  ...               294             2019-06-27\n",
              "3     Apartment     Private room  ...               300             2019-06-27\n",
              "4         Villa     Private room  ...               240             2019-06-27\n",
              "\n",
              "[5 rows x 31 columns]"
            ]
          },
          "metadata": {},
          "execution_count": 15
        }
      ]
    },
    {
      "cell_type": "code",
      "metadata": {
        "colab": {
          "base_uri": "https://localhost:8080/"
        },
        "id": "ult8iUZM9Wg3",
        "outputId": "fbb66914-0f11-4ce0-9e8f-5a3efac86403"
      },
      "source": [
        "missings_info_alquiler = listado_info_alquiler.isnull().sum() * 100 / len(listado_info_alquiler)\n",
        "listado_missing_info_alquiler = pd.DataFrame({'column_name': listado_info_alquiler.columns,\n",
        "                                 'missings_info_alquiler': missings_info_alquiler})\n",
        "\n",
        "listado_missing_info_alquiler.sort_values('missings_info_alquiler', ascending = False, inplace=True)\n",
        "\n",
        "listado_missing_info_alquiler.head(14)"
      ],
      "execution_count": null,
      "outputs": [
        {
          "output_type": "execute_result",
          "data": {
            "text/html": [
              "<div>\n",
              "<style scoped>\n",
              "    .dataframe tbody tr th:only-of-type {\n",
              "        vertical-align: middle;\n",
              "    }\n",
              "\n",
              "    .dataframe tbody tr th {\n",
              "        vertical-align: top;\n",
              "    }\n",
              "\n",
              "    .dataframe thead th {\n",
              "        text-align: right;\n",
              "    }\n",
              "</style>\n",
              "<table border=\"1\" class=\"dataframe\">\n",
              "  <thead>\n",
              "    <tr style=\"text-align: right;\">\n",
              "      <th></th>\n",
              "      <th>column_name</th>\n",
              "      <th>missings_info_alquiler</th>\n",
              "    </tr>\n",
              "  </thead>\n",
              "  <tbody>\n",
              "    <tr>\n",
              "      <th>square_feet</th>\n",
              "      <td>square_feet</td>\n",
              "      <td>98.640754</td>\n",
              "    </tr>\n",
              "    <tr>\n",
              "      <th>monthly_price</th>\n",
              "      <td>monthly_price</td>\n",
              "      <td>97.955169</td>\n",
              "    </tr>\n",
              "    <tr>\n",
              "      <th>weekly_price</th>\n",
              "      <td>weekly_price</td>\n",
              "      <td>96.804579</td>\n",
              "    </tr>\n",
              "    <tr>\n",
              "      <th>security_deposit</th>\n",
              "      <td>security_deposit</td>\n",
              "      <td>25.283176</td>\n",
              "    </tr>\n",
              "    <tr>\n",
              "      <th>cleaning_fee</th>\n",
              "      <td>cleaning_fee</td>\n",
              "      <td>24.818171</td>\n",
              "    </tr>\n",
              "    <tr>\n",
              "      <th>beds</th>\n",
              "      <td>beds</td>\n",
              "      <td>0.506737</td>\n",
              "    </tr>\n",
              "    <tr>\n",
              "      <th>bedrooms</th>\n",
              "      <td>bedrooms</td>\n",
              "      <td>0.059616</td>\n",
              "    </tr>\n",
              "    <tr>\n",
              "      <th>bathrooms</th>\n",
              "      <td>bathrooms</td>\n",
              "      <td>0.047693</td>\n",
              "    </tr>\n",
              "    <tr>\n",
              "      <th>availability_30</th>\n",
              "      <td>availability_30</td>\n",
              "      <td>0.011923</td>\n",
              "    </tr>\n",
              "    <tr>\n",
              "      <th>has_availability</th>\n",
              "      <td>has_availability</td>\n",
              "      <td>0.011923</td>\n",
              "    </tr>\n",
              "    <tr>\n",
              "      <th>minimum_nights_avg_ntm</th>\n",
              "      <td>minimum_nights_avg_ntm</td>\n",
              "      <td>0.005962</td>\n",
              "    </tr>\n",
              "    <tr>\n",
              "      <th>maximum_nights_avg_ntm</th>\n",
              "      <td>maximum_nights_avg_ntm</td>\n",
              "      <td>0.005962</td>\n",
              "    </tr>\n",
              "    <tr>\n",
              "      <th>calendar_updated</th>\n",
              "      <td>calendar_updated</td>\n",
              "      <td>0.005962</td>\n",
              "    </tr>\n",
              "    <tr>\n",
              "      <th>property_type</th>\n",
              "      <td>property_type</td>\n",
              "      <td>0.005962</td>\n",
              "    </tr>\n",
              "  </tbody>\n",
              "</table>\n",
              "</div>"
            ],
            "text/plain": [
              "                                   column_name  missings_info_alquiler\n",
              "square_feet                        square_feet               98.640754\n",
              "monthly_price                    monthly_price               97.955169\n",
              "weekly_price                      weekly_price               96.804579\n",
              "security_deposit              security_deposit               25.283176\n",
              "cleaning_fee                      cleaning_fee               24.818171\n",
              "beds                                      beds                0.506737\n",
              "bedrooms                              bedrooms                0.059616\n",
              "bathrooms                            bathrooms                0.047693\n",
              "availability_30                availability_30                0.011923\n",
              "has_availability              has_availability                0.011923\n",
              "minimum_nights_avg_ntm  minimum_nights_avg_ntm                0.005962\n",
              "maximum_nights_avg_ntm  maximum_nights_avg_ntm                0.005962\n",
              "calendar_updated              calendar_updated                0.005962\n",
              "property_type                    property_type                0.005962"
            ]
          },
          "metadata": {},
          "execution_count": 16
        }
      ]
    },
    {
      "cell_type": "code",
      "metadata": {
        "colab": {
          "base_uri": "https://localhost:8080/"
        },
        "id": "hsx_yXrq9WeQ",
        "outputId": "56274d7c-d185-4271-b53b-729b277ccaad"
      },
      "source": [
        "prod_count_alquiler = pd.DataFrame(listado_missing_info_alquiler.sort_index().head(20))\n",
        "plt.figure()\n",
        "sns.set_theme(style=\"darkgrid\")\n",
        "sns.barplot(listado_missing_info_alquiler[:6].index, \n",
        "            listado_missing_info_alquiler[:6]['missings_info_alquiler'].values, alpha=1, color = 'Salmon')\n",
        "plt.title('NaN en Info. Alquiler')\n",
        "plt.ylabel('% De NaN', fontsize=12)\n",
        "plt.xlabel('Columnas', fontsize=12)\n",
        "plt.xticks(rotation=90)\n",
        "plt.show()"
      ],
      "execution_count": null,
      "outputs": [
        {
          "output_type": "stream",
          "name": "stderr",
          "text": [
            "/usr/local/lib/python3.7/dist-packages/seaborn/_decorators.py:43: FutureWarning:\n",
            "\n",
            "Pass the following variables as keyword args: x, y. From version 0.12, the only valid positional argument will be `data`, and passing other arguments without an explicit keyword will result in an error or misinterpretation.\n",
            "\n"
          ]
        },
        {
          "output_type": "display_data",
          "data": {
            "image/png": "[encoded data removed]",
            "text/plain": [
              "<Figure size 432x288 with 1 Axes>"
            ]
          },
          "metadata": {}
        }
      ]
    },
    {
      "cell_type": "markdown",
      "metadata": {
        "id": "eIxVQ1mGllez"
      },
      "source": [
        "De las 31 columnas del subset nos quedamos con la(s) siguiente(s): \n",
        "\n",
        "* 'property_type': Variable categórica. \n",
        "* 'room_type': Variable categórica. \n",
        "* 'accommodates': Variable numérica. \n",
        "* 'bathrooms': Variable numérica. \n",
        "* 'bedrooms': Variable numérica. \n",
        "* 'beds': Variable numérica. \n",
        "* 'bed_type': Variable categórica. \n",
        "* 'amenities': Se puede llegar a filtrar por ciertas amenities. \n",
        "* 'price': Costo por noche. \n",
        "* 'security_deposit': Costo relevante. \n",
        "* 'cleaning_fee': Mismo que 'security_deposit'. \n",
        "* 'guests_included': Variable numérica. \n",
        "* 'extra_people': Costo relevante. \n",
        "* 'minimum_nights': Variable numérica. \n",
        "\n",
        "Y descartamos: \n",
        "\n",
        "* 'square_feet': NaN\n",
        "* 'weekly_price': NaN. \n",
        "* 'monthly_price': NaN.  \n",
        "* 'maximum_nights': Valores altos, generlmente 365. \n",
        "* 'minimum_minimum_nights': Valor repetido. \n",
        "* 'maximum_minimum_nights': Valor repetido.\n",
        "* 'minimum_maximum_nights': Valor repetido.\n",
        "* 'maximum_maximum_nights': Valor repetido.\n",
        "* 'minimum_nights_avg_ntm': Valor repetido.\n",
        "* 'maximum_nights_avg_ntm': Valor repetido.\n",
        "* 'calendar_updated': Variable que se actualiza constantemente, no la podemos explotar. \n",
        "* 'has_availability': Mismo que 'calendar_updated'.\n",
        "* 'availability_30': Mismo que 'calendar_updated'.\n",
        "* 'availability_60': Mismo que 'calendar_updated'.\n",
        "* 'availability_90': Mismo que 'calendar_updated'.\n",
        "* 'availability_365': Mismo que 'calendar_updated'.\n",
        "* 'calendar_last_scraped': Mismo que 'calendar_updated'."
      ]
    },
    {
      "cell_type": "markdown",
      "metadata": {
        "id": "vLqHpCWBpWuN"
      },
      "source": [
        "##### **Información Reviews**\n",
        "\n",
        "* Revisión general.\n",
        "* Relevamiento de NaN's por columna. "
      ]
    },
    {
      "cell_type": "code",
      "metadata": {
        "colab": {
          "base_uri": "https://localhost:8080/"
        },
        "id": "mPa5skpqp4OZ",
        "outputId": "95de7e83-160d-4e61-ac64-56a6fe6ad09c"
      },
      "source": [
        "listado_info_reviews = pd.DataFrame(listado[['number_of_reviews', 'number_of_reviews_ltm', 'first_review',\n",
        "                                              'last_review', 'review_scores_rating', 'review_scores_accuracy',\n",
        "                                              'review_scores_cleanliness', 'review_scores_checkin',\n",
        "                                              'review_scores_communication', 'review_scores_location', 'review_scores_value']])\n",
        "listado_info_reviews.head()"
      ],
      "execution_count": null,
      "outputs": [
        {
          "output_type": "execute_result",
          "data": {
            "text/html": [
              "<div>\n",
              "<style scoped>\n",
              "    .dataframe tbody tr th:only-of-type {\n",
              "        vertical-align: middle;\n",
              "    }\n",
              "\n",
              "    .dataframe tbody tr th {\n",
              "        vertical-align: top;\n",
              "    }\n",
              "\n",
              "    .dataframe thead th {\n",
              "        text-align: right;\n",
              "    }\n",
              "</style>\n",
              "<table border=\"1\" class=\"dataframe\">\n",
              "  <thead>\n",
              "    <tr style=\"text-align: right;\">\n",
              "      <th></th>\n",
              "      <th>number_of_reviews</th>\n",
              "      <th>number_of_reviews_ltm</th>\n",
              "      <th>first_review</th>\n",
              "      <th>last_review</th>\n",
              "      <th>review_scores_rating</th>\n",
              "      <th>review_scores_accuracy</th>\n",
              "      <th>review_scores_cleanliness</th>\n",
              "      <th>review_scores_checkin</th>\n",
              "      <th>review_scores_communication</th>\n",
              "      <th>review_scores_location</th>\n",
              "      <th>review_scores_value</th>\n",
              "    </tr>\n",
              "  </thead>\n",
              "  <tbody>\n",
              "    <tr>\n",
              "      <th>0</th>\n",
              "      <td>20</td>\n",
              "      <td>20.0</td>\n",
              "      <td>2018-10-06</td>\n",
              "      <td>2019-04-27</td>\n",
              "      <td>99.0</td>\n",
              "      <td>10.0</td>\n",
              "      <td>10.0</td>\n",
              "      <td>10.0</td>\n",
              "      <td>10.0</td>\n",
              "      <td>9.0</td>\n",
              "      <td>10.0</td>\n",
              "    </tr>\n",
              "    <tr>\n",
              "      <th>1</th>\n",
              "      <td>13</td>\n",
              "      <td>4.0</td>\n",
              "      <td>2012-06-19</td>\n",
              "      <td>2019-05-09</td>\n",
              "      <td>97.0</td>\n",
              "      <td>10.0</td>\n",
              "      <td>10.0</td>\n",
              "      <td>10.0</td>\n",
              "      <td>10.0</td>\n",
              "      <td>9.0</td>\n",
              "      <td>10.0</td>\n",
              "    </tr>\n",
              "    <tr>\n",
              "      <th>2</th>\n",
              "      <td>9</td>\n",
              "      <td>2.0</td>\n",
              "      <td>2012-06-05</td>\n",
              "      <td>2018-08-13</td>\n",
              "      <td>98.0</td>\n",
              "      <td>10.0</td>\n",
              "      <td>10.0</td>\n",
              "      <td>10.0</td>\n",
              "      <td>10.0</td>\n",
              "      <td>9.0</td>\n",
              "      <td>9.0</td>\n",
              "    </tr>\n",
              "    <tr>\n",
              "      <th>3</th>\n",
              "      <td>0</td>\n",
              "      <td>0.0</td>\n",
              "      <td>NaN</td>\n",
              "      <td>NaN</td>\n",
              "      <td>NaN</td>\n",
              "      <td>NaN</td>\n",
              "      <td>NaN</td>\n",
              "      <td>NaN</td>\n",
              "      <td>NaN</td>\n",
              "      <td>NaN</td>\n",
              "      <td>NaN</td>\n",
              "    </tr>\n",
              "    <tr>\n",
              "      <th>4</th>\n",
              "      <td>37</td>\n",
              "      <td>9.0</td>\n",
              "      <td>2012-06-14</td>\n",
              "      <td>2018-10-07</td>\n",
              "      <td>94.0</td>\n",
              "      <td>10.0</td>\n",
              "      <td>9.0</td>\n",
              "      <td>10.0</td>\n",
              "      <td>10.0</td>\n",
              "      <td>9.0</td>\n",
              "      <td>9.0</td>\n",
              "    </tr>\n",
              "  </tbody>\n",
              "</table>\n",
              "</div>"
            ],
            "text/plain": [
              "  number_of_reviews  ...  review_scores_value\n",
              "0                20  ...                 10.0\n",
              "1                13  ...                 10.0\n",
              "2                 9  ...                  9.0\n",
              "3                 0  ...                  NaN\n",
              "4                37  ...                  9.0\n",
              "\n",
              "[5 rows x 11 columns]"
            ]
          },
          "metadata": {},
          "execution_count": 18
        }
      ]
    },
    {
      "cell_type": "code",
      "metadata": {
        "colab": {
          "base_uri": "https://localhost:8080/"
        },
        "id": "poP2fcde90Jo",
        "outputId": "ccf8007a-271c-470d-a37e-e7c0ed81eadc"
      },
      "source": [
        "missings_info_reviews = listado_info_reviews.isnull().sum() * 100 / len(listado_info_reviews)\n",
        "listado_missing_info_reviews = pd.DataFrame({'column_name': listado_info_reviews.columns,\n",
        "                                 'missings_info_reviews': missings_info_reviews})\n",
        "\n",
        "listado_missing_info_reviews.sort_values('missings_info_reviews', ascending = False, inplace=True)\n",
        "\n",
        "listado_missing_info_reviews.head(14)"
      ],
      "execution_count": null,
      "outputs": [
        {
          "output_type": "execute_result",
          "data": {
            "text/html": [
              "<div>\n",
              "<style scoped>\n",
              "    .dataframe tbody tr th:only-of-type {\n",
              "        vertical-align: middle;\n",
              "    }\n",
              "\n",
              "    .dataframe tbody tr th {\n",
              "        vertical-align: top;\n",
              "    }\n",
              "\n",
              "    .dataframe thead th {\n",
              "        text-align: right;\n",
              "    }\n",
              "</style>\n",
              "<table border=\"1\" class=\"dataframe\">\n",
              "  <thead>\n",
              "    <tr style=\"text-align: right;\">\n",
              "      <th></th>\n",
              "      <th>column_name</th>\n",
              "      <th>missings_info_reviews</th>\n",
              "    </tr>\n",
              "  </thead>\n",
              "  <tbody>\n",
              "    <tr>\n",
              "      <th>review_scores_value</th>\n",
              "      <td>review_scores_value</td>\n",
              "      <td>41.665673</td>\n",
              "    </tr>\n",
              "    <tr>\n",
              "      <th>review_scores_checkin</th>\n",
              "      <td>review_scores_checkin</td>\n",
              "      <td>41.653750</td>\n",
              "    </tr>\n",
              "    <tr>\n",
              "      <th>review_scores_location</th>\n",
              "      <td>review_scores_location</td>\n",
              "      <td>41.653750</td>\n",
              "    </tr>\n",
              "    <tr>\n",
              "      <th>review_scores_communication</th>\n",
              "      <td>review_scores_communication</td>\n",
              "      <td>41.647788</td>\n",
              "    </tr>\n",
              "    <tr>\n",
              "      <th>review_scores_accuracy</th>\n",
              "      <td>review_scores_accuracy</td>\n",
              "      <td>41.623942</td>\n",
              "    </tr>\n",
              "    <tr>\n",
              "      <th>review_scores_cleanliness</th>\n",
              "      <td>review_scores_cleanliness</td>\n",
              "      <td>41.617980</td>\n",
              "    </tr>\n",
              "    <tr>\n",
              "      <th>review_scores_rating</th>\n",
              "      <td>review_scores_rating</td>\n",
              "      <td>41.600095</td>\n",
              "    </tr>\n",
              "    <tr>\n",
              "      <th>first_review</th>\n",
              "      <td>first_review</td>\n",
              "      <td>40.199118</td>\n",
              "    </tr>\n",
              "    <tr>\n",
              "      <th>last_review</th>\n",
              "      <td>last_review</td>\n",
              "      <td>40.199118</td>\n",
              "    </tr>\n",
              "    <tr>\n",
              "      <th>number_of_reviews</th>\n",
              "      <td>number_of_reviews</td>\n",
              "      <td>0.005962</td>\n",
              "    </tr>\n",
              "    <tr>\n",
              "      <th>number_of_reviews_ltm</th>\n",
              "      <td>number_of_reviews_ltm</td>\n",
              "      <td>0.005962</td>\n",
              "    </tr>\n",
              "  </tbody>\n",
              "</table>\n",
              "</div>"
            ],
            "text/plain": [
              "                                             column_name  missings_info_reviews\n",
              "review_scores_value                  review_scores_value              41.665673\n",
              "review_scores_checkin              review_scores_checkin              41.653750\n",
              "review_scores_location            review_scores_location              41.653750\n",
              "review_scores_communication  review_scores_communication              41.647788\n",
              "review_scores_accuracy            review_scores_accuracy              41.623942\n",
              "review_scores_cleanliness      review_scores_cleanliness              41.617980\n",
              "review_scores_rating                review_scores_rating              41.600095\n",
              "first_review                                first_review              40.199118\n",
              "last_review                                  last_review              40.199118\n",
              "number_of_reviews                      number_of_reviews               0.005962\n",
              "number_of_reviews_ltm              number_of_reviews_ltm               0.005962"
            ]
          },
          "metadata": {},
          "execution_count": 19
        }
      ]
    },
    {
      "cell_type": "code",
      "metadata": {
        "colab": {
          "base_uri": "https://localhost:8080/"
        },
        "id": "qzPk4wE990HM",
        "outputId": "6069f5df-8641-44d8-919a-8adbf607f354"
      },
      "source": [
        "prod_count_reviews = pd.DataFrame(listado_missing_info_reviews.sort_index().head(20))\n",
        "plt.figure()\n",
        "sns.set_theme(style=\"darkgrid\")\n",
        "sns.barplot(listado_missing_info_reviews[:10].index,\n",
        "            listado_missing_info_reviews[:10]['missings_info_reviews'].values, alpha=1, color = 'Salmon')\n",
        "plt.title('NaN en Info. Reviews')\n",
        "plt.ylabel('% De NaN', fontsize=12)\n",
        "plt.xlabel('Columnas', fontsize=12)\n",
        "plt.xticks(rotation=90)\n",
        "plt.show()"
      ],
      "execution_count": null,
      "outputs": [
        {
          "output_type": "stream",
          "name": "stderr",
          "text": [
            "/usr/local/lib/python3.7/dist-packages/seaborn/_decorators.py:43: FutureWarning:\n",
            "\n",
            "Pass the following variables as keyword args: x, y. From version 0.12, the only valid positional argument will be `data`, and passing other arguments without an explicit keyword will result in an error or misinterpretation.\n",
            "\n"
          ]
        },
        {
          "output_type": "display_data",
          "data": {
            "image/png": "[encoded data removed]",
            "text/plain": [
              "<Figure size 432x288 with 1 Axes>"
            ]
          },
          "metadata": {}
        }
      ]
    },
    {
      "cell_type": "markdown",
      "metadata": {
        "id": "USQ5tT4jqLHY"
      },
      "source": [
        "De las 11 columnas del subset nos quedamos con la(s) siguiente(s): \n",
        "\n",
        "* 'number_of_reviews': Cantidad de reviews de la publicación. \n",
        "* 'first_review': Variable de serie temporal a la que se le puede dar uso. \n",
        "* 'last_review': Mismo que 'first_review'. \n",
        "* 'review_scores_XXX': Vamos a intentar usar todas las variables de este tipo, aunque presenten un valor alto de NaN. \n",
        "\n",
        "Y descartamos: \n",
        "\n",
        "'number_of_reviews_ltm': Valor repetido. "
      ]
    },
    {
      "cell_type": "markdown",
      "metadata": {
        "id": "LTqd14y8sCk1"
      },
      "source": [
        "##### **Otros**\n",
        "\n",
        "* Revisión general.\n",
        "* Relevamiento de NaN's por columna. "
      ]
    },
    {
      "cell_type": "code",
      "metadata": {
        "colab": {
          "base_uri": "https://localhost:8080/"
        },
        "id": "JJSo53pOsKgX",
        "outputId": "040cba0d-17ca-42ce-af09-0e5063be32fd"
      },
      "source": [
        "listado_info_otros = pd.DataFrame(listado[['requires_license', 'license', 'jurisdiction_names',\n",
        "                                             'instant_bookable', 'is_business_travel_ready', 'cancellation_policy',\n",
        "                                             'require_guest_profile_picture', 'require_guest_phone_verification',\n",
        "                                             'calculated_host_listings_count', 'calculated_host_listings_count_entire_homes',\n",
        "                                             'calculated_host_listings_count_private_rooms', \n",
        "                                             'calculated_host_listings_count_shared_rooms', 'reviews_per_month']])\n",
        "listado_info_otros.head()"
      ],
      "execution_count": null,
      "outputs": [
        {
          "output_type": "execute_result",
          "data": {
            "text/html": [
              "<div>\n",
              "<style scoped>\n",
              "    .dataframe tbody tr th:only-of-type {\n",
              "        vertical-align: middle;\n",
              "    }\n",
              "\n",
              "    .dataframe tbody tr th {\n",
              "        vertical-align: top;\n",
              "    }\n",
              "\n",
              "    .dataframe thead th {\n",
              "        text-align: right;\n",
              "    }\n",
              "</style>\n",
              "<table border=\"1\" class=\"dataframe\">\n",
              "  <thead>\n",
              "    <tr style=\"text-align: right;\">\n",
              "      <th></th>\n",
              "      <th>requires_license</th>\n",
              "      <th>license</th>\n",
              "      <th>jurisdiction_names</th>\n",
              "      <th>instant_bookable</th>\n",
              "      <th>is_business_travel_ready</th>\n",
              "      <th>cancellation_policy</th>\n",
              "      <th>require_guest_profile_picture</th>\n",
              "      <th>require_guest_phone_verification</th>\n",
              "      <th>calculated_host_listings_count</th>\n",
              "      <th>calculated_host_listings_count_entire_homes</th>\n",
              "      <th>calculated_host_listings_count_private_rooms</th>\n",
              "      <th>calculated_host_listings_count_shared_rooms</th>\n",
              "      <th>reviews_per_month</th>\n",
              "    </tr>\n",
              "  </thead>\n",
              "  <tbody>\n",
              "    <tr>\n",
              "      <th>0</th>\n",
              "      <td>t</td>\n",
              "      <td>ETV-3045</td>\n",
              "      <td>NaN</td>\n",
              "      <td>t</td>\n",
              "      <td>f</td>\n",
              "      <td>strict_14_with_grace_period</td>\n",
              "      <td>f</td>\n",
              "      <td>f</td>\n",
              "      <td>1.0</td>\n",
              "      <td>1.0</td>\n",
              "      <td>0.0</td>\n",
              "      <td>0.0</td>\n",
              "      <td>2.26</td>\n",
              "    </tr>\n",
              "    <tr>\n",
              "      <th>1</th>\n",
              "      <td>t</td>\n",
              "      <td>ETV/6127</td>\n",
              "      <td>NaN</td>\n",
              "      <td>t</td>\n",
              "      <td>f</td>\n",
              "      <td>strict_14_with_grace_period</td>\n",
              "      <td>f</td>\n",
              "      <td>t</td>\n",
              "      <td>2.0</td>\n",
              "      <td>2.0</td>\n",
              "      <td>0.0</td>\n",
              "      <td>0.0</td>\n",
              "      <td>0.15</td>\n",
              "    </tr>\n",
              "    <tr>\n",
              "      <th>2</th>\n",
              "      <td>t</td>\n",
              "      <td>ET/1961</td>\n",
              "      <td>NaN</td>\n",
              "      <td>f</td>\n",
              "      <td>f</td>\n",
              "      <td>strict_14_with_grace_period</td>\n",
              "      <td>f</td>\n",
              "      <td>f</td>\n",
              "      <td>1.0</td>\n",
              "      <td>1.0</td>\n",
              "      <td>0.0</td>\n",
              "      <td>0.0</td>\n",
              "      <td>0.10</td>\n",
              "    </tr>\n",
              "    <tr>\n",
              "      <th>3</th>\n",
              "      <td>t</td>\n",
              "      <td>NaN</td>\n",
              "      <td>NaN</td>\n",
              "      <td>t</td>\n",
              "      <td>f</td>\n",
              "      <td>flexible</td>\n",
              "      <td>f</td>\n",
              "      <td>f</td>\n",
              "      <td>3.0</td>\n",
              "      <td>0.0</td>\n",
              "      <td>3.0</td>\n",
              "      <td>0.0</td>\n",
              "      <td>NaN</td>\n",
              "    </tr>\n",
              "    <tr>\n",
              "      <th>4</th>\n",
              "      <td>t</td>\n",
              "      <td>ETV 6561</td>\n",
              "      <td>NaN</td>\n",
              "      <td>t</td>\n",
              "      <td>f</td>\n",
              "      <td>strict_14_with_grace_period</td>\n",
              "      <td>f</td>\n",
              "      <td>f</td>\n",
              "      <td>3.0</td>\n",
              "      <td>0.0</td>\n",
              "      <td>3.0</td>\n",
              "      <td>0.0</td>\n",
              "      <td>0.43</td>\n",
              "    </tr>\n",
              "  </tbody>\n",
              "</table>\n",
              "</div>"
            ],
            "text/plain": [
              "  requires_license  ... reviews_per_month\n",
              "0                t  ...              2.26\n",
              "1                t  ...              0.15\n",
              "2                t  ...              0.10\n",
              "3                t  ...               NaN\n",
              "4                t  ...              0.43\n",
              "\n",
              "[5 rows x 13 columns]"
            ]
          },
          "metadata": {},
          "execution_count": 21
        }
      ]
    },
    {
      "cell_type": "code",
      "metadata": {
        "colab": {
          "base_uri": "https://localhost:8080/"
        },
        "id": "t9W03IsC-XBI",
        "outputId": "f9515322-f093-43dc-fa92-fc6d228d3b7d"
      },
      "source": [
        "missings_info_otros = listado_info_otros.isnull().sum() * 100 / len(listado_info_otros)\n",
        "listado_missing_info_otros = pd.DataFrame({'column_name': listado_info_otros.columns,\n",
        "                                 'missings_info_otros': missings_info_otros})\n",
        "\n",
        "listado_missing_info_otros.sort_values('missings_info_otros', ascending = False, inplace=True)\n",
        "\n",
        "listado_missing_info_otros.head(14)"
      ],
      "execution_count": null,
      "outputs": [
        {
          "output_type": "execute_result",
          "data": {
            "text/html": [
              "<div>\n",
              "<style scoped>\n",
              "    .dataframe tbody tr th:only-of-type {\n",
              "        vertical-align: middle;\n",
              "    }\n",
              "\n",
              "    .dataframe tbody tr th {\n",
              "        vertical-align: top;\n",
              "    }\n",
              "\n",
              "    .dataframe thead th {\n",
              "        text-align: right;\n",
              "    }\n",
              "</style>\n",
              "<table border=\"1\" class=\"dataframe\">\n",
              "  <thead>\n",
              "    <tr style=\"text-align: right;\">\n",
              "      <th></th>\n",
              "      <th>column_name</th>\n",
              "      <th>missings_info_otros</th>\n",
              "    </tr>\n",
              "  </thead>\n",
              "  <tbody>\n",
              "    <tr>\n",
              "      <th>jurisdiction_names</th>\n",
              "      <td>jurisdiction_names</td>\n",
              "      <td>100.000000</td>\n",
              "    </tr>\n",
              "    <tr>\n",
              "      <th>reviews_per_month</th>\n",
              "      <td>reviews_per_month</td>\n",
              "      <td>40.205079</td>\n",
              "    </tr>\n",
              "    <tr>\n",
              "      <th>license</th>\n",
              "      <td>license</td>\n",
              "      <td>37.152736</td>\n",
              "    </tr>\n",
              "    <tr>\n",
              "      <th>requires_license</th>\n",
              "      <td>requires_license</td>\n",
              "      <td>0.011923</td>\n",
              "    </tr>\n",
              "    <tr>\n",
              "      <th>instant_bookable</th>\n",
              "      <td>instant_bookable</td>\n",
              "      <td>0.011923</td>\n",
              "    </tr>\n",
              "    <tr>\n",
              "      <th>is_business_travel_ready</th>\n",
              "      <td>is_business_travel_ready</td>\n",
              "      <td>0.011923</td>\n",
              "    </tr>\n",
              "    <tr>\n",
              "      <th>cancellation_policy</th>\n",
              "      <td>cancellation_policy</td>\n",
              "      <td>0.011923</td>\n",
              "    </tr>\n",
              "    <tr>\n",
              "      <th>require_guest_profile_picture</th>\n",
              "      <td>require_guest_profile_picture</td>\n",
              "      <td>0.011923</td>\n",
              "    </tr>\n",
              "    <tr>\n",
              "      <th>require_guest_phone_verification</th>\n",
              "      <td>require_guest_phone_verification</td>\n",
              "      <td>0.011923</td>\n",
              "    </tr>\n",
              "    <tr>\n",
              "      <th>calculated_host_listings_count</th>\n",
              "      <td>calculated_host_listings_count</td>\n",
              "      <td>0.011923</td>\n",
              "    </tr>\n",
              "    <tr>\n",
              "      <th>calculated_host_listings_count_entire_homes</th>\n",
              "      <td>calculated_host_listings_count_entire_homes</td>\n",
              "      <td>0.011923</td>\n",
              "    </tr>\n",
              "    <tr>\n",
              "      <th>calculated_host_listings_count_private_rooms</th>\n",
              "      <td>calculated_host_listings_count_private_rooms</td>\n",
              "      <td>0.011923</td>\n",
              "    </tr>\n",
              "    <tr>\n",
              "      <th>calculated_host_listings_count_shared_rooms</th>\n",
              "      <td>calculated_host_listings_count_shared_rooms</td>\n",
              "      <td>0.011923</td>\n",
              "    </tr>\n",
              "  </tbody>\n",
              "</table>\n",
              "</div>"
            ],
            "text/plain": [
              "                                                                               column_name  missings_info_otros\n",
              "jurisdiction_names                                                      jurisdiction_names           100.000000\n",
              "reviews_per_month                                                        reviews_per_month            40.205079\n",
              "license                                                                            license            37.152736\n",
              "requires_license                                                          requires_license             0.011923\n",
              "instant_bookable                                                          instant_bookable             0.011923\n",
              "is_business_travel_ready                                          is_business_travel_ready             0.011923\n",
              "cancellation_policy                                                    cancellation_policy             0.011923\n",
              "require_guest_profile_picture                                require_guest_profile_picture             0.011923\n",
              "require_guest_phone_verification                          require_guest_phone_verification             0.011923\n",
              "calculated_host_listings_count                              calculated_host_listings_count             0.011923\n",
              "calculated_host_listings_count_entire_homes    calculated_host_listings_count_entire_homes             0.011923\n",
              "calculated_host_listings_count_private_rooms  calculated_host_listings_count_private_rooms             0.011923\n",
              "calculated_host_listings_count_shared_rooms    calculated_host_listings_count_shared_rooms             0.011923"
            ]
          },
          "metadata": {},
          "execution_count": 22
        }
      ]
    },
    {
      "cell_type": "code",
      "metadata": {
        "colab": {
          "base_uri": "https://localhost:8080/"
        },
        "id": "-evTXe2M-W7c",
        "outputId": "b2cef63f-bbf8-4c73-9f72-ac90dec0667f"
      },
      "source": [
        "prod_count_otros = pd.DataFrame(listado_missing_info_otros.sort_index().head(20))\n",
        "plt.figure()\n",
        "sns.set_theme(style=\"darkgrid\")\n",
        "sns.barplot(listado_missing_info_otros[:4].index, \n",
        "            listado_missing_info_otros[:4]['missings_info_otros'].values, alpha=1, color = 'Salmon')\n",
        "plt.title('NaN en Otros')\n",
        "plt.ylabel('% De NaN', fontsize=12)\n",
        "plt.xlabel('Columnas', fontsize=12)\n",
        "plt.xticks(rotation=90)\n",
        "plt.show()"
      ],
      "execution_count": null,
      "outputs": [
        {
          "output_type": "stream",
          "name": "stderr",
          "text": [
            "/usr/local/lib/python3.7/dist-packages/seaborn/_decorators.py:43: FutureWarning:\n",
            "\n",
            "Pass the following variables as keyword args: x, y. From version 0.12, the only valid positional argument will be `data`, and passing other arguments without an explicit keyword will result in an error or misinterpretation.\n",
            "\n"
          ]
        },
        {
          "output_type": "display_data",
          "data": {
            "image/png": "[encoded data removed]",
            "text/plain": [
              "<Figure size 432x288 with 1 Axes>"
            ]
          },
          "metadata": {}
        }
      ]
    },
    {
      "cell_type": "markdown",
      "metadata": {
        "id": "I7kYesuKsaZZ"
      },
      "source": [
        "De las 13 columnas del subset nos quedamos con la(s) siguiente(s): \n",
        "\n",
        "\n",
        "* 'instant_bookable': Booleano que puede ser útil en la etapa de análisis. \n",
        "* 'is_business_travel_ready': Solo contiene 'f'.\n",
        "* 'cancellation_policy': Variable categórica. \n",
        "* 'require_guest_profile_picture': Booleano que puede ser útil en la etapa de análisis. \n",
        "* 'require_guest_phone_verification': Booleano que puede ser útil en la etapa de análisis. \n",
        "* 'calculated_host_listings_count': Variable numérica que puede ser útil en la etapa de análisis. \n",
        "\n",
        "\n",
        "Y descartamos: \n",
        "\n",
        "* 'requires_license': Todos los valores son t. \n",
        "* 'reviews_per_month': NaN\n",
        "* 'license': NaN\n",
        "* 'jurisdiction_names': NaN\n",
        "* 'calculated_host_listings_count_entire_homes': Comprendida en 'calculated_host_listings_count'\n",
        "* 'calculated_host_listings_count_private_rooms' : Comprendida en 'calculated_host_listings_count'\n",
        "* 'calculated_host_listings_count_shared_rooms': Comprendida en 'calculated_host_listings_count'\n",
        "\n",
        "\n",
        "\n"
      ]
    },
    {
      "cell_type": "markdown",
      "metadata": {
        "id": "roZiNpnZF7Rf"
      },
      "source": [
        "#### **Conclusión y creación del DataFrame**"
      ]
    },
    {
      "cell_type": "markdown",
      "metadata": {
        "id": "eqZVfIekJVx1"
      },
      "source": [
        "Terminada la interpretación de los datos y el primer filtro de columnas, creamos el dataframe del dataset listado, que está formado por las columnas ahora consideradas relevantes. "
      ]
    },
    {
      "cell_type": "code",
      "metadata": {
        "colab": {
          "base_uri": "https://localhost:8080/"
        },
        "id": "-YoaUpTTJVHf",
        "outputId": "b8d44a64-cde4-4e67-d59b-0cc1142bc969"
      },
      "source": [
        "df_listado = pd.DataFrame(listado[['id' ,'host_name', 'host_since', 'host_location', \n",
        "                                    'host_about','host_is_superhost', 'host_has_profile_pic',\n",
        "                                    'host_identity_verified', 'neighbourhood_cleansed', 'latitude', \n",
        "                                    'longitude', 'property_type', 'room_type', 'accommodates', 'bathrooms', \n",
        "                                    'bedrooms', 'beds', 'bed_type', 'amenities', 'price', 'security_deposit', \n",
        "                                    'cleaning_fee', 'guests_included', 'extra_people', 'minimum_nights', 'number_of_reviews',\n",
        "                                    'first_review', 'last_review', 'review_scores_rating', 'review_scores_accuracy', 'review_scores_cleanliness',\n",
        "                                    'review_scores_checkin', 'review_scores_communication', 'review_scores_location',\n",
        "                                    'review_scores_value', 'instant_bookable' , 'is_business_travel_ready', 'cancellation_policy', \n",
        "                                    'require_guest_profile_picture', 'require_guest_phone_verification', 'calculated_host_listings_count']])\n",
        "\n",
        "df_listado.head(2)"
      ],
      "execution_count": null,
      "outputs": [
        {
          "output_type": "execute_result",
          "data": {
            "text/html": [
              "<div>\n",
              "<style scoped>\n",
              "    .dataframe tbody tr th:only-of-type {\n",
              "        vertical-align: middle;\n",
              "    }\n",
              "\n",
              "    .dataframe tbody tr th {\n",
              "        vertical-align: top;\n",
              "    }\n",
              "\n",
              "    .dataframe thead th {\n",
              "        text-align: right;\n",
              "    }\n",
              "</style>\n",
              "<table border=\"1\" class=\"dataframe\">\n",
              "  <thead>\n",
              "    <tr style=\"text-align: right;\">\n",
              "      <th></th>\n",
              "      <th>id</th>\n",
              "      <th>host_name</th>\n",
              "      <th>host_since</th>\n",
              "      <th>host_location</th>\n",
              "      <th>host_about</th>\n",
              "      <th>host_is_superhost</th>\n",
              "      <th>host_has_profile_pic</th>\n",
              "      <th>host_identity_verified</th>\n",
              "      <th>neighbourhood_cleansed</th>\n",
              "      <th>latitude</th>\n",
              "      <th>longitude</th>\n",
              "      <th>property_type</th>\n",
              "      <th>room_type</th>\n",
              "      <th>accommodates</th>\n",
              "      <th>bathrooms</th>\n",
              "      <th>bedrooms</th>\n",
              "      <th>beds</th>\n",
              "      <th>bed_type</th>\n",
              "      <th>amenities</th>\n",
              "      <th>price</th>\n",
              "      <th>security_deposit</th>\n",
              "      <th>cleaning_fee</th>\n",
              "      <th>guests_included</th>\n",
              "      <th>extra_people</th>\n",
              "      <th>minimum_nights</th>\n",
              "      <th>number_of_reviews</th>\n",
              "      <th>first_review</th>\n",
              "      <th>last_review</th>\n",
              "      <th>review_scores_rating</th>\n",
              "      <th>review_scores_accuracy</th>\n",
              "      <th>review_scores_cleanliness</th>\n",
              "      <th>review_scores_checkin</th>\n",
              "      <th>review_scores_communication</th>\n",
              "      <th>review_scores_location</th>\n",
              "      <th>review_scores_value</th>\n",
              "      <th>instant_bookable</th>\n",
              "      <th>is_business_travel_ready</th>\n",
              "      <th>cancellation_policy</th>\n",
              "      <th>require_guest_profile_picture</th>\n",
              "      <th>require_guest_phone_verification</th>\n",
              "      <th>calculated_host_listings_count</th>\n",
              "    </tr>\n",
              "  </thead>\n",
              "  <tbody>\n",
              "    <tr>\n",
              "      <th>0</th>\n",
              "      <td>100831</td>\n",
              "      <td>Miguel</td>\n",
              "      <td>2011-04-23</td>\n",
              "      <td>Mallorca</td>\n",
              "      <td>Somos una pareja con los mismos gustos e inter...</td>\n",
              "      <td>f</td>\n",
              "      <td>t</td>\n",
              "      <td>t</td>\n",
              "      <td>Santa Margalida</td>\n",
              "      <td>39.76347</td>\n",
              "      <td>3.16255</td>\n",
              "      <td>House</td>\n",
              "      <td>Entire home/apt</td>\n",
              "      <td>8.0</td>\n",
              "      <td>3.0</td>\n",
              "      <td>4.0</td>\n",
              "      <td>7.0</td>\n",
              "      <td>Real Bed</td>\n",
              "      <td>{TV,\"Cable TV\",Internet,Wifi,\"Air conditioning...</td>\n",
              "      <td>$155.00</td>\n",
              "      <td>$0.00</td>\n",
              "      <td>$100.00</td>\n",
              "      <td>1.0</td>\n",
              "      <td>$0.00</td>\n",
              "      <td>4</td>\n",
              "      <td>20</td>\n",
              "      <td>2018-10-06</td>\n",
              "      <td>2019-04-27</td>\n",
              "      <td>99.0</td>\n",
              "      <td>10.0</td>\n",
              "      <td>10.0</td>\n",
              "      <td>10.0</td>\n",
              "      <td>10.0</td>\n",
              "      <td>9.0</td>\n",
              "      <td>10.0</td>\n",
              "      <td>t</td>\n",
              "      <td>f</td>\n",
              "      <td>strict_14_with_grace_period</td>\n",
              "      <td>f</td>\n",
              "      <td>f</td>\n",
              "      <td>1.0</td>\n",
              "    </tr>\n",
              "    <tr>\n",
              "      <th>1</th>\n",
              "      <td>105891</td>\n",
              "      <td>Bartomeu</td>\n",
              "      <td>2011-05-01</td>\n",
              "      <td>Ariany, Balearic Islands, Spain</td>\n",
              "      <td>Hola!. Resido en una casa de campo de un puebl...</td>\n",
              "      <td>t</td>\n",
              "      <td>t</td>\n",
              "      <td>t</td>\n",
              "      <td>Maria de la Salut</td>\n",
              "      <td>39.66044</td>\n",
              "      <td>3.07165</td>\n",
              "      <td>Townhouse</td>\n",
              "      <td>Entire home/apt</td>\n",
              "      <td>6.0</td>\n",
              "      <td>2.0</td>\n",
              "      <td>3.0</td>\n",
              "      <td>4.0</td>\n",
              "      <td>Real Bed</td>\n",
              "      <td>{TV,\"Cable TV\",Wifi,\"Air conditioning\",Pool,Ki...</td>\n",
              "      <td>$90.00</td>\n",
              "      <td>NaN</td>\n",
              "      <td>NaN</td>\n",
              "      <td>4.0</td>\n",
              "      <td>$10.00</td>\n",
              "      <td>7</td>\n",
              "      <td>13</td>\n",
              "      <td>2012-06-19</td>\n",
              "      <td>2019-05-09</td>\n",
              "      <td>97.0</td>\n",
              "      <td>10.0</td>\n",
              "      <td>10.0</td>\n",
              "      <td>10.0</td>\n",
              "      <td>10.0</td>\n",
              "      <td>9.0</td>\n",
              "      <td>10.0</td>\n",
              "      <td>t</td>\n",
              "      <td>f</td>\n",
              "      <td>strict_14_with_grace_period</td>\n",
              "      <td>f</td>\n",
              "      <td>t</td>\n",
              "      <td>2.0</td>\n",
              "    </tr>\n",
              "  </tbody>\n",
              "</table>\n",
              "</div>"
            ],
            "text/plain": [
              "       id  ... calculated_host_listings_count\n",
              "0  100831  ...                            1.0\n",
              "1  105891  ...                            2.0\n",
              "\n",
              "[2 rows x 41 columns]"
            ]
          },
          "metadata": {},
          "execution_count": 24
        }
      ]
    },
    {
      "cell_type": "code",
      "metadata": {
        "colab": {
          "base_uri": "https://localhost:8080/"
        },
        "id": "kYeBj4cWMRiZ",
        "outputId": "8d34c48f-ae0d-4c5a-fbf9-440cd536a23d"
      },
      "source": [
        "df_listado.shape"
      ],
      "execution_count": null,
      "outputs": [
        {
          "output_type": "execute_result",
          "data": {
            "text/plain": [
              "(16774, 41)"
            ]
          },
          "metadata": {},
          "execution_count": 25
        }
      ]
    },
    {
      "cell_type": "markdown",
      "metadata": {
        "id": "4vkdMpzQMa_u"
      },
      "source": [
        "Redujimos a 41 las columnas del dataframe original, y ahora podemos comenzar con la limpieza. "
      ]
    },
    {
      "cell_type": "markdown",
      "metadata": {
        "id": "QuIq4Ro8MRk9"
      },
      "source": [
        "### LIMPIEZA\n",
        "\n",
        "Una vez adentrados en el contexto del dataset, realizamos la limpieza necesaria para poder pasar a la transformación de los datos y luego explotar el dataframe. "
      ]
    },
    {
      "cell_type": "markdown",
      "metadata": {
        "id": "L-8tMb0TNtpz"
      },
      "source": [
        "#### **Explicación del paso**"
      ]
    },
    {
      "cell_type": "markdown",
      "metadata": {
        "id": "IFTSr8PCNfT9"
      },
      "source": [
        "El dataframe listado contiene 41 columnas y 16774 entries. Estas columnas pasaron por un primer paso de interpretación, sin embargo, aún hay varias preguntas que hacerse respecto a la calidad de los datos: \n",
        "\n",
        "* **¿Qué decisión hay que tomar respecto a las columnas que todavía presentan datos NaN?**\n",
        "* **¿Son convenientes los dtypes actuales de los datos en las columnas? ¿Qué columnas vale la pena llevar al paso siguiente de transformación?**"
      ]
    },
    {
      "cell_type": "markdown",
      "metadata": {
        "id": "_fFhKvYCIx2X"
      },
      "source": [
        "#### **Implementación**"
      ]
    },
    {
      "cell_type": "markdown",
      "metadata": {
        "id": "ZiCPsU17SKcL"
      },
      "source": [
        "##### **Análisis NaN**\n",
        "\n",
        "Repetimos el análisis de porcentaje de NaN's por columna, con su respectivo gráfico, para el df_listado. "
      ]
    },
    {
      "cell_type": "code",
      "metadata": {
        "colab": {
          "base_uri": "https://localhost:8080/",
          "height": 450
        },
        "id": "j0h2HCkgSZKP",
        "outputId": "f0e786ba-6700-497b-d59b-47b98d433c74"
      },
      "source": [
        "missings_info_df = df_listado.isnull().sum() * 100 / len(df_listado)\n",
        "listado_missing_info_df = pd.DataFrame({'column_name': df_listado.columns,\n",
        "                                 'missings_info_df': missings_info_df})\n",
        "\n",
        "listado_missing_info_df.sort_values('missings_info_df', ascending = False, inplace=True)\n",
        "\n",
        "listado_missing_info_df.head(13)"
      ],
      "execution_count": null,
      "outputs": [
        {
          "output_type": "execute_result",
          "data": {
            "text/html": [
              "<div>\n",
              "<style scoped>\n",
              "    .dataframe tbody tr th:only-of-type {\n",
              "        vertical-align: middle;\n",
              "    }\n",
              "\n",
              "    .dataframe tbody tr th {\n",
              "        vertical-align: top;\n",
              "    }\n",
              "\n",
              "    .dataframe thead th {\n",
              "        text-align: right;\n",
              "    }\n",
              "</style>\n",
              "<table border=\"1\" class=\"dataframe\">\n",
              "  <thead>\n",
              "    <tr style=\"text-align: right;\">\n",
              "      <th></th>\n",
              "      <th>column_name</th>\n",
              "      <th>missings_info_df</th>\n",
              "    </tr>\n",
              "  </thead>\n",
              "  <tbody>\n",
              "    <tr>\n",
              "      <th>review_scores_value</th>\n",
              "      <td>review_scores_value</td>\n",
              "      <td>41.665673</td>\n",
              "    </tr>\n",
              "    <tr>\n",
              "      <th>review_scores_checkin</th>\n",
              "      <td>review_scores_checkin</td>\n",
              "      <td>41.653750</td>\n",
              "    </tr>\n",
              "    <tr>\n",
              "      <th>review_scores_location</th>\n",
              "      <td>review_scores_location</td>\n",
              "      <td>41.653750</td>\n",
              "    </tr>\n",
              "    <tr>\n",
              "      <th>review_scores_communication</th>\n",
              "      <td>review_scores_communication</td>\n",
              "      <td>41.647788</td>\n",
              "    </tr>\n",
              "    <tr>\n",
              "      <th>review_scores_accuracy</th>\n",
              "      <td>review_scores_accuracy</td>\n",
              "      <td>41.623942</td>\n",
              "    </tr>\n",
              "    <tr>\n",
              "      <th>review_scores_cleanliness</th>\n",
              "      <td>review_scores_cleanliness</td>\n",
              "      <td>41.617980</td>\n",
              "    </tr>\n",
              "    <tr>\n",
              "      <th>review_scores_rating</th>\n",
              "      <td>review_scores_rating</td>\n",
              "      <td>41.600095</td>\n",
              "    </tr>\n",
              "    <tr>\n",
              "      <th>first_review</th>\n",
              "      <td>first_review</td>\n",
              "      <td>40.199118</td>\n",
              "    </tr>\n",
              "    <tr>\n",
              "      <th>last_review</th>\n",
              "      <td>last_review</td>\n",
              "      <td>40.199118</td>\n",
              "    </tr>\n",
              "    <tr>\n",
              "      <th>host_about</th>\n",
              "      <td>host_about</td>\n",
              "      <td>34.517706</td>\n",
              "    </tr>\n",
              "    <tr>\n",
              "      <th>security_deposit</th>\n",
              "      <td>security_deposit</td>\n",
              "      <td>25.283176</td>\n",
              "    </tr>\n",
              "    <tr>\n",
              "      <th>cleaning_fee</th>\n",
              "      <td>cleaning_fee</td>\n",
              "      <td>24.818171</td>\n",
              "    </tr>\n",
              "    <tr>\n",
              "      <th>beds</th>\n",
              "      <td>beds</td>\n",
              "      <td>0.506737</td>\n",
              "    </tr>\n",
              "  </tbody>\n",
              "</table>\n",
              "</div>"
            ],
            "text/plain": [
              "                                             column_name  missings_info_df\n",
              "review_scores_value                  review_scores_value         41.665673\n",
              "review_scores_checkin              review_scores_checkin         41.653750\n",
              "review_scores_location            review_scores_location         41.653750\n",
              "review_scores_communication  review_scores_communication         41.647788\n",
              "review_scores_accuracy            review_scores_accuracy         41.623942\n",
              "review_scores_cleanliness      review_scores_cleanliness         41.617980\n",
              "review_scores_rating                review_scores_rating         41.600095\n",
              "first_review                                first_review         40.199118\n",
              "last_review                                  last_review         40.199118\n",
              "host_about                                    host_about         34.517706\n",
              "security_deposit                        security_deposit         25.283176\n",
              "cleaning_fee                                cleaning_fee         24.818171\n",
              "beds                                                beds          0.506737"
            ]
          },
          "metadata": {},
          "execution_count": 26
        }
      ]
    },
    {
      "cell_type": "code",
      "metadata": {
        "colab": {
          "base_uri": "https://localhost:8080/",
          "height": 547
        },
        "id": "Jela0CtyTZ_y",
        "outputId": "d5fb24df-f918-4281-9513-50456c7a0a9e"
      },
      "source": [
        "prod_count_df = pd.DataFrame(listado_missing_info_df.sort_index().head(20))\n",
        "plt.figure()\n",
        "sns.set_theme(style=\"darkgrid\")\n",
        "sns.barplot(listado_missing_info_df[:13].index, \n",
        "            listado_missing_info_df[:13]['missings_info_df'].values, alpha=1, color = 'Salmon')\n",
        "plt.title('Percent Missing')\n",
        "plt.ylabel('Missing', fontsize=12)\n",
        "plt.xlabel('Features', fontsize=12)\n",
        "plt.xticks(rotation=90)\n",
        "plt.show()"
      ],
      "execution_count": null,
      "outputs": [
        {
          "output_type": "stream",
          "name": "stderr",
          "text": [
            "/usr/local/lib/python3.7/dist-packages/seaborn/_decorators.py:43: FutureWarning:\n",
            "\n",
            "Pass the following variables as keyword args: x, y. From version 0.12, the only valid positional argument will be `data`, and passing other arguments without an explicit keyword will result in an error or misinterpretation.\n",
            "\n"
          ]
        },
        {
          "output_type": "display_data",
          "data": {
            "image/png": "[encoded data removed]",
            "text/plain": [
              "<Figure size 432x288 with 1 Axes>"
            ]
          },
          "metadata": {}
        }
      ]
    },
    {
      "cell_type": "markdown",
      "metadata": {
        "id": "tQZomdRwYx2U"
      },
      "source": [
        "##### **Solución 1: dropna()**\n",
        "\n",
        "Exploramos una primer solución del proceso de limpieza, donde usamos el método dropna()."
      ]
    },
    {
      "cell_type": "markdown",
      "metadata": {
        "id": "1xlwrUiwdE7v"
      },
      "source": [
        "###### **Explicación del paso** "
      ]
    },
    {
      "cell_type": "markdown",
      "metadata": {
        "id": "cVAcpYQEc2WI"
      },
      "source": [
        "Una posible solución, pensando en vistas al proceso de explotación y análisis de los datos, sería eliminar todos los registros del dataframe que tengan un NaN. \n",
        "\n",
        "La lógica detrás de esta decisión sería que una vez nos encontremos en la instancia de análisis, las reviews de las publicaciones y sus diferentes puntajes serán claves para extraer insights y conclusiones relevantes y de alto impacto. \n",
        "\n",
        " * **¿Qué regiones tienen las publicaciones con los mejores puntajes y reviews en cada categoría?**\n",
        "\n",
        " * **¿Qué características en común tienen las publicaciones con las mejores reviews/ los mejores puntajes?**\n",
        "\n",
        " * **¿Qué puntajes tienen en promedio los SuperHosts?**\n",
        "\n",
        "Estas preguntas son simplemente para mostrar la importancia que pueden llegar a tener las columnas de puntajes en la instancia de explotación. "
      ]
    },
    {
      "cell_type": "markdown",
      "metadata": {
        "id": "irbqaDCkdNy2"
      },
      "source": [
        "###### **Implementación**"
      ]
    },
    {
      "cell_type": "markdown",
      "metadata": {
        "id": "8HbQA3o3eirP"
      },
      "source": [
        "Realizamos entonces la limpieza final, donde descartamos aquellas filas que presentan un NaN con el método dropna(). El gráfico de NaN's nos sugiere que haciendo esto, los registros con puntajes vacíos serán eliminados. \n",
        "\n",
        "Pero es importante considerar esto: Las publicaciones con registros nulos en las columnas 'security_deposit' y 'cleaning_fee' también serán eliminadas. ¿Es conveniente esta decisión? O lo mejor será reemplazar los NaN por un valor numérico como puede ser 0, un promedio, una media, etc. \n",
        "\n",
        "Como esta decisión es delicada y vamos a revisarla, la implementación del método dropna() se hará sobre un nuevo DataFrame, a llamar df_listado_prueba1. "
      ]
    },
    {
      "cell_type": "code",
      "metadata": {
        "id": "Tb2xDDy5ZT7-"
      },
      "source": [
        "df_listado_solucion1 = df_listado.drop(df_listado[df_listado['number_of_reviews'] == 0].index)"
      ],
      "execution_count": null,
      "outputs": []
    },
    {
      "cell_type": "code",
      "metadata": {
        "colab": {
          "base_uri": "https://localhost:8080/"
        },
        "id": "w9IbdVD0X6D-",
        "outputId": "a577fccf-ea77-475d-a857-0045edf52bc0"
      },
      "source": [
        "df_listado_solucion1 = df_listado.dropna()\n",
        "df_listado_solucion1.shape"
      ],
      "execution_count": null,
      "outputs": [
        {
          "output_type": "execute_result",
          "data": {
            "text/plain": [
              "(4684, 41)"
            ]
          },
          "metadata": {},
          "execution_count": 29
        }
      ]
    },
    {
      "cell_type": "markdown",
      "metadata": {
        "id": "23RMxjeffpXp"
      },
      "source": [
        "Una vez aplicado el método, vemos que nos quedamos con 4684 registros, cuando la cantidad inicial era de 16774. Quizás lo mejor sea explorar la opción de reemplazar los valores de 'security_deposit' y 'cleaning_fee', y ver con cuántos registros quedamos luego de implementar el método dropna() y por ende, eliminar los registros sin puntajes solamente. "
      ]
    },
    {
      "cell_type": "markdown",
      "metadata": {
        "id": "ya4fEeH1gxgc"
      },
      "source": [
        "###### **Conclusión parcial**"
      ]
    },
    {
      "cell_type": "markdown",
      "metadata": {
        "id": "Xtxfi132g4yA"
      },
      "source": [
        "Finalizada la limpieza, así se ve el dataframe de listados, el cual ahora vamos a llevar al proceso de transformación. \n",
        "\n",
        " * **Consiste de 4681 entries en 41 columnas.** \n",
        " * **No presenta NaN's.**\n",
        " * **Contiene información sobre el host, información completa y en detalle de la publicación, detalles del alquiler y los puntajes de las mismas en los diferentes apartados de reviews.**\n"
      ]
    },
    {
      "cell_type": "code",
      "metadata": {
        "colab": {
          "base_uri": "https://localhost:8080/"
        },
        "id": "rxujq39sYQPE",
        "outputId": "5837103f-d8b6-43f6-9c59-234e1e1d94f9"
      },
      "source": [
        "df_listado_solucion1.head()"
      ],
      "execution_count": null,
      "outputs": [
        {
          "output_type": "execute_result",
          "data": {
            "text/html": [
              "<div>\n",
              "<style scoped>\n",
              "    .dataframe tbody tr th:only-of-type {\n",
              "        vertical-align: middle;\n",
              "    }\n",
              "\n",
              "    .dataframe tbody tr th {\n",
              "        vertical-align: top;\n",
              "    }\n",
              "\n",
              "    .dataframe thead th {\n",
              "        text-align: right;\n",
              "    }\n",
              "</style>\n",
              "<table border=\"1\" class=\"dataframe\">\n",
              "  <thead>\n",
              "    <tr style=\"text-align: right;\">\n",
              "      <th></th>\n",
              "      <th>id</th>\n",
              "      <th>host_name</th>\n",
              "      <th>host_since</th>\n",
              "      <th>host_location</th>\n",
              "      <th>host_about</th>\n",
              "      <th>host_is_superhost</th>\n",
              "      <th>host_has_profile_pic</th>\n",
              "      <th>host_identity_verified</th>\n",
              "      <th>neighbourhood_cleansed</th>\n",
              "      <th>latitude</th>\n",
              "      <th>longitude</th>\n",
              "      <th>property_type</th>\n",
              "      <th>room_type</th>\n",
              "      <th>accommodates</th>\n",
              "      <th>bathrooms</th>\n",
              "      <th>bedrooms</th>\n",
              "      <th>beds</th>\n",
              "      <th>bed_type</th>\n",
              "      <th>amenities</th>\n",
              "      <th>price</th>\n",
              "      <th>security_deposit</th>\n",
              "      <th>cleaning_fee</th>\n",
              "      <th>guests_included</th>\n",
              "      <th>extra_people</th>\n",
              "      <th>minimum_nights</th>\n",
              "      <th>number_of_reviews</th>\n",
              "      <th>first_review</th>\n",
              "      <th>last_review</th>\n",
              "      <th>review_scores_rating</th>\n",
              "      <th>review_scores_accuracy</th>\n",
              "      <th>review_scores_cleanliness</th>\n",
              "      <th>review_scores_checkin</th>\n",
              "      <th>review_scores_communication</th>\n",
              "      <th>review_scores_location</th>\n",
              "      <th>review_scores_value</th>\n",
              "      <th>instant_bookable</th>\n",
              "      <th>is_business_travel_ready</th>\n",
              "      <th>cancellation_policy</th>\n",
              "      <th>require_guest_profile_picture</th>\n",
              "      <th>require_guest_phone_verification</th>\n",
              "      <th>calculated_host_listings_count</th>\n",
              "    </tr>\n",
              "  </thead>\n",
              "  <tbody>\n",
              "    <tr>\n",
              "      <th>0</th>\n",
              "      <td>100831</td>\n",
              "      <td>Miguel</td>\n",
              "      <td>2011-04-23</td>\n",
              "      <td>Mallorca</td>\n",
              "      <td>Somos una pareja con los mismos gustos e inter...</td>\n",
              "      <td>f</td>\n",
              "      <td>t</td>\n",
              "      <td>t</td>\n",
              "      <td>Santa Margalida</td>\n",
              "      <td>39.76347</td>\n",
              "      <td>3.16255</td>\n",
              "      <td>House</td>\n",
              "      <td>Entire home/apt</td>\n",
              "      <td>8.0</td>\n",
              "      <td>3.0</td>\n",
              "      <td>4.0</td>\n",
              "      <td>7.0</td>\n",
              "      <td>Real Bed</td>\n",
              "      <td>{TV,\"Cable TV\",Internet,Wifi,\"Air conditioning...</td>\n",
              "      <td>$155.00</td>\n",
              "      <td>$0.00</td>\n",
              "      <td>$100.00</td>\n",
              "      <td>1.0</td>\n",
              "      <td>$0.00</td>\n",
              "      <td>4</td>\n",
              "      <td>20</td>\n",
              "      <td>2018-10-06</td>\n",
              "      <td>2019-04-27</td>\n",
              "      <td>99.0</td>\n",
              "      <td>10.0</td>\n",
              "      <td>10.0</td>\n",
              "      <td>10.0</td>\n",
              "      <td>10.0</td>\n",
              "      <td>9.0</td>\n",
              "      <td>10.0</td>\n",
              "      <td>t</td>\n",
              "      <td>f</td>\n",
              "      <td>strict_14_with_grace_period</td>\n",
              "      <td>f</td>\n",
              "      <td>f</td>\n",
              "      <td>1.0</td>\n",
              "    </tr>\n",
              "    <tr>\n",
              "      <th>4</th>\n",
              "      <td>158925</td>\n",
              "      <td>Marie</td>\n",
              "      <td>2011-06-07</td>\n",
              "      <td>Palma, Balearic Islands, Spain</td>\n",
              "      <td>Hola, me llamo Marie.  Despues de haber viajad...</td>\n",
              "      <td>f</td>\n",
              "      <td>t</td>\n",
              "      <td>f</td>\n",
              "      <td>Campos</td>\n",
              "      <td>39.396609999999995</td>\n",
              "      <td>3.08728</td>\n",
              "      <td>Villa</td>\n",
              "      <td>Private room</td>\n",
              "      <td>3.0</td>\n",
              "      <td>1.0</td>\n",
              "      <td>1.0</td>\n",
              "      <td>3.0</td>\n",
              "      <td>Real Bed</td>\n",
              "      <td>{TV,Wifi,Pool,Kitchen,\"Free parking on premise...</td>\n",
              "      <td>$120.00</td>\n",
              "      <td>$200.00</td>\n",
              "      <td>$40.00</td>\n",
              "      <td>2.0</td>\n",
              "      <td>$10.00</td>\n",
              "      <td>3</td>\n",
              "      <td>37</td>\n",
              "      <td>2012-06-14</td>\n",
              "      <td>2018-10-07</td>\n",
              "      <td>94.0</td>\n",
              "      <td>10.0</td>\n",
              "      <td>9.0</td>\n",
              "      <td>10.0</td>\n",
              "      <td>10.0</td>\n",
              "      <td>9.0</td>\n",
              "      <td>9.0</td>\n",
              "      <td>t</td>\n",
              "      <td>f</td>\n",
              "      <td>strict_14_with_grace_period</td>\n",
              "      <td>f</td>\n",
              "      <td>f</td>\n",
              "      <td>3.0</td>\n",
              "    </tr>\n",
              "    <tr>\n",
              "      <th>6</th>\n",
              "      <td>160482</td>\n",
              "      <td>Marga</td>\n",
              "      <td>2011-07-02</td>\n",
              "      <td>Palma de Mallorca, Balearic Islands, Spain</td>\n",
              "      <td>Married mallorquina with 2 children that loves...</td>\n",
              "      <td>f</td>\n",
              "      <td>t</td>\n",
              "      <td>t</td>\n",
              "      <td>Esporles</td>\n",
              "      <td>39.654140000000005</td>\n",
              "      <td>2.62546</td>\n",
              "      <td>House</td>\n",
              "      <td>Entire home/apt</td>\n",
              "      <td>6.0</td>\n",
              "      <td>2.0</td>\n",
              "      <td>3.0</td>\n",
              "      <td>3.0</td>\n",
              "      <td>Real Bed</td>\n",
              "      <td>{TV,\"Cable TV\",Wifi,\"Air conditioning\",Pool,Ki...</td>\n",
              "      <td>$175.00</td>\n",
              "      <td>$350.00</td>\n",
              "      <td>$120.00</td>\n",
              "      <td>4.0</td>\n",
              "      <td>$20.00</td>\n",
              "      <td>4</td>\n",
              "      <td>54</td>\n",
              "      <td>2011-08-07</td>\n",
              "      <td>2019-06-10</td>\n",
              "      <td>96.0</td>\n",
              "      <td>10.0</td>\n",
              "      <td>10.0</td>\n",
              "      <td>10.0</td>\n",
              "      <td>10.0</td>\n",
              "      <td>10.0</td>\n",
              "      <td>9.0</td>\n",
              "      <td>f</td>\n",
              "      <td>f</td>\n",
              "      <td>strict_14_with_grace_period</td>\n",
              "      <td>t</td>\n",
              "      <td>t</td>\n",
              "      <td>1.0</td>\n",
              "    </tr>\n",
              "    <tr>\n",
              "      <th>7</th>\n",
              "      <td>164185</td>\n",
              "      <td>Maria</td>\n",
              "      <td>2011-07-07</td>\n",
              "      <td>Costa d'en Blanes, Illes Balears, Spain</td>\n",
              "      <td>I am a professional Life and Executive Coach s...</td>\n",
              "      <td>t</td>\n",
              "      <td>t</td>\n",
              "      <td>f</td>\n",
              "      <td>Palma de Mallorca</td>\n",
              "      <td>39.57302</td>\n",
              "      <td>2.64355</td>\n",
              "      <td>Guest suite</td>\n",
              "      <td>Private room</td>\n",
              "      <td>2.0</td>\n",
              "      <td>1.0</td>\n",
              "      <td>1.0</td>\n",
              "      <td>1.0</td>\n",
              "      <td>Real Bed</td>\n",
              "      <td>{Internet,Wifi,\"Air conditioning\",\"Paid parkin...</td>\n",
              "      <td>$65.00</td>\n",
              "      <td>$200.00</td>\n",
              "      <td>$30.00</td>\n",
              "      <td>1.0</td>\n",
              "      <td>$15.00</td>\n",
              "      <td>5</td>\n",
              "      <td>95</td>\n",
              "      <td>2011-08-16</td>\n",
              "      <td>2019-04-17</td>\n",
              "      <td>94.0</td>\n",
              "      <td>9.0</td>\n",
              "      <td>9.0</td>\n",
              "      <td>10.0</td>\n",
              "      <td>10.0</td>\n",
              "      <td>10.0</td>\n",
              "      <td>10.0</td>\n",
              "      <td>t</td>\n",
              "      <td>f</td>\n",
              "      <td>strict_14_with_grace_period</td>\n",
              "      <td>f</td>\n",
              "      <td>f</td>\n",
              "      <td>2.0</td>\n",
              "    </tr>\n",
              "    <tr>\n",
              "      <th>8</th>\n",
              "      <td>166820</td>\n",
              "      <td>Toni</td>\n",
              "      <td>2011-07-08</td>\n",
              "      <td>Mallorca - España</td>\n",
              "      <td>Hi People,\\r\\nYou know ... I like to have good...</td>\n",
              "      <td>f</td>\n",
              "      <td>t</td>\n",
              "      <td>t</td>\n",
              "      <td>Banyalbufar</td>\n",
              "      <td>39.679320000000004</td>\n",
              "      <td>2.50136</td>\n",
              "      <td>Bed and breakfast</td>\n",
              "      <td>Private room</td>\n",
              "      <td>2.0</td>\n",
              "      <td>1.0</td>\n",
              "      <td>1.0</td>\n",
              "      <td>2.0</td>\n",
              "      <td>Real Bed</td>\n",
              "      <td>{Wifi,Kitchen,\"Smoking allowed\",\"Pets live on ...</td>\n",
              "      <td>$35.00</td>\n",
              "      <td>$0.00</td>\n",
              "      <td>$0.00</td>\n",
              "      <td>2.0</td>\n",
              "      <td>$27.00</td>\n",
              "      <td>3</td>\n",
              "      <td>136</td>\n",
              "      <td>2011-08-08</td>\n",
              "      <td>2019-06-08</td>\n",
              "      <td>94.0</td>\n",
              "      <td>10.0</td>\n",
              "      <td>9.0</td>\n",
              "      <td>10.0</td>\n",
              "      <td>10.0</td>\n",
              "      <td>10.0</td>\n",
              "      <td>10.0</td>\n",
              "      <td>t</td>\n",
              "      <td>f</td>\n",
              "      <td>strict_14_with_grace_period</td>\n",
              "      <td>f</td>\n",
              "      <td>f</td>\n",
              "      <td>4.0</td>\n",
              "    </tr>\n",
              "  </tbody>\n",
              "</table>\n",
              "</div>"
            ],
            "text/plain": [
              "       id  ... calculated_host_listings_count\n",
              "0  100831  ...                            1.0\n",
              "4  158925  ...                            3.0\n",
              "6  160482  ...                            1.0\n",
              "7  164185  ...                            2.0\n",
              "8  166820  ...                            4.0\n",
              "\n",
              "[5 rows x 41 columns]"
            ]
          },
          "metadata": {},
          "execution_count": 30
        }
      ]
    },
    {
      "cell_type": "markdown",
      "metadata": {
        "id": "wjVBVZTlIY-k"
      },
      "source": [
        "##### **Solución 2: dropna() conservando 'security_deposit' y 'cleaning_fee'**\n",
        "\n",
        "A partir de lo observado en los resultados de la primer posible solución, repetimos el proceso, esta vez reemplazando 'security_deposit' y 'cleaning_fee' por un valor. "
      ]
    },
    {
      "cell_type": "markdown",
      "metadata": {
        "id": "egJBkbthIxbn"
      },
      "source": [
        "###### **Explicación del paso**"
      ]
    },
    {
      "cell_type": "markdown",
      "metadata": {
        "id": "HMPXPXlRK8F5"
      },
      "source": [
        "Para tratar de maximizar la cantidad de entries con las que podemos pasar a la instancia de transformación y posterior análisis, vamos a intentar preservar las instancias donde:\n",
        "*  Hay datos de puntajes y review. \n",
        "*  Hay NaN en las columnas 'security_deposit' y 'cleaning_fee'. \n",
        "\n",
        "A favor de esta solución, podemos considerar que: \n",
        "* Al ser tarifas los valores que ambas columnas representan, reemplazarlos por 0 no debería quitarle vericidad al análisis. \n",
        "* Las columnas no contienen valores elementales para el análisis. "
      ]
    },
    {
      "cell_type": "markdown",
      "metadata": {
        "id": "l_RdXrlXI2Xe"
      },
      "source": [
        "###### **Implementación**"
      ]
    },
    {
      "cell_type": "code",
      "metadata": {
        "id": "KBG4JMCYJVyW",
        "colab": {
          "base_uri": "https://localhost:8080/"
        },
        "outputId": "2220e57b-5366-460a-c458-c7a628f3ead1"
      },
      "source": [
        "df_listado_solucion2 = df_listado\n",
        "df_listado_solucion2['security_deposit'] = df_listado_solucion2['security_deposit'].fillna(0)\n",
        "df_listado_solucion2['cleaning_fee'] = df_listado_solucion2['cleaning_fee'].fillna(0)\n",
        "df_listado_solucion2.drop(df_listado[df_listado['number_of_reviews'] == 0].index)"
      ],
      "execution_count": null,
      "outputs": [
        {
          "output_type": "execute_result",
          "data": {
            "text/html": [
              "<div>\n",
              "<style scoped>\n",
              "    .dataframe tbody tr th:only-of-type {\n",
              "        vertical-align: middle;\n",
              "    }\n",
              "\n",
              "    .dataframe tbody tr th {\n",
              "        vertical-align: top;\n",
              "    }\n",
              "\n",
              "    .dataframe thead th {\n",
              "        text-align: right;\n",
              "    }\n",
              "</style>\n",
              "<table border=\"1\" class=\"dataframe\">\n",
              "  <thead>\n",
              "    <tr style=\"text-align: right;\">\n",
              "      <th></th>\n",
              "      <th>id</th>\n",
              "      <th>host_name</th>\n",
              "      <th>host_since</th>\n",
              "      <th>host_location</th>\n",
              "      <th>host_about</th>\n",
              "      <th>host_is_superhost</th>\n",
              "      <th>host_has_profile_pic</th>\n",
              "      <th>host_identity_verified</th>\n",
              "      <th>neighbourhood_cleansed</th>\n",
              "      <th>latitude</th>\n",
              "      <th>longitude</th>\n",
              "      <th>property_type</th>\n",
              "      <th>room_type</th>\n",
              "      <th>accommodates</th>\n",
              "      <th>bathrooms</th>\n",
              "      <th>bedrooms</th>\n",
              "      <th>beds</th>\n",
              "      <th>bed_type</th>\n",
              "      <th>amenities</th>\n",
              "      <th>price</th>\n",
              "      <th>security_deposit</th>\n",
              "      <th>cleaning_fee</th>\n",
              "      <th>guests_included</th>\n",
              "      <th>extra_people</th>\n",
              "      <th>minimum_nights</th>\n",
              "      <th>number_of_reviews</th>\n",
              "      <th>first_review</th>\n",
              "      <th>last_review</th>\n",
              "      <th>review_scores_rating</th>\n",
              "      <th>review_scores_accuracy</th>\n",
              "      <th>review_scores_cleanliness</th>\n",
              "      <th>review_scores_checkin</th>\n",
              "      <th>review_scores_communication</th>\n",
              "      <th>review_scores_location</th>\n",
              "      <th>review_scores_value</th>\n",
              "      <th>instant_bookable</th>\n",
              "      <th>is_business_travel_ready</th>\n",
              "      <th>cancellation_policy</th>\n",
              "      <th>require_guest_profile_picture</th>\n",
              "      <th>require_guest_phone_verification</th>\n",
              "      <th>calculated_host_listings_count</th>\n",
              "    </tr>\n",
              "  </thead>\n",
              "  <tbody>\n",
              "    <tr>\n",
              "      <th>0</th>\n",
              "      <td>100831</td>\n",
              "      <td>Miguel</td>\n",
              "      <td>2011-04-23</td>\n",
              "      <td>Mallorca</td>\n",
              "      <td>Somos una pareja con los mismos gustos e inter...</td>\n",
              "      <td>f</td>\n",
              "      <td>t</td>\n",
              "      <td>t</td>\n",
              "      <td>Santa Margalida</td>\n",
              "      <td>39.76347</td>\n",
              "      <td>3.16255</td>\n",
              "      <td>House</td>\n",
              "      <td>Entire home/apt</td>\n",
              "      <td>8.0</td>\n",
              "      <td>3.0</td>\n",
              "      <td>4.0</td>\n",
              "      <td>7.0</td>\n",
              "      <td>Real Bed</td>\n",
              "      <td>{TV,\"Cable TV\",Internet,Wifi,\"Air conditioning...</td>\n",
              "      <td>$155.00</td>\n",
              "      <td>$0.00</td>\n",
              "      <td>$100.00</td>\n",
              "      <td>1.0</td>\n",
              "      <td>$0.00</td>\n",
              "      <td>4</td>\n",
              "      <td>20</td>\n",
              "      <td>2018-10-06</td>\n",
              "      <td>2019-04-27</td>\n",
              "      <td>99.0</td>\n",
              "      <td>10.0</td>\n",
              "      <td>10.0</td>\n",
              "      <td>10.0</td>\n",
              "      <td>10.0</td>\n",
              "      <td>9.0</td>\n",
              "      <td>10.0</td>\n",
              "      <td>t</td>\n",
              "      <td>f</td>\n",
              "      <td>strict_14_with_grace_period</td>\n",
              "      <td>f</td>\n",
              "      <td>f</td>\n",
              "      <td>1.0</td>\n",
              "    </tr>\n",
              "    <tr>\n",
              "      <th>1</th>\n",
              "      <td>105891</td>\n",
              "      <td>Bartomeu</td>\n",
              "      <td>2011-05-01</td>\n",
              "      <td>Ariany, Balearic Islands, Spain</td>\n",
              "      <td>Hola!. Resido en una casa de campo de un puebl...</td>\n",
              "      <td>t</td>\n",
              "      <td>t</td>\n",
              "      <td>t</td>\n",
              "      <td>Maria de la Salut</td>\n",
              "      <td>39.66044</td>\n",
              "      <td>3.07165</td>\n",
              "      <td>Townhouse</td>\n",
              "      <td>Entire home/apt</td>\n",
              "      <td>6.0</td>\n",
              "      <td>2.0</td>\n",
              "      <td>3.0</td>\n",
              "      <td>4.0</td>\n",
              "      <td>Real Bed</td>\n",
              "      <td>{TV,\"Cable TV\",Wifi,\"Air conditioning\",Pool,Ki...</td>\n",
              "      <td>$90.00</td>\n",
              "      <td>0</td>\n",
              "      <td>0</td>\n",
              "      <td>4.0</td>\n",
              "      <td>$10.00</td>\n",
              "      <td>7</td>\n",
              "      <td>13</td>\n",
              "      <td>2012-06-19</td>\n",
              "      <td>2019-05-09</td>\n",
              "      <td>97.0</td>\n",
              "      <td>10.0</td>\n",
              "      <td>10.0</td>\n",
              "      <td>10.0</td>\n",
              "      <td>10.0</td>\n",
              "      <td>9.0</td>\n",
              "      <td>10.0</td>\n",
              "      <td>t</td>\n",
              "      <td>f</td>\n",
              "      <td>strict_14_with_grace_period</td>\n",
              "      <td>f</td>\n",
              "      <td>t</td>\n",
              "      <td>2.0</td>\n",
              "    </tr>\n",
              "    <tr>\n",
              "      <th>2</th>\n",
              "      <td>106833</td>\n",
              "      <td>Xisco</td>\n",
              "      <td>2011-05-02</td>\n",
              "      <td>Palma de Mallorca, Balearic Islands, Spain</td>\n",
              "      <td>I'm Xisco. I love Mallorcan way of life.</td>\n",
              "      <td>f</td>\n",
              "      <td>t</td>\n",
              "      <td>f</td>\n",
              "      <td>Sant Llorenç des Cardassar</td>\n",
              "      <td>39.616</td>\n",
              "      <td>3.30121</td>\n",
              "      <td>Villa</td>\n",
              "      <td>Entire home/apt</td>\n",
              "      <td>5.0</td>\n",
              "      <td>NaN</td>\n",
              "      <td>2.0</td>\n",
              "      <td>4.0</td>\n",
              "      <td>Real Bed</td>\n",
              "      <td>{TV,\"Cable TV\",Internet,Wifi,\"Air conditioning...</td>\n",
              "      <td>$84.00</td>\n",
              "      <td>0</td>\n",
              "      <td>$100.00</td>\n",
              "      <td>1.0</td>\n",
              "      <td>$0.00</td>\n",
              "      <td>5</td>\n",
              "      <td>9</td>\n",
              "      <td>2012-06-05</td>\n",
              "      <td>2018-08-13</td>\n",
              "      <td>98.0</td>\n",
              "      <td>10.0</td>\n",
              "      <td>10.0</td>\n",
              "      <td>10.0</td>\n",
              "      <td>10.0</td>\n",
              "      <td>9.0</td>\n",
              "      <td>9.0</td>\n",
              "      <td>f</td>\n",
              "      <td>f</td>\n",
              "      <td>strict_14_with_grace_period</td>\n",
              "      <td>f</td>\n",
              "      <td>f</td>\n",
              "      <td>1.0</td>\n",
              "    </tr>\n",
              "    <tr>\n",
              "      <th>3</th>\n",
              "      <td>130669</td>\n",
              "      <td>Nick</td>\n",
              "      <td>2011-05-30</td>\n",
              "      <td>Palma de Mallorca, Balearic Islands, Spain</td>\n",
              "      <td>NaN</td>\n",
              "      <td>f</td>\n",
              "      <td>t</td>\n",
              "      <td>f</td>\n",
              "      <td>Palma de Mallorca</td>\n",
              "      <td>39.56478</td>\n",
              "      <td>2.60333</td>\n",
              "      <td>Apartment</td>\n",
              "      <td>Private room</td>\n",
              "      <td>2.0</td>\n",
              "      <td>1.0</td>\n",
              "      <td>1.0</td>\n",
              "      <td>2.0</td>\n",
              "      <td>Real Bed</td>\n",
              "      <td>{TV,Wifi,\"Air conditioning\",Pool,Kitchen,Eleva...</td>\n",
              "      <td>$110.00</td>\n",
              "      <td>$0.00</td>\n",
              "      <td>$25.00</td>\n",
              "      <td>1.0</td>\n",
              "      <td>$0.00</td>\n",
              "      <td>2</td>\n",
              "      <td>0</td>\n",
              "      <td>NaN</td>\n",
              "      <td>NaN</td>\n",
              "      <td>NaN</td>\n",
              "      <td>NaN</td>\n",
              "      <td>NaN</td>\n",
              "      <td>NaN</td>\n",
              "      <td>NaN</td>\n",
              "      <td>NaN</td>\n",
              "      <td>NaN</td>\n",
              "      <td>t</td>\n",
              "      <td>f</td>\n",
              "      <td>flexible</td>\n",
              "      <td>f</td>\n",
              "      <td>f</td>\n",
              "      <td>3.0</td>\n",
              "    </tr>\n",
              "    <tr>\n",
              "      <th>4</th>\n",
              "      <td>158925</td>\n",
              "      <td>Marie</td>\n",
              "      <td>2011-06-07</td>\n",
              "      <td>Palma, Balearic Islands, Spain</td>\n",
              "      <td>Hola, me llamo Marie.  Despues de haber viajad...</td>\n",
              "      <td>f</td>\n",
              "      <td>t</td>\n",
              "      <td>f</td>\n",
              "      <td>Campos</td>\n",
              "      <td>39.396609999999995</td>\n",
              "      <td>3.08728</td>\n",
              "      <td>Villa</td>\n",
              "      <td>Private room</td>\n",
              "      <td>3.0</td>\n",
              "      <td>1.0</td>\n",
              "      <td>1.0</td>\n",
              "      <td>3.0</td>\n",
              "      <td>Real Bed</td>\n",
              "      <td>{TV,Wifi,Pool,Kitchen,\"Free parking on premise...</td>\n",
              "      <td>$120.00</td>\n",
              "      <td>$200.00</td>\n",
              "      <td>$40.00</td>\n",
              "      <td>2.0</td>\n",
              "      <td>$10.00</td>\n",
              "      <td>3</td>\n",
              "      <td>37</td>\n",
              "      <td>2012-06-14</td>\n",
              "      <td>2018-10-07</td>\n",
              "      <td>94.0</td>\n",
              "      <td>10.0</td>\n",
              "      <td>9.0</td>\n",
              "      <td>10.0</td>\n",
              "      <td>10.0</td>\n",
              "      <td>9.0</td>\n",
              "      <td>9.0</td>\n",
              "      <td>t</td>\n",
              "      <td>f</td>\n",
              "      <td>strict_14_with_grace_period</td>\n",
              "      <td>f</td>\n",
              "      <td>f</td>\n",
              "      <td>3.0</td>\n",
              "    </tr>\n",
              "    <tr>\n",
              "      <th>...</th>\n",
              "      <td>...</td>\n",
              "      <td>...</td>\n",
              "      <td>...</td>\n",
              "      <td>...</td>\n",
              "      <td>...</td>\n",
              "      <td>...</td>\n",
              "      <td>...</td>\n",
              "      <td>...</td>\n",
              "      <td>...</td>\n",
              "      <td>...</td>\n",
              "      <td>...</td>\n",
              "      <td>...</td>\n",
              "      <td>...</td>\n",
              "      <td>...</td>\n",
              "      <td>...</td>\n",
              "      <td>...</td>\n",
              "      <td>...</td>\n",
              "      <td>...</td>\n",
              "      <td>...</td>\n",
              "      <td>...</td>\n",
              "      <td>...</td>\n",
              "      <td>...</td>\n",
              "      <td>...</td>\n",
              "      <td>...</td>\n",
              "      <td>...</td>\n",
              "      <td>...</td>\n",
              "      <td>...</td>\n",
              "      <td>...</td>\n",
              "      <td>...</td>\n",
              "      <td>...</td>\n",
              "      <td>...</td>\n",
              "      <td>...</td>\n",
              "      <td>...</td>\n",
              "      <td>...</td>\n",
              "      <td>...</td>\n",
              "      <td>...</td>\n",
              "      <td>...</td>\n",
              "      <td>...</td>\n",
              "      <td>...</td>\n",
              "      <td>...</td>\n",
              "      <td>...</td>\n",
              "    </tr>\n",
              "    <tr>\n",
              "      <th>16569</th>\n",
              "      <td>35813379</td>\n",
              "      <td>Arenal2019</td>\n",
              "      <td>2019-04-08</td>\n",
              "      <td>ES</td>\n",
              "      <td>NaN</td>\n",
              "      <td>f</td>\n",
              "      <td>t</td>\n",
              "      <td>f</td>\n",
              "      <td>Palma de Mallorca</td>\n",
              "      <td>39.5036</td>\n",
              "      <td>2.75189</td>\n",
              "      <td>Apartment</td>\n",
              "      <td>Private room</td>\n",
              "      <td>1.0</td>\n",
              "      <td>1.0</td>\n",
              "      <td>1.0</td>\n",
              "      <td>1.0</td>\n",
              "      <td>Real Bed</td>\n",
              "      <td>{Kitchen,\"Smoking allowed\",Elevator,Essentials...</td>\n",
              "      <td>$49.00</td>\n",
              "      <td>0</td>\n",
              "      <td>0</td>\n",
              "      <td>1.0</td>\n",
              "      <td>$0.00</td>\n",
              "      <td>2</td>\n",
              "      <td>2</td>\n",
              "      <td>2019-06-19</td>\n",
              "      <td>2019-06-25</td>\n",
              "      <td>100.0</td>\n",
              "      <td>10.0</td>\n",
              "      <td>10.0</td>\n",
              "      <td>10.0</td>\n",
              "      <td>10.0</td>\n",
              "      <td>10.0</td>\n",
              "      <td>10.0</td>\n",
              "      <td>t</td>\n",
              "      <td>f</td>\n",
              "      <td>flexible</td>\n",
              "      <td>f</td>\n",
              "      <td>f</td>\n",
              "      <td>3.0</td>\n",
              "    </tr>\n",
              "    <tr>\n",
              "      <th>16585</th>\n",
              "      <td>35847888</td>\n",
              "      <td>Estanislao</td>\n",
              "      <td>2018-04-24</td>\n",
              "      <td>Rosario, Santa Fe Province, Argentina</td>\n",
              "      <td>NaN</td>\n",
              "      <td>f</td>\n",
              "      <td>t</td>\n",
              "      <td>f</td>\n",
              "      <td>Palma de Mallorca</td>\n",
              "      <td>39.5624</td>\n",
              "      <td>2.62716</td>\n",
              "      <td>Apartment</td>\n",
              "      <td>Entire home/apt</td>\n",
              "      <td>4.0</td>\n",
              "      <td>1.0</td>\n",
              "      <td>1.0</td>\n",
              "      <td>2.0</td>\n",
              "      <td>Real Bed</td>\n",
              "      <td>{TV,Wifi,\"Air conditioning\",Kitchen,Elevator,W...</td>\n",
              "      <td>$120.00</td>\n",
              "      <td>$0.00</td>\n",
              "      <td>$20.00</td>\n",
              "      <td>1.0</td>\n",
              "      <td>$0.00</td>\n",
              "      <td>2</td>\n",
              "      <td>1</td>\n",
              "      <td>2019-06-23</td>\n",
              "      <td>2019-06-23</td>\n",
              "      <td>NaN</td>\n",
              "      <td>NaN</td>\n",
              "      <td>NaN</td>\n",
              "      <td>NaN</td>\n",
              "      <td>NaN</td>\n",
              "      <td>NaN</td>\n",
              "      <td>NaN</td>\n",
              "      <td>t</td>\n",
              "      <td>f</td>\n",
              "      <td>flexible</td>\n",
              "      <td>f</td>\n",
              "      <td>f</td>\n",
              "      <td>1.0</td>\n",
              "    </tr>\n",
              "    <tr>\n",
              "      <th>16615</th>\n",
              "      <td>35891157</td>\n",
              "      <td>Angelica</td>\n",
              "      <td>2019-06-06</td>\n",
              "      <td>SE</td>\n",
              "      <td>NaN</td>\n",
              "      <td>f</td>\n",
              "      <td>t</td>\n",
              "      <td>f</td>\n",
              "      <td>Alcúdia</td>\n",
              "      <td>39.8169</td>\n",
              "      <td>3.11654</td>\n",
              "      <td>Apartment</td>\n",
              "      <td>Private room</td>\n",
              "      <td>2.0</td>\n",
              "      <td>1.0</td>\n",
              "      <td>1.0</td>\n",
              "      <td>1.0</td>\n",
              "      <td>Real Bed</td>\n",
              "      <td>{TV,Kitchen,\"Free street parking\",\"Indoor fire...</td>\n",
              "      <td>$50.00</td>\n",
              "      <td>0</td>\n",
              "      <td>0</td>\n",
              "      <td>1.0</td>\n",
              "      <td>$0.00</td>\n",
              "      <td>1</td>\n",
              "      <td>1</td>\n",
              "      <td>2019-06-24</td>\n",
              "      <td>2019-06-24</td>\n",
              "      <td>100.0</td>\n",
              "      <td>10.0</td>\n",
              "      <td>10.0</td>\n",
              "      <td>10.0</td>\n",
              "      <td>10.0</td>\n",
              "      <td>10.0</td>\n",
              "      <td>10.0</td>\n",
              "      <td>t</td>\n",
              "      <td>f</td>\n",
              "      <td>flexible</td>\n",
              "      <td>f</td>\n",
              "      <td>f</td>\n",
              "      <td>1.0</td>\n",
              "    </tr>\n",
              "    <tr>\n",
              "      <th>16627</th>\n",
              "      <td>35904222</td>\n",
              "      <td>Teresa</td>\n",
              "      <td>2019-06-19</td>\n",
              "      <td>ES</td>\n",
              "      <td>Hola !!! Sevillana viviendo en Mallorca desde ...</td>\n",
              "      <td>f</td>\n",
              "      <td>t</td>\n",
              "      <td>f</td>\n",
              "      <td>Palma de Mallorca</td>\n",
              "      <td>39.5809</td>\n",
              "      <td>2.66035</td>\n",
              "      <td>Apartment</td>\n",
              "      <td>Private room</td>\n",
              "      <td>2.0</td>\n",
              "      <td>1.0</td>\n",
              "      <td>1.0</td>\n",
              "      <td>1.0</td>\n",
              "      <td>Real Bed</td>\n",
              "      <td>{Wifi,\"Air conditioning\",Kitchen,Elevator,Heat...</td>\n",
              "      <td>$55.00</td>\n",
              "      <td>0</td>\n",
              "      <td>$20.00</td>\n",
              "      <td>1.0</td>\n",
              "      <td>$10.00</td>\n",
              "      <td>2</td>\n",
              "      <td>1</td>\n",
              "      <td>2019-06-24</td>\n",
              "      <td>2019-06-24</td>\n",
              "      <td>NaN</td>\n",
              "      <td>NaN</td>\n",
              "      <td>NaN</td>\n",
              "      <td>NaN</td>\n",
              "      <td>NaN</td>\n",
              "      <td>NaN</td>\n",
              "      <td>NaN</td>\n",
              "      <td>f</td>\n",
              "      <td>f</td>\n",
              "      <td>flexible</td>\n",
              "      <td>f</td>\n",
              "      <td>f</td>\n",
              "      <td>2.0</td>\n",
              "    </tr>\n",
              "    <tr>\n",
              "      <th>16674</th>\n",
              "      <td>35986274</td>\n",
              "      <td>Saray</td>\n",
              "      <td>2019-04-25</td>\n",
              "      <td>Palma, Balearic Islands, Spain</td>\n",
              "      <td>Hablo Inglès, alemán e italiano</td>\n",
              "      <td>f</td>\n",
              "      <td>t</td>\n",
              "      <td>f</td>\n",
              "      <td>Palma de Mallorca</td>\n",
              "      <td>39.5844</td>\n",
              "      <td>2.65581</td>\n",
              "      <td>House</td>\n",
              "      <td>Entire home/apt</td>\n",
              "      <td>6.0</td>\n",
              "      <td>2.0</td>\n",
              "      <td>4.0</td>\n",
              "      <td>5.0</td>\n",
              "      <td>Real Bed</td>\n",
              "      <td>{TV,Wifi,Kitchen,\"Free parking on premises\",\"S...</td>\n",
              "      <td>$77.00</td>\n",
              "      <td>$100.00</td>\n",
              "      <td>$47.00</td>\n",
              "      <td>5.0</td>\n",
              "      <td>$0.00</td>\n",
              "      <td>1</td>\n",
              "      <td>1</td>\n",
              "      <td>2019-06-23</td>\n",
              "      <td>2019-06-23</td>\n",
              "      <td>NaN</td>\n",
              "      <td>NaN</td>\n",
              "      <td>NaN</td>\n",
              "      <td>NaN</td>\n",
              "      <td>NaN</td>\n",
              "      <td>NaN</td>\n",
              "      <td>NaN</td>\n",
              "      <td>f</td>\n",
              "      <td>f</td>\n",
              "      <td>moderate</td>\n",
              "      <td>f</td>\n",
              "      <td>f</td>\n",
              "      <td>2.0</td>\n",
              "    </tr>\n",
              "  </tbody>\n",
              "</table>\n",
              "<p>11889 rows × 41 columns</p>\n",
              "</div>"
            ],
            "text/plain": [
              "             id  ... calculated_host_listings_count\n",
              "0        100831  ...                            1.0\n",
              "1        105891  ...                            2.0\n",
              "2        106833  ...                            1.0\n",
              "3        130669  ...                            3.0\n",
              "4        158925  ...                            3.0\n",
              "...         ...  ...                            ...\n",
              "16569  35813379  ...                            3.0\n",
              "16585  35847888  ...                            1.0\n",
              "16615  35891157  ...                            1.0\n",
              "16627  35904222  ...                            2.0\n",
              "16674  35986274  ...                            2.0\n",
              "\n",
              "[11889 rows x 41 columns]"
            ]
          },
          "metadata": {},
          "execution_count": 31
        }
      ]
    },
    {
      "cell_type": "code",
      "metadata": {
        "colab": {
          "base_uri": "https://localhost:8080/"
        },
        "id": "wu6uY23-KI4K",
        "outputId": "f9ceb649-6bf1-4167-a100-8a5105cdb24d"
      },
      "source": [
        "df_listado_solucion2 = df_listado_solucion2.dropna()\n",
        "df_listado_solucion2.shape"
      ],
      "execution_count": null,
      "outputs": [
        {
          "output_type": "execute_result",
          "data": {
            "text/plain": [
              "(6246, 41)"
            ]
          },
          "metadata": {},
          "execution_count": 32
        }
      ]
    },
    {
      "cell_type": "markdown",
      "metadata": {
        "id": "e58Ab4CpI4Qg"
      },
      "source": [
        "###### **Conclusión y creación del DataFrame**"
      ]
    },
    {
      "cell_type": "markdown",
      "metadata": {
        "id": "TxBPcgWsNnwW"
      },
      "source": [
        "Finalizada la limpieza, así se ve el dataframe de listados, el cual ahora vamos a llevar al proceso de transformación. \n",
        "\n",
        " * **Consiste de 6246 entries en 41 columnas.** \n",
        " * **No presenta NaN's.**\n",
        " * **Contiene información sobre el host, información completa y en detalle de la publicación, detalles del alquiler y los puntajes de las mismas en los diferentes apartados de reviews.**\n"
      ]
    },
    {
      "cell_type": "code",
      "metadata": {
        "colab": {
          "base_uri": "https://localhost:8080/"
        },
        "id": "Amidl2PbNn7b",
        "outputId": "81b76aa8-c351-4d83-ddea-0446ba224ce8"
      },
      "source": [
        "df_listado_solucion2.head()"
      ],
      "execution_count": null,
      "outputs": [
        {
          "output_type": "execute_result",
          "data": {
            "text/html": [
              "<div>\n",
              "<style scoped>\n",
              "    .dataframe tbody tr th:only-of-type {\n",
              "        vertical-align: middle;\n",
              "    }\n",
              "\n",
              "    .dataframe tbody tr th {\n",
              "        vertical-align: top;\n",
              "    }\n",
              "\n",
              "    .dataframe thead th {\n",
              "        text-align: right;\n",
              "    }\n",
              "</style>\n",
              "<table border=\"1\" class=\"dataframe\">\n",
              "  <thead>\n",
              "    <tr style=\"text-align: right;\">\n",
              "      <th></th>\n",
              "      <th>id</th>\n",
              "      <th>host_name</th>\n",
              "      <th>host_since</th>\n",
              "      <th>host_location</th>\n",
              "      <th>host_about</th>\n",
              "      <th>host_is_superhost</th>\n",
              "      <th>host_has_profile_pic</th>\n",
              "      <th>host_identity_verified</th>\n",
              "      <th>neighbourhood_cleansed</th>\n",
              "      <th>latitude</th>\n",
              "      <th>longitude</th>\n",
              "      <th>property_type</th>\n",
              "      <th>room_type</th>\n",
              "      <th>accommodates</th>\n",
              "      <th>bathrooms</th>\n",
              "      <th>bedrooms</th>\n",
              "      <th>beds</th>\n",
              "      <th>bed_type</th>\n",
              "      <th>amenities</th>\n",
              "      <th>price</th>\n",
              "      <th>security_deposit</th>\n",
              "      <th>cleaning_fee</th>\n",
              "      <th>guests_included</th>\n",
              "      <th>extra_people</th>\n",
              "      <th>minimum_nights</th>\n",
              "      <th>number_of_reviews</th>\n",
              "      <th>first_review</th>\n",
              "      <th>last_review</th>\n",
              "      <th>review_scores_rating</th>\n",
              "      <th>review_scores_accuracy</th>\n",
              "      <th>review_scores_cleanliness</th>\n",
              "      <th>review_scores_checkin</th>\n",
              "      <th>review_scores_communication</th>\n",
              "      <th>review_scores_location</th>\n",
              "      <th>review_scores_value</th>\n",
              "      <th>instant_bookable</th>\n",
              "      <th>is_business_travel_ready</th>\n",
              "      <th>cancellation_policy</th>\n",
              "      <th>require_guest_profile_picture</th>\n",
              "      <th>require_guest_phone_verification</th>\n",
              "      <th>calculated_host_listings_count</th>\n",
              "    </tr>\n",
              "  </thead>\n",
              "  <tbody>\n",
              "    <tr>\n",
              "      <th>0</th>\n",
              "      <td>100831</td>\n",
              "      <td>Miguel</td>\n",
              "      <td>2011-04-23</td>\n",
              "      <td>Mallorca</td>\n",
              "      <td>Somos una pareja con los mismos gustos e inter...</td>\n",
              "      <td>f</td>\n",
              "      <td>t</td>\n",
              "      <td>t</td>\n",
              "      <td>Santa Margalida</td>\n",
              "      <td>39.76347</td>\n",
              "      <td>3.16255</td>\n",
              "      <td>House</td>\n",
              "      <td>Entire home/apt</td>\n",
              "      <td>8.0</td>\n",
              "      <td>3.0</td>\n",
              "      <td>4.0</td>\n",
              "      <td>7.0</td>\n",
              "      <td>Real Bed</td>\n",
              "      <td>{TV,\"Cable TV\",Internet,Wifi,\"Air conditioning...</td>\n",
              "      <td>$155.00</td>\n",
              "      <td>$0.00</td>\n",
              "      <td>$100.00</td>\n",
              "      <td>1.0</td>\n",
              "      <td>$0.00</td>\n",
              "      <td>4</td>\n",
              "      <td>20</td>\n",
              "      <td>2018-10-06</td>\n",
              "      <td>2019-04-27</td>\n",
              "      <td>99.0</td>\n",
              "      <td>10.0</td>\n",
              "      <td>10.0</td>\n",
              "      <td>10.0</td>\n",
              "      <td>10.0</td>\n",
              "      <td>9.0</td>\n",
              "      <td>10.0</td>\n",
              "      <td>t</td>\n",
              "      <td>f</td>\n",
              "      <td>strict_14_with_grace_period</td>\n",
              "      <td>f</td>\n",
              "      <td>f</td>\n",
              "      <td>1.0</td>\n",
              "    </tr>\n",
              "    <tr>\n",
              "      <th>1</th>\n",
              "      <td>105891</td>\n",
              "      <td>Bartomeu</td>\n",
              "      <td>2011-05-01</td>\n",
              "      <td>Ariany, Balearic Islands, Spain</td>\n",
              "      <td>Hola!. Resido en una casa de campo de un puebl...</td>\n",
              "      <td>t</td>\n",
              "      <td>t</td>\n",
              "      <td>t</td>\n",
              "      <td>Maria de la Salut</td>\n",
              "      <td>39.66044</td>\n",
              "      <td>3.07165</td>\n",
              "      <td>Townhouse</td>\n",
              "      <td>Entire home/apt</td>\n",
              "      <td>6.0</td>\n",
              "      <td>2.0</td>\n",
              "      <td>3.0</td>\n",
              "      <td>4.0</td>\n",
              "      <td>Real Bed</td>\n",
              "      <td>{TV,\"Cable TV\",Wifi,\"Air conditioning\",Pool,Ki...</td>\n",
              "      <td>$90.00</td>\n",
              "      <td>0</td>\n",
              "      <td>0</td>\n",
              "      <td>4.0</td>\n",
              "      <td>$10.00</td>\n",
              "      <td>7</td>\n",
              "      <td>13</td>\n",
              "      <td>2012-06-19</td>\n",
              "      <td>2019-05-09</td>\n",
              "      <td>97.0</td>\n",
              "      <td>10.0</td>\n",
              "      <td>10.0</td>\n",
              "      <td>10.0</td>\n",
              "      <td>10.0</td>\n",
              "      <td>9.0</td>\n",
              "      <td>10.0</td>\n",
              "      <td>t</td>\n",
              "      <td>f</td>\n",
              "      <td>strict_14_with_grace_period</td>\n",
              "      <td>f</td>\n",
              "      <td>t</td>\n",
              "      <td>2.0</td>\n",
              "    </tr>\n",
              "    <tr>\n",
              "      <th>4</th>\n",
              "      <td>158925</td>\n",
              "      <td>Marie</td>\n",
              "      <td>2011-06-07</td>\n",
              "      <td>Palma, Balearic Islands, Spain</td>\n",
              "      <td>Hola, me llamo Marie.  Despues de haber viajad...</td>\n",
              "      <td>f</td>\n",
              "      <td>t</td>\n",
              "      <td>f</td>\n",
              "      <td>Campos</td>\n",
              "      <td>39.396609999999995</td>\n",
              "      <td>3.08728</td>\n",
              "      <td>Villa</td>\n",
              "      <td>Private room</td>\n",
              "      <td>3.0</td>\n",
              "      <td>1.0</td>\n",
              "      <td>1.0</td>\n",
              "      <td>3.0</td>\n",
              "      <td>Real Bed</td>\n",
              "      <td>{TV,Wifi,Pool,Kitchen,\"Free parking on premise...</td>\n",
              "      <td>$120.00</td>\n",
              "      <td>$200.00</td>\n",
              "      <td>$40.00</td>\n",
              "      <td>2.0</td>\n",
              "      <td>$10.00</td>\n",
              "      <td>3</td>\n",
              "      <td>37</td>\n",
              "      <td>2012-06-14</td>\n",
              "      <td>2018-10-07</td>\n",
              "      <td>94.0</td>\n",
              "      <td>10.0</td>\n",
              "      <td>9.0</td>\n",
              "      <td>10.0</td>\n",
              "      <td>10.0</td>\n",
              "      <td>9.0</td>\n",
              "      <td>9.0</td>\n",
              "      <td>t</td>\n",
              "      <td>f</td>\n",
              "      <td>strict_14_with_grace_period</td>\n",
              "      <td>f</td>\n",
              "      <td>f</td>\n",
              "      <td>3.0</td>\n",
              "    </tr>\n",
              "    <tr>\n",
              "      <th>5</th>\n",
              "      <td>159218</td>\n",
              "      <td>Gabriel</td>\n",
              "      <td>2011-06-30</td>\n",
              "      <td>Inca, Balearic Islands, Spain</td>\n",
              "      <td>Mi profesión es fotógrafo y mis aficiones son:...</td>\n",
              "      <td>t</td>\n",
              "      <td>t</td>\n",
              "      <td>t</td>\n",
              "      <td>Selva</td>\n",
              "      <td>39.73689</td>\n",
              "      <td>2.89745</td>\n",
              "      <td>Villa</td>\n",
              "      <td>Entire home/apt</td>\n",
              "      <td>3.0</td>\n",
              "      <td>1.0</td>\n",
              "      <td>1.0</td>\n",
              "      <td>2.0</td>\n",
              "      <td>Real Bed</td>\n",
              "      <td>{TV,Wifi,Pool,Kitchen,\"Free parking on premise...</td>\n",
              "      <td>$75.00</td>\n",
              "      <td>$100.00</td>\n",
              "      <td>0</td>\n",
              "      <td>2.0</td>\n",
              "      <td>$10.00</td>\n",
              "      <td>3</td>\n",
              "      <td>237</td>\n",
              "      <td>2011-09-15</td>\n",
              "      <td>2019-05-25</td>\n",
              "      <td>99.0</td>\n",
              "      <td>10.0</td>\n",
              "      <td>10.0</td>\n",
              "      <td>10.0</td>\n",
              "      <td>10.0</td>\n",
              "      <td>10.0</td>\n",
              "      <td>9.0</td>\n",
              "      <td>t</td>\n",
              "      <td>f</td>\n",
              "      <td>moderate</td>\n",
              "      <td>f</td>\n",
              "      <td>f</td>\n",
              "      <td>1.0</td>\n",
              "    </tr>\n",
              "    <tr>\n",
              "      <th>6</th>\n",
              "      <td>160482</td>\n",
              "      <td>Marga</td>\n",
              "      <td>2011-07-02</td>\n",
              "      <td>Palma de Mallorca, Balearic Islands, Spain</td>\n",
              "      <td>Married mallorquina with 2 children that loves...</td>\n",
              "      <td>f</td>\n",
              "      <td>t</td>\n",
              "      <td>t</td>\n",
              "      <td>Esporles</td>\n",
              "      <td>39.654140000000005</td>\n",
              "      <td>2.62546</td>\n",
              "      <td>House</td>\n",
              "      <td>Entire home/apt</td>\n",
              "      <td>6.0</td>\n",
              "      <td>2.0</td>\n",
              "      <td>3.0</td>\n",
              "      <td>3.0</td>\n",
              "      <td>Real Bed</td>\n",
              "      <td>{TV,\"Cable TV\",Wifi,\"Air conditioning\",Pool,Ki...</td>\n",
              "      <td>$175.00</td>\n",
              "      <td>$350.00</td>\n",
              "      <td>$120.00</td>\n",
              "      <td>4.0</td>\n",
              "      <td>$20.00</td>\n",
              "      <td>4</td>\n",
              "      <td>54</td>\n",
              "      <td>2011-08-07</td>\n",
              "      <td>2019-06-10</td>\n",
              "      <td>96.0</td>\n",
              "      <td>10.0</td>\n",
              "      <td>10.0</td>\n",
              "      <td>10.0</td>\n",
              "      <td>10.0</td>\n",
              "      <td>10.0</td>\n",
              "      <td>9.0</td>\n",
              "      <td>f</td>\n",
              "      <td>f</td>\n",
              "      <td>strict_14_with_grace_period</td>\n",
              "      <td>t</td>\n",
              "      <td>t</td>\n",
              "      <td>1.0</td>\n",
              "    </tr>\n",
              "  </tbody>\n",
              "</table>\n",
              "</div>"
            ],
            "text/plain": [
              "       id  ... calculated_host_listings_count\n",
              "0  100831  ...                            1.0\n",
              "1  105891  ...                            2.0\n",
              "4  158925  ...                            3.0\n",
              "5  159218  ...                            1.0\n",
              "6  160482  ...                            1.0\n",
              "\n",
              "[5 rows x 41 columns]"
            ]
          },
          "metadata": {},
          "execution_count": 33
        }
      ]
    },
    {
      "cell_type": "markdown",
      "metadata": {
        "id": "LD4S93if5c8I"
      },
      "source": [
        "Por una cuestión de practicidad, llamaremos simplmente df_listado a este DataFrame final. "
      ]
    },
    {
      "cell_type": "code",
      "metadata": {
        "id": "M_WEhU535kwR"
      },
      "source": [
        "df_listado = df_listado_solucion2"
      ],
      "execution_count": null,
      "outputs": []
    },
    {
      "cell_type": "markdown",
      "metadata": {
        "id": "oZ36qsBF0nrR"
      },
      "source": [
        "## **TRANSFORMACIÓN DE DATOS**\n",
        "\n",
        "Una vez finalizado el paso de limpieza, traemos el dataframe obtenido a la instancia de transformación.\n",
        "\n",
        "Siguiendo la metodología de trabajo recién empleada para la limpieza de los mismos, trabajaremos en dos segmentos: \n",
        "\n",
        "* **Revisión columna por columna.** \n",
        "* **Transformación.**"
      ]
    },
    {
      "cell_type": "markdown",
      "metadata": {
        "id": "s7X4HTc15bjb"
      },
      "source": [
        "### ANÁLISIS COLUMNA POR COLUMNA.\n",
        "\n",
        "Utilizando una serie de funciones, relevamos las columnas para verificar que no hayan inputs extraños en las mismas, y poder luego estandarizar los dtypes. "
      ]
    },
    {
      "cell_type": "markdown",
      "metadata": {
        "id": "fRw9rh58RoQw"
      },
      "source": [
        "#### **Explicación del paso**"
      ]
    },
    {
      "cell_type": "markdown",
      "metadata": {
        "id": "F8QIsE81FxoK"
      },
      "source": [
        "El dataframe contiene 41 columnas y 6246 entries. "
      ]
    },
    {
      "cell_type": "code",
      "metadata": {
        "colab": {
          "base_uri": "https://localhost:8080/"
        },
        "id": "Gw3wUlPUFyxV",
        "outputId": "005afb8c-e45a-4b68-c0a5-15d2c523ab3c"
      },
      "source": [
        "df_listado.shape"
      ],
      "execution_count": null,
      "outputs": [
        {
          "output_type": "execute_result",
          "data": {
            "text/plain": [
              "(6246, 41)"
            ]
          },
          "metadata": {},
          "execution_count": 35
        }
      ]
    },
    {
      "cell_type": "markdown",
      "metadata": {
        "id": "ip1iGnPJGAtI"
      },
      "source": [
        "Si revisamos los diferentes contenidos de las 41 columnas, nos encontramos con que podemos dividir las columnas por su contenido, y el potencial dtype que le podemos asignar a cada una. "
      ]
    },
    {
      "cell_type": "code",
      "metadata": {
        "colab": {
          "base_uri": "https://localhost:8080/"
        },
        "id": "6uvE0oenjNup",
        "outputId": "7ea10603-2683-4328-ea35-3f688dfed5e7"
      },
      "source": [
        "df_listado.head(3)"
      ],
      "execution_count": null,
      "outputs": [
        {
          "output_type": "execute_result",
          "data": {
            "text/html": [
              "<div>\n",
              "<style scoped>\n",
              "    .dataframe tbody tr th:only-of-type {\n",
              "        vertical-align: middle;\n",
              "    }\n",
              "\n",
              "    .dataframe tbody tr th {\n",
              "        vertical-align: top;\n",
              "    }\n",
              "\n",
              "    .dataframe thead th {\n",
              "        text-align: right;\n",
              "    }\n",
              "</style>\n",
              "<table border=\"1\" class=\"dataframe\">\n",
              "  <thead>\n",
              "    <tr style=\"text-align: right;\">\n",
              "      <th></th>\n",
              "      <th>id</th>\n",
              "      <th>host_name</th>\n",
              "      <th>host_since</th>\n",
              "      <th>host_location</th>\n",
              "      <th>host_about</th>\n",
              "      <th>host_is_superhost</th>\n",
              "      <th>host_has_profile_pic</th>\n",
              "      <th>host_identity_verified</th>\n",
              "      <th>neighbourhood_cleansed</th>\n",
              "      <th>latitude</th>\n",
              "      <th>longitude</th>\n",
              "      <th>property_type</th>\n",
              "      <th>room_type</th>\n",
              "      <th>accommodates</th>\n",
              "      <th>bathrooms</th>\n",
              "      <th>bedrooms</th>\n",
              "      <th>beds</th>\n",
              "      <th>bed_type</th>\n",
              "      <th>amenities</th>\n",
              "      <th>price</th>\n",
              "      <th>security_deposit</th>\n",
              "      <th>cleaning_fee</th>\n",
              "      <th>guests_included</th>\n",
              "      <th>extra_people</th>\n",
              "      <th>minimum_nights</th>\n",
              "      <th>number_of_reviews</th>\n",
              "      <th>first_review</th>\n",
              "      <th>last_review</th>\n",
              "      <th>review_scores_rating</th>\n",
              "      <th>review_scores_accuracy</th>\n",
              "      <th>review_scores_cleanliness</th>\n",
              "      <th>review_scores_checkin</th>\n",
              "      <th>review_scores_communication</th>\n",
              "      <th>review_scores_location</th>\n",
              "      <th>review_scores_value</th>\n",
              "      <th>instant_bookable</th>\n",
              "      <th>is_business_travel_ready</th>\n",
              "      <th>cancellation_policy</th>\n",
              "      <th>require_guest_profile_picture</th>\n",
              "      <th>require_guest_phone_verification</th>\n",
              "      <th>calculated_host_listings_count</th>\n",
              "    </tr>\n",
              "  </thead>\n",
              "  <tbody>\n",
              "    <tr>\n",
              "      <th>0</th>\n",
              "      <td>100831</td>\n",
              "      <td>Miguel</td>\n",
              "      <td>2011-04-23</td>\n",
              "      <td>Mallorca</td>\n",
              "      <td>Somos una pareja con los mismos gustos e inter...</td>\n",
              "      <td>f</td>\n",
              "      <td>t</td>\n",
              "      <td>t</td>\n",
              "      <td>Santa Margalida</td>\n",
              "      <td>39.76347</td>\n",
              "      <td>3.16255</td>\n",
              "      <td>House</td>\n",
              "      <td>Entire home/apt</td>\n",
              "      <td>8.0</td>\n",
              "      <td>3.0</td>\n",
              "      <td>4.0</td>\n",
              "      <td>7.0</td>\n",
              "      <td>Real Bed</td>\n",
              "      <td>{TV,\"Cable TV\",Internet,Wifi,\"Air conditioning...</td>\n",
              "      <td>$155.00</td>\n",
              "      <td>$0.00</td>\n",
              "      <td>$100.00</td>\n",
              "      <td>1.0</td>\n",
              "      <td>$0.00</td>\n",
              "      <td>4</td>\n",
              "      <td>20</td>\n",
              "      <td>2018-10-06</td>\n",
              "      <td>2019-04-27</td>\n",
              "      <td>99.0</td>\n",
              "      <td>10.0</td>\n",
              "      <td>10.0</td>\n",
              "      <td>10.0</td>\n",
              "      <td>10.0</td>\n",
              "      <td>9.0</td>\n",
              "      <td>10.0</td>\n",
              "      <td>t</td>\n",
              "      <td>f</td>\n",
              "      <td>strict_14_with_grace_period</td>\n",
              "      <td>f</td>\n",
              "      <td>f</td>\n",
              "      <td>1.0</td>\n",
              "    </tr>\n",
              "    <tr>\n",
              "      <th>1</th>\n",
              "      <td>105891</td>\n",
              "      <td>Bartomeu</td>\n",
              "      <td>2011-05-01</td>\n",
              "      <td>Ariany, Balearic Islands, Spain</td>\n",
              "      <td>Hola!. Resido en una casa de campo de un puebl...</td>\n",
              "      <td>t</td>\n",
              "      <td>t</td>\n",
              "      <td>t</td>\n",
              "      <td>Maria de la Salut</td>\n",
              "      <td>39.66044</td>\n",
              "      <td>3.07165</td>\n",
              "      <td>Townhouse</td>\n",
              "      <td>Entire home/apt</td>\n",
              "      <td>6.0</td>\n",
              "      <td>2.0</td>\n",
              "      <td>3.0</td>\n",
              "      <td>4.0</td>\n",
              "      <td>Real Bed</td>\n",
              "      <td>{TV,\"Cable TV\",Wifi,\"Air conditioning\",Pool,Ki...</td>\n",
              "      <td>$90.00</td>\n",
              "      <td>0</td>\n",
              "      <td>0</td>\n",
              "      <td>4.0</td>\n",
              "      <td>$10.00</td>\n",
              "      <td>7</td>\n",
              "      <td>13</td>\n",
              "      <td>2012-06-19</td>\n",
              "      <td>2019-05-09</td>\n",
              "      <td>97.0</td>\n",
              "      <td>10.0</td>\n",
              "      <td>10.0</td>\n",
              "      <td>10.0</td>\n",
              "      <td>10.0</td>\n",
              "      <td>9.0</td>\n",
              "      <td>10.0</td>\n",
              "      <td>t</td>\n",
              "      <td>f</td>\n",
              "      <td>strict_14_with_grace_period</td>\n",
              "      <td>f</td>\n",
              "      <td>t</td>\n",
              "      <td>2.0</td>\n",
              "    </tr>\n",
              "    <tr>\n",
              "      <th>4</th>\n",
              "      <td>158925</td>\n",
              "      <td>Marie</td>\n",
              "      <td>2011-06-07</td>\n",
              "      <td>Palma, Balearic Islands, Spain</td>\n",
              "      <td>Hola, me llamo Marie.  Despues de haber viajad...</td>\n",
              "      <td>f</td>\n",
              "      <td>t</td>\n",
              "      <td>f</td>\n",
              "      <td>Campos</td>\n",
              "      <td>39.396609999999995</td>\n",
              "      <td>3.08728</td>\n",
              "      <td>Villa</td>\n",
              "      <td>Private room</td>\n",
              "      <td>3.0</td>\n",
              "      <td>1.0</td>\n",
              "      <td>1.0</td>\n",
              "      <td>3.0</td>\n",
              "      <td>Real Bed</td>\n",
              "      <td>{TV,Wifi,Pool,Kitchen,\"Free parking on premise...</td>\n",
              "      <td>$120.00</td>\n",
              "      <td>$200.00</td>\n",
              "      <td>$40.00</td>\n",
              "      <td>2.0</td>\n",
              "      <td>$10.00</td>\n",
              "      <td>3</td>\n",
              "      <td>37</td>\n",
              "      <td>2012-06-14</td>\n",
              "      <td>2018-10-07</td>\n",
              "      <td>94.0</td>\n",
              "      <td>10.0</td>\n",
              "      <td>9.0</td>\n",
              "      <td>10.0</td>\n",
              "      <td>10.0</td>\n",
              "      <td>9.0</td>\n",
              "      <td>9.0</td>\n",
              "      <td>t</td>\n",
              "      <td>f</td>\n",
              "      <td>strict_14_with_grace_period</td>\n",
              "      <td>f</td>\n",
              "      <td>f</td>\n",
              "      <td>3.0</td>\n",
              "    </tr>\n",
              "  </tbody>\n",
              "</table>\n",
              "</div>"
            ],
            "text/plain": [
              "       id  ... calculated_host_listings_count\n",
              "0  100831  ...                            1.0\n",
              "1  105891  ...                            2.0\n",
              "4  158925  ...                            3.0\n",
              "\n",
              "[3 rows x 41 columns]"
            ]
          },
          "metadata": {},
          "execution_count": 36
        }
      ]
    },
    {
      "cell_type": "markdown",
      "metadata": {
        "id": "OOaClVXMlVZ0"
      },
      "source": [
        "Así, podemos dividir las columnas en: \n",
        "\n",
        "* **Columnas que deberían tener únicamente valores numéricos (18 columnas):** \n",
        "'id', 'latitude', 'longitude', 'accommodates', 'bathrooms', 'bedrooms',  'beds', 'guests_included', 'minimum_nights', 'number_of_reviews',  'review_scores_rating', 'review_scores_accuracy',  'review_scores_cleanliness', 'review_scores_checkin',  'review_scores_communication', 'review_scores_location',  'review_scores_value', 'calculated_host_listings_count'\n",
        "\n",
        "* **Columnas que deberían contener booleanos (t/f) (7 columnas):** 'host_is_superhost', 'instant_bookable', 'host_has_profile_pic', 'host_identity_verified', 'is_business_travel_ready', 'require_guest_profile_picture', 'require_guest_phone_verification' \n",
        "\n",
        "* **Columnas que deberían contener categorías de Airbnb (5 columnas):** 'property_type', 'room_type', 'bed_type', 'neighbourhood_cleansed', 'cancellation_policy'\n",
        "\n",
        "* **Columnas que deberían contener montos ($) (4 columnas):**  'price', 'security_deposit', 'cleaning_fee', 'extra_people'\n",
        "\n",
        "* **Conlumnas que deberían contener fechas (YYYY-MM-DD) (3 columnas):**  'host_since', 'first_review', 'last_review'\n",
        "\n",
        "* **Otros (4 columnas):** 'host_name', 'host_location', 'host_about', 'amenities'\n",
        "\n"
      ]
    },
    {
      "cell_type": "markdown",
      "metadata": {
        "id": "fjZ7MWPptJ3I"
      },
      "source": [
        "Para cada subset, **definiremos una función que identifique datos extraños para su eliminación**. "
      ]
    },
    {
      "cell_type": "markdown",
      "metadata": {
        "id": "bueSgXElkAuT"
      },
      "source": [
        "#### **Implementación**"
      ]
    },
    {
      "cell_type": "markdown",
      "metadata": {
        "id": "7P_PqFRKauZL"
      },
      "source": [
        "##### **Columnas de instancias numéricas** \n",
        "\n"
      ]
    },
    {
      "cell_type": "markdown",
      "metadata": {
        "id": "LfvL7bg7ukhr"
      },
      "source": [
        "Para las columnas de valores numéricos, definimos una función que itera por las instancias de la columna que se le pasa por parámetro. Idealmente, la función debería indicar que todas las columnas contienen instancias numéricas únicamente. "
      ]
    },
    {
      "cell_type": "code",
      "metadata": {
        "id": "Qx0ulyi3Rv2n"
      },
      "source": [
        "def chequeo_columna_numerica (columna): \n",
        "  contador = 0\n",
        "  for id in columna: \n",
        "    try: \n",
        "      float(id) \n",
        "    except:\n",
        "      contador = contador + 1\n",
        "      print('Este input no es numérico.', id) \n",
        "  if contador == 0:\n",
        "    print('La columna está lista para transformar!')\n",
        "    "
      ],
      "execution_count": null,
      "outputs": []
    },
    {
      "cell_type": "code",
      "metadata": {
        "colab": {
          "base_uri": "https://localhost:8080/"
        },
        "id": "X9TOrQGFUabv",
        "outputId": "67fb35e5-91f4-4969-ca71-db7e0577c962"
      },
      "source": [
        "chequeo_columna_numerica(df_listado['id'].unique())"
      ],
      "execution_count": null,
      "outputs": [
        {
          "output_type": "stream",
          "name": "stdout",
          "text": [
            "La columna está lista para transformar!\n"
          ]
        }
      ]
    },
    {
      "cell_type": "code",
      "metadata": {
        "colab": {
          "base_uri": "https://localhost:8080/"
        },
        "id": "RW7AgwiTVgJk",
        "outputId": "9cc1bed1-9fcb-45ca-ff98-e8babd4dff99"
      },
      "source": [
        "chequeo_columna_numerica(df_listado['latitude'].unique())"
      ],
      "execution_count": null,
      "outputs": [
        {
          "output_type": "stream",
          "name": "stdout",
          "text": [
            "La columna está lista para transformar!\n"
          ]
        }
      ]
    },
    {
      "cell_type": "code",
      "metadata": {
        "colab": {
          "base_uri": "https://localhost:8080/"
        },
        "id": "y7lJMavOWBtn",
        "outputId": "98405958-5ded-4087-b38d-f459f536edc3"
      },
      "source": [
        "chequeo_columna_numerica(df_listado['longitude'].unique())"
      ],
      "execution_count": null,
      "outputs": [
        {
          "output_type": "stream",
          "name": "stdout",
          "text": [
            "La columna está lista para transformar!\n"
          ]
        }
      ]
    },
    {
      "cell_type": "code",
      "metadata": {
        "colab": {
          "base_uri": "https://localhost:8080/"
        },
        "id": "uBMxsFIcXTdn",
        "outputId": "530779bf-273a-40f4-e3d5-abf97d4f8068"
      },
      "source": [
        "chequeo_columna_numerica(df_listado['accommodates'].unique())"
      ],
      "execution_count": null,
      "outputs": [
        {
          "output_type": "stream",
          "name": "stdout",
          "text": [
            "La columna está lista para transformar!\n"
          ]
        }
      ]
    },
    {
      "cell_type": "code",
      "metadata": {
        "colab": {
          "base_uri": "https://localhost:8080/"
        },
        "id": "fCJhiKGwXkQK",
        "outputId": "865725d0-0862-4046-c963-05f0c373fbb1"
      },
      "source": [
        "chequeo_columna_numerica(df_listado['bathrooms'].unique())"
      ],
      "execution_count": null,
      "outputs": [
        {
          "output_type": "stream",
          "name": "stdout",
          "text": [
            "La columna está lista para transformar!\n"
          ]
        }
      ]
    },
    {
      "cell_type": "code",
      "metadata": {
        "colab": {
          "base_uri": "https://localhost:8080/"
        },
        "id": "9dnFPd0GXpxd",
        "outputId": "8e999802-219a-4523-f228-15b1aa84af1d"
      },
      "source": [
        "chequeo_columna_numerica(df_listado['bedrooms'].unique())"
      ],
      "execution_count": null,
      "outputs": [
        {
          "output_type": "stream",
          "name": "stdout",
          "text": [
            "La columna está lista para transformar!\n"
          ]
        }
      ]
    },
    {
      "cell_type": "code",
      "metadata": {
        "colab": {
          "base_uri": "https://localhost:8080/"
        },
        "id": "n8HSUIWiX0C4",
        "outputId": "162dccc2-514f-4119-83a7-0ae51366598e"
      },
      "source": [
        "chequeo_columna_numerica(df_listado['beds'].unique())"
      ],
      "execution_count": null,
      "outputs": [
        {
          "output_type": "stream",
          "name": "stdout",
          "text": [
            "La columna está lista para transformar!\n"
          ]
        }
      ]
    },
    {
      "cell_type": "code",
      "metadata": {
        "colab": {
          "base_uri": "https://localhost:8080/"
        },
        "id": "MIMUtbZjYdb3",
        "outputId": "5ee2a0c2-da96-4daa-ae9d-2e00f27ecbc3"
      },
      "source": [
        "chequeo_columna_numerica(df_listado['guests_included'].unique())"
      ],
      "execution_count": null,
      "outputs": [
        {
          "output_type": "stream",
          "name": "stdout",
          "text": [
            "La columna está lista para transformar!\n"
          ]
        }
      ]
    },
    {
      "cell_type": "code",
      "metadata": {
        "colab": {
          "base_uri": "https://localhost:8080/"
        },
        "id": "7X5KlmRIYhpC",
        "outputId": "204c8963-2214-4849-84ab-653899a9bed2"
      },
      "source": [
        "chequeo_columna_numerica(df_listado['minimum_nights'].unique())"
      ],
      "execution_count": null,
      "outputs": [
        {
          "output_type": "stream",
          "name": "stdout",
          "text": [
            "La columna está lista para transformar!\n"
          ]
        }
      ]
    },
    {
      "cell_type": "code",
      "metadata": {
        "colab": {
          "base_uri": "https://localhost:8080/"
        },
        "id": "-hT8v8C6YqkF",
        "outputId": "1a9370e7-0e24-4d38-b1f3-c49ee9ac6f37"
      },
      "source": [
        "chequeo_columna_numerica(df_listado['number_of_reviews'].unique())"
      ],
      "execution_count": null,
      "outputs": [
        {
          "output_type": "stream",
          "name": "stdout",
          "text": [
            "La columna está lista para transformar!\n"
          ]
        }
      ]
    },
    {
      "cell_type": "code",
      "metadata": {
        "colab": {
          "base_uri": "https://localhost:8080/"
        },
        "id": "yc-0WcBLYxol",
        "outputId": "4dd282c9-aa97-4167-a2e9-6422c1924b9c"
      },
      "source": [
        "chequeo_columna_numerica(df_listado['review_scores_rating'].unique())"
      ],
      "execution_count": null,
      "outputs": [
        {
          "output_type": "stream",
          "name": "stdout",
          "text": [
            "La columna está lista para transformar!\n"
          ]
        }
      ]
    },
    {
      "cell_type": "code",
      "metadata": {
        "colab": {
          "base_uri": "https://localhost:8080/"
        },
        "id": "AMFs_Vn0Y444",
        "outputId": "b2a0b156-4b72-464c-ea78-b69a24cc1a93"
      },
      "source": [
        "chequeo_columna_numerica(df_listado['review_scores_accuracy'].unique())"
      ],
      "execution_count": null,
      "outputs": [
        {
          "output_type": "stream",
          "name": "stdout",
          "text": [
            "La columna está lista para transformar!\n"
          ]
        }
      ]
    },
    {
      "cell_type": "code",
      "metadata": {
        "colab": {
          "base_uri": "https://localhost:8080/"
        },
        "id": "s4tG6MQCY7OR",
        "outputId": "3c12d0ae-9eba-4da1-9bde-5964ed210d35"
      },
      "source": [
        "chequeo_columna_numerica(df_listado['review_scores_cleanliness'].unique())"
      ],
      "execution_count": null,
      "outputs": [
        {
          "output_type": "stream",
          "name": "stdout",
          "text": [
            "La columna está lista para transformar!\n"
          ]
        }
      ]
    },
    {
      "cell_type": "code",
      "metadata": {
        "colab": {
          "base_uri": "https://localhost:8080/"
        },
        "id": "v_MstrBkY7Hz",
        "outputId": "98091d8a-7db2-4f44-a0e2-5e776def427b"
      },
      "source": [
        "chequeo_columna_numerica(df_listado['review_scores_checkin'].unique())"
      ],
      "execution_count": null,
      "outputs": [
        {
          "output_type": "stream",
          "name": "stdout",
          "text": [
            "La columna está lista para transformar!\n"
          ]
        }
      ]
    },
    {
      "cell_type": "code",
      "metadata": {
        "colab": {
          "base_uri": "https://localhost:8080/"
        },
        "id": "szXYdaLTY68a",
        "outputId": "efcd9563-26a6-475c-870f-2dca2551aac5"
      },
      "source": [
        "chequeo_columna_numerica(df_listado['review_scores_communication'].unique())"
      ],
      "execution_count": null,
      "outputs": [
        {
          "output_type": "stream",
          "name": "stdout",
          "text": [
            "La columna está lista para transformar!\n"
          ]
        }
      ]
    },
    {
      "cell_type": "code",
      "metadata": {
        "colab": {
          "base_uri": "https://localhost:8080/"
        },
        "id": "GpuUA7cVY64_",
        "outputId": "0bb53c95-2e5d-44a3-cf22-8a4eb5b9c942"
      },
      "source": [
        "chequeo_columna_numerica(df_listado['review_scores_location'].unique())"
      ],
      "execution_count": null,
      "outputs": [
        {
          "output_type": "stream",
          "name": "stdout",
          "text": [
            "La columna está lista para transformar!\n"
          ]
        }
      ]
    },
    {
      "cell_type": "code",
      "metadata": {
        "colab": {
          "base_uri": "https://localhost:8080/"
        },
        "id": "bfp0PYMjZYqP",
        "outputId": "564be779-1189-4c0c-a141-b93488213c59"
      },
      "source": [
        "chequeo_columna_numerica(df_listado['review_scores_value'].unique())"
      ],
      "execution_count": null,
      "outputs": [
        {
          "output_type": "stream",
          "name": "stdout",
          "text": [
            "La columna está lista para transformar!\n"
          ]
        }
      ]
    },
    {
      "cell_type": "code",
      "metadata": {
        "colab": {
          "base_uri": "https://localhost:8080/"
        },
        "id": "qv-5ypgkZYYA",
        "outputId": "2d791f00-241f-4882-9229-e3629c224d96"
      },
      "source": [
        "chequeo_columna_numerica(df_listado['calculated_host_listings_count'].unique())"
      ],
      "execution_count": null,
      "outputs": [
        {
          "output_type": "stream",
          "name": "stdout",
          "text": [
            "La columna está lista para transformar!\n"
          ]
        }
      ]
    },
    {
      "cell_type": "markdown",
      "metadata": {
        "id": "G_piCB_Q4GMy"
      },
      "source": [
        "##### **Columnas con booleanos**"
      ]
    },
    {
      "cell_type": "markdown",
      "metadata": {
        "id": "vd00d5vHugSK"
      },
      "source": [
        "Para este grupo de columnas realizamos un reemplazo con el método .replace. Se reemplazarán las instancias 't' por 1 y las instancias 'f' por 0. "
      ]
    },
    {
      "cell_type": "code",
      "metadata": {
        "id": "jy2GegKg4LGI"
      },
      "source": [
        "df_listado.host_is_superhost = df_listado.host_is_superhost.replace({'t': 1, 'f': 0})\n",
        "df_listado.instant_bookable = df_listado.instant_bookable.replace({'t': 1, 'f': 0})\n",
        "df_listado.host_has_profile_pic = df_listado.host_has_profile_pic.replace({'t': 1, 'f': 0})\n",
        "df_listado.host_identity_verified = df_listado.host_identity_verified.replace({'t': 1, 'f': 0})\n",
        "df_listado.is_business_travel_ready = df_listado.is_business_travel_ready.replace({'t': 1, 'f': 0})\n",
        "df_listado.require_guest_profile_picture = df_listado.require_guest_profile_picture.replace({'t': 1, 'f': 0})\n",
        "df_listado.require_guest_phone_verification = df_listado.require_guest_phone_verification.replace({'t': 1, 'f': 0})"
      ],
      "execution_count": null,
      "outputs": []
    },
    {
      "cell_type": "markdown",
      "metadata": {
        "id": "RX8CYbs9qMmC"
      },
      "source": [
        "##### **Columnas categóricas de Airbnb**"
      ]
    },
    {
      "cell_type": "markdown",
      "metadata": {
        "id": "Up3C64HCunzx"
      },
      "source": [
        "Para este grupo de columnas, basta con utilizar el método unique() individualmente para revisar que efectivamente las columnas sólo tengan como instancias los valores proporcionados por Airbnb como categorías para cada columna. "
      ]
    },
    {
      "cell_type": "code",
      "metadata": {
        "colab": {
          "base_uri": "https://localhost:8080/"
        },
        "id": "c2oWM7RXqUex",
        "outputId": "41e92815-a19a-45e9-a0d2-89ff866e64bc"
      },
      "source": [
        "df_listado['neighbourhood_cleansed'].unique()"
      ],
      "execution_count": null,
      "outputs": [
        {
          "output_type": "execute_result",
          "data": {
            "text/plain": [
              "array(['Santa Margalida', 'Maria de la Salut', 'Campos', 'Selva',\n",
              "       'Esporles', 'Palma de Mallorca', 'Banyalbufar', 'Manacor',\n",
              "       'Sa Pobla', 'Alcúdia', 'Pollença', 'Artà', 'Santanyí', 'Fornalutx',\n",
              "       'Llucmajor', 'Sineu', 'Lloseta', 'Algaida', 'Marratxí', 'Felanitx',\n",
              "       'Llubí', 'Muro', 'Lloret de Vistalegre', 'Ariany', 'Campanet',\n",
              "       'Capdepera', 'Puigpunyent', 'Binissalem', 'Sóller',\n",
              "       'Sant Llorenç des Cardassar', 'Calvià', 'Valldemossa',\n",
              "       'Son Servera', 'Andratx', 'Mancor de la Vall', 'Ses Salines',\n",
              "       'Santa María del Camí', 'Inca', 'Costitx', 'Bunyola', 'Deyá',\n",
              "       'Búger', 'Porreres', 'Alaró', 'Montuïri', 'Escorca', 'Petra',\n",
              "       'Consell', 'Sencelles', 'Vilafranc de Bonany', 'Estellencs',\n",
              "       'Sant Joan', 'Santa Eugènia'], dtype=object)"
            ]
          },
          "metadata": {},
          "execution_count": 57
        }
      ]
    },
    {
      "cell_type": "code",
      "metadata": {
        "colab": {
          "base_uri": "https://localhost:8080/"
        },
        "id": "2zho68TM2I9S",
        "outputId": "33967fc1-c475-4361-f6e9-7600c6743e7c"
      },
      "source": [
        "df_listado['property_type'].unique()"
      ],
      "execution_count": null,
      "outputs": [
        {
          "output_type": "execute_result",
          "data": {
            "text/plain": [
              "array(['House', 'Townhouse', 'Villa', 'Guest suite', 'Bed and breakfast',\n",
              "       'Loft', 'Apartment', 'Cottage', 'Castle', 'Condominium',\n",
              "       'Boutique hotel', 'Guesthouse', 'Chalet', 'Cabin',\n",
              "       'Serviced apartment', 'Other', 'Boat', 'Hostel', 'Farm stay',\n",
              "       'Hut', 'Bungalow', 'Nature lodge', 'Earth house', 'Tiny house',\n",
              "       'Camper/RV', 'Aparthotel', 'Casa particular (Cuba)', 'Resort',\n",
              "       'Windmill', 'Hotel', 'Tent', 'Vacation home'], dtype=object)"
            ]
          },
          "metadata": {},
          "execution_count": 58
        }
      ]
    },
    {
      "cell_type": "code",
      "metadata": {
        "colab": {
          "base_uri": "https://localhost:8080/"
        },
        "id": "zW7iDLNv2LEW",
        "outputId": "a6831889-05e9-4ab1-b3cf-d68aedc6661d"
      },
      "source": [
        "df_listado['room_type'].unique()"
      ],
      "execution_count": null,
      "outputs": [
        {
          "output_type": "execute_result",
          "data": {
            "text/plain": [
              "array(['Entire home/apt', 'Private room', 'Shared room'], dtype=object)"
            ]
          },
          "metadata": {},
          "execution_count": 59
        }
      ]
    },
    {
      "cell_type": "code",
      "metadata": {
        "colab": {
          "base_uri": "https://localhost:8080/"
        },
        "id": "wEeoGfre2MVI",
        "outputId": "5d56ad04-988b-4802-f8b4-c0eacd6e676e"
      },
      "source": [
        "df_listado['bed_type'].unique()"
      ],
      "execution_count": null,
      "outputs": [
        {
          "output_type": "execute_result",
          "data": {
            "text/plain": [
              "array(['Real Bed', 'Pull-out Sofa'], dtype=object)"
            ]
          },
          "metadata": {},
          "execution_count": 60
        }
      ]
    },
    {
      "cell_type": "code",
      "metadata": {
        "colab": {
          "base_uri": "https://localhost:8080/"
        },
        "id": "s2zv_7yJ2Nfs",
        "outputId": "1d833ef2-8128-4900-e3cb-356d18e5f3d8"
      },
      "source": [
        "df_listado['cancellation_policy'].unique()"
      ],
      "execution_count": null,
      "outputs": [
        {
          "output_type": "execute_result",
          "data": {
            "text/plain": [
              "array(['strict_14_with_grace_period', 'moderate', 'flexible',\n",
              "       'super_strict_60', 'super_strict_30'], dtype=object)"
            ]
          },
          "metadata": {},
          "execution_count": 61
        }
      ]
    },
    {
      "cell_type": "markdown",
      "metadata": {
        "id": "z9C0cLCP9_eR"
      },
      "source": [
        "##### **Columnas con montos($)**"
      ]
    },
    {
      "cell_type": "markdown",
      "metadata": {
        "id": "E1k0tcb1uq9m"
      },
      "source": [
        "Para este grupo de columnas, una función itera por las mismas y quita los valores con el signo \"$\" y las \",\" que pueden interferir en la transformación del tipo de dato. Al finalizar, se informa el resultado. "
      ]
    },
    {
      "cell_type": "code",
      "metadata": {
        "id": "apzYfVMF-Fuk"
      },
      "source": [
        "def transformar_precios (columna):\n",
        "  try:\n",
        "    columna = columna.str.replace('$','')\n",
        "    columna = columna.str.replace(',','')\n",
        "    columna = columna.map(lambda x: float(x))\n",
        "    print('¡Columna lista para transformar!')\n",
        "    print('-----------')\n",
        "    print(columna)\n",
        "  except:\n",
        "    print('La columna no fue transformada correctamente') "
      ],
      "execution_count": null,
      "outputs": []
    },
    {
      "cell_type": "code",
      "metadata": {
        "colab": {
          "base_uri": "https://localhost:8080/"
        },
        "id": "hwUE8UjTS1hp",
        "outputId": "4015f379-ee36-41a6-f2ed-95a6d418fe49"
      },
      "source": [
        "transformar_precios(df_listado['price'])"
      ],
      "execution_count": null,
      "outputs": [
        {
          "output_type": "stream",
          "name": "stdout",
          "text": [
            "¡Columna lista para transformar!\n",
            "-----------\n",
            "0        155.0\n",
            "1         90.0\n",
            "4        120.0\n",
            "5         75.0\n",
            "6        175.0\n",
            "         ...  \n",
            "16378     75.0\n",
            "16390     50.0\n",
            "16408     70.0\n",
            "16473    250.0\n",
            "16563     56.0\n",
            "Name: price, Length: 6246, dtype: float64\n"
          ]
        }
      ]
    },
    {
      "cell_type": "code",
      "metadata": {
        "id": "l7yUBGzS-MGZ",
        "colab": {
          "base_uri": "https://localhost:8080/"
        },
        "outputId": "8276bcbe-1bf6-4605-a50d-a7a72c794dad"
      },
      "source": [
        "transformar_precios(df_listado['security_deposit'])"
      ],
      "execution_count": null,
      "outputs": [
        {
          "output_type": "stream",
          "name": "stdout",
          "text": [
            "¡Columna lista para transformar!\n",
            "-----------\n",
            "0          0.0\n",
            "1          NaN\n",
            "4        200.0\n",
            "5        100.0\n",
            "6        350.0\n",
            "         ...  \n",
            "16378      0.0\n",
            "16390      0.0\n",
            "16408      0.0\n",
            "16473      NaN\n",
            "16563      0.0\n",
            "Name: security_deposit, Length: 6246, dtype: float64\n"
          ]
        }
      ]
    },
    {
      "cell_type": "code",
      "metadata": {
        "id": "kVqa5OyU-L-9",
        "colab": {
          "base_uri": "https://localhost:8080/"
        },
        "outputId": "ee698c64-dc32-4991-fbb2-0ceff98027b1"
      },
      "source": [
        "transformar_precios(df_listado['cleaning_fee'])"
      ],
      "execution_count": null,
      "outputs": [
        {
          "output_type": "stream",
          "name": "stdout",
          "text": [
            "¡Columna lista para transformar!\n",
            "-----------\n",
            "0        100.0\n",
            "1          NaN\n",
            "4         40.0\n",
            "5          NaN\n",
            "6        120.0\n",
            "         ...  \n",
            "16378     15.0\n",
            "16390     10.0\n",
            "16408     14.0\n",
            "16473      NaN\n",
            "16563      0.0\n",
            "Name: cleaning_fee, Length: 6246, dtype: float64\n"
          ]
        }
      ]
    },
    {
      "cell_type": "code",
      "metadata": {
        "id": "N2xsZpmU-Lz9",
        "colab": {
          "base_uri": "https://localhost:8080/"
        },
        "outputId": "7a1ae078-b584-4806-e836-7ca62e97fce9"
      },
      "source": [
        "transformar_precios(df_listado['extra_people'])"
      ],
      "execution_count": null,
      "outputs": [
        {
          "output_type": "stream",
          "name": "stdout",
          "text": [
            "¡Columna lista para transformar!\n",
            "-----------\n",
            "0         0.0\n",
            "1        10.0\n",
            "4        10.0\n",
            "5        10.0\n",
            "6        20.0\n",
            "         ... \n",
            "16378    10.0\n",
            "16390     0.0\n",
            "16408     0.0\n",
            "16473     0.0\n",
            "16563    25.0\n",
            "Name: extra_people, Length: 6246, dtype: float64\n"
          ]
        }
      ]
    },
    {
      "cell_type": "markdown",
      "metadata": {
        "id": "BWN2hnj5NLtT"
      },
      "source": [
        "##### **Columnas con fechas (YYYY-MM-DD)**"
      ]
    },
    {
      "cell_type": "markdown",
      "metadata": {
        "id": "068KN_M2uu72"
      },
      "source": [
        "Para este grupo de columnas, hacemos el mismo procedimiento que para los montos: Una función convierte la columna al tipo fecha.  "
      ]
    },
    {
      "cell_type": "code",
      "metadata": {
        "id": "jZlzytNoNWU3"
      },
      "source": [
        "def transformar_fechas(columna):\n",
        "  try:\n",
        "    columna = pd.to_datetime(columna)\n",
        "    print('¡Columna de fechas transformada!')\n",
        "    print('-----------')\n",
        "    print(columna)\n",
        "  except:\n",
        "    print('La columna no pudo ser transformada correctamente')"
      ],
      "execution_count": null,
      "outputs": []
    },
    {
      "cell_type": "code",
      "metadata": {
        "colab": {
          "base_uri": "https://localhost:8080/"
        },
        "id": "vop4qXwLNbIo",
        "outputId": "18f5d2f7-6ad9-40f4-a664-1e19abc2399c"
      },
      "source": [
        "transformar_fechas(df_listado['host_since'])"
      ],
      "execution_count": null,
      "outputs": [
        {
          "output_type": "stream",
          "name": "stdout",
          "text": [
            "¡Columna de fechas transformada!\n",
            "-----------\n",
            "0       2011-04-23\n",
            "1       2011-05-01\n",
            "4       2011-06-07\n",
            "5       2011-06-30\n",
            "6       2011-07-02\n",
            "           ...    \n",
            "16378   2013-06-03\n",
            "16390   2019-06-09\n",
            "16408   2013-06-03\n",
            "16473   2019-03-12\n",
            "16563   2018-04-12\n",
            "Name: host_since, Length: 6246, dtype: datetime64[ns]\n"
          ]
        }
      ]
    },
    {
      "cell_type": "code",
      "metadata": {
        "colab": {
          "base_uri": "https://localhost:8080/"
        },
        "id": "d_UlbjqoNcu1",
        "outputId": "4e8ae5a5-ce68-44b4-b6a9-277abf282c71"
      },
      "source": [
        "transformar_fechas(df_listado['first_review'])"
      ],
      "execution_count": null,
      "outputs": [
        {
          "output_type": "stream",
          "name": "stdout",
          "text": [
            "¡Columna de fechas transformada!\n",
            "-----------\n",
            "0       2018-10-06\n",
            "1       2012-06-19\n",
            "4       2012-06-14\n",
            "5       2011-09-15\n",
            "6       2011-08-07\n",
            "           ...    \n",
            "16378   2019-06-14\n",
            "16390   2019-06-26\n",
            "16408   2019-06-13\n",
            "16473   2019-06-14\n",
            "16563   2019-06-25\n",
            "Name: first_review, Length: 6246, dtype: datetime64[ns]\n"
          ]
        }
      ]
    },
    {
      "cell_type": "code",
      "metadata": {
        "colab": {
          "base_uri": "https://localhost:8080/"
        },
        "id": "8xjjuUEvNeo7",
        "outputId": "327f3280-1dec-4c95-ca99-7da0dbb10cda"
      },
      "source": [
        "transformar_fechas(df_listado['last_review'])"
      ],
      "execution_count": null,
      "outputs": [
        {
          "output_type": "stream",
          "name": "stdout",
          "text": [
            "¡Columna de fechas transformada!\n",
            "-----------\n",
            "0       2019-04-27\n",
            "1       2019-05-09\n",
            "4       2018-10-07\n",
            "5       2019-05-25\n",
            "6       2019-06-10\n",
            "           ...    \n",
            "16378   2019-06-14\n",
            "16390   2019-06-26\n",
            "16408   2019-06-13\n",
            "16473   2019-06-24\n",
            "16563   2019-06-25\n",
            "Name: last_review, Length: 6246, dtype: datetime64[ns]\n"
          ]
        }
      ]
    },
    {
      "cell_type": "markdown",
      "metadata": {
        "id": "3Gt8wvQn3Fdc"
      },
      "source": [
        "##### **Otros**"
      ]
    },
    {
      "cell_type": "markdown",
      "metadata": {
        "id": "28BIuBPTuxgE"
      },
      "source": [
        "Columna host_name."
      ]
    },
    {
      "cell_type": "code",
      "metadata": {
        "id": "MI-l5AZ-CWzO"
      },
      "source": [
        "def chequeo_columna_string(columna, nombre):\n",
        "  try:\n",
        "    archivo = open(f\"{nombre}.txt\", \"wt\")\n",
        "    for dato in columna:  \n",
        "      if dato.replace(' ', '').isalpha() == False:\n",
        "        archivo.write(f\"Hubo conflictos con: {dato}\\n\")\n",
        "  except OSError as mensaje:\n",
        "    print(\"No se pudo grabar el archivo\", mensaje)\n",
        "  finally:\n",
        "    try:\n",
        "      archivo.close()\n",
        "    except:\n",
        "      pass"
      ],
      "execution_count": null,
      "outputs": []
    },
    {
      "cell_type": "code",
      "metadata": {
        "id": "fpadtjv4JFIz"
      },
      "source": [
        "chequeo_columna_string(df_listado['host_name'].unique(), 'host_name')"
      ],
      "execution_count": null,
      "outputs": []
    },
    {
      "cell_type": "markdown",
      "metadata": {
        "id": "Z2GYmVBUPrLE"
      },
      "source": [
        "Columnas 'host_location' y 'host_about'"
      ]
    },
    {
      "cell_type": "code",
      "metadata": {
        "id": "CYnxzopsJNSb",
        "colab": {
          "base_uri": "https://localhost:8080/"
        },
        "outputId": "cc732f31-033c-46ee-ad94-b2f85e138933"
      },
      "source": [
        "df_listado.host_about.str.isnumeric().unique()\n"
      ],
      "execution_count": null,
      "outputs": [
        {
          "output_type": "execute_result",
          "data": {
            "text/plain": [
              "array([False])"
            ]
          },
          "metadata": {},
          "execution_count": 73
        }
      ]
    },
    {
      "cell_type": "code",
      "metadata": {
        "id": "9l9PViN4jUxM",
        "colab": {
          "base_uri": "https://localhost:8080/"
        },
        "outputId": "9c0bc511-8f2c-4be5-90c4-beed11d75b2f"
      },
      "source": [
        "df_listado.host_location.str.isnumeric().unique()"
      ],
      "execution_count": null,
      "outputs": [
        {
          "output_type": "execute_result",
          "data": {
            "text/plain": [
              "array([False])"
            ]
          },
          "metadata": {},
          "execution_count": 74
        }
      ]
    },
    {
      "cell_type": "markdown",
      "metadata": {
        "id": "8w5hj76pQGR-"
      },
      "source": [
        "Columna 'ammenities'"
      ]
    },
    {
      "cell_type": "code",
      "metadata": {
        "colab": {
          "base_uri": "https://localhost:8080/"
        },
        "id": "5-cLZGoXQIQB",
        "outputId": "65cf922a-5749-4035-9fdd-62f597c7951a"
      },
      "source": [
        "df_listado.host_location.str.isnumeric().unique()"
      ],
      "execution_count": null,
      "outputs": [
        {
          "output_type": "execute_result",
          "data": {
            "text/plain": [
              "array([False])"
            ]
          },
          "metadata": {},
          "execution_count": 75
        }
      ]
    },
    {
      "cell_type": "markdown",
      "metadata": {
        "id": "X8d8MNCKZiE3"
      },
      "source": [
        "#### **Conclusión**"
      ]
    },
    {
      "cell_type": "markdown",
      "metadata": {
        "id": "Zows8LoHoaOc"
      },
      "source": [
        "Finalizada esta etapa, el DataFrame contiene datos uniformes y las columnas están listas para ser transformadas. "
      ]
    },
    {
      "cell_type": "code",
      "metadata": {
        "colab": {
          "base_uri": "https://localhost:8080/"
        },
        "id": "6RqBspWvZn8n",
        "outputId": "834cf64e-6686-43a8-ddd6-6da4b3b5528e"
      },
      "source": [
        "df_listado.head(3)"
      ],
      "execution_count": null,
      "outputs": [
        {
          "output_type": "execute_result",
          "data": {
            "text/html": [
              "<div>\n",
              "<style scoped>\n",
              "    .dataframe tbody tr th:only-of-type {\n",
              "        vertical-align: middle;\n",
              "    }\n",
              "\n",
              "    .dataframe tbody tr th {\n",
              "        vertical-align: top;\n",
              "    }\n",
              "\n",
              "    .dataframe thead th {\n",
              "        text-align: right;\n",
              "    }\n",
              "</style>\n",
              "<table border=\"1\" class=\"dataframe\">\n",
              "  <thead>\n",
              "    <tr style=\"text-align: right;\">\n",
              "      <th></th>\n",
              "      <th>id</th>\n",
              "      <th>host_name</th>\n",
              "      <th>host_since</th>\n",
              "      <th>host_location</th>\n",
              "      <th>host_about</th>\n",
              "      <th>host_is_superhost</th>\n",
              "      <th>host_has_profile_pic</th>\n",
              "      <th>host_identity_verified</th>\n",
              "      <th>neighbourhood_cleansed</th>\n",
              "      <th>latitude</th>\n",
              "      <th>longitude</th>\n",
              "      <th>property_type</th>\n",
              "      <th>room_type</th>\n",
              "      <th>accommodates</th>\n",
              "      <th>bathrooms</th>\n",
              "      <th>bedrooms</th>\n",
              "      <th>beds</th>\n",
              "      <th>bed_type</th>\n",
              "      <th>amenities</th>\n",
              "      <th>price</th>\n",
              "      <th>security_deposit</th>\n",
              "      <th>cleaning_fee</th>\n",
              "      <th>guests_included</th>\n",
              "      <th>extra_people</th>\n",
              "      <th>minimum_nights</th>\n",
              "      <th>number_of_reviews</th>\n",
              "      <th>first_review</th>\n",
              "      <th>last_review</th>\n",
              "      <th>review_scores_rating</th>\n",
              "      <th>review_scores_accuracy</th>\n",
              "      <th>review_scores_cleanliness</th>\n",
              "      <th>review_scores_checkin</th>\n",
              "      <th>review_scores_communication</th>\n",
              "      <th>review_scores_location</th>\n",
              "      <th>review_scores_value</th>\n",
              "      <th>instant_bookable</th>\n",
              "      <th>is_business_travel_ready</th>\n",
              "      <th>cancellation_policy</th>\n",
              "      <th>require_guest_profile_picture</th>\n",
              "      <th>require_guest_phone_verification</th>\n",
              "      <th>calculated_host_listings_count</th>\n",
              "    </tr>\n",
              "  </thead>\n",
              "  <tbody>\n",
              "    <tr>\n",
              "      <th>0</th>\n",
              "      <td>100831</td>\n",
              "      <td>Miguel</td>\n",
              "      <td>2011-04-23</td>\n",
              "      <td>Mallorca</td>\n",
              "      <td>Somos una pareja con los mismos gustos e inter...</td>\n",
              "      <td>0</td>\n",
              "      <td>1</td>\n",
              "      <td>1</td>\n",
              "      <td>Santa Margalida</td>\n",
              "      <td>39.76347</td>\n",
              "      <td>3.16255</td>\n",
              "      <td>House</td>\n",
              "      <td>Entire home/apt</td>\n",
              "      <td>8.0</td>\n",
              "      <td>3.0</td>\n",
              "      <td>4.0</td>\n",
              "      <td>7.0</td>\n",
              "      <td>Real Bed</td>\n",
              "      <td>{TV,\"Cable TV\",Internet,Wifi,\"Air conditioning...</td>\n",
              "      <td>$155.00</td>\n",
              "      <td>$0.00</td>\n",
              "      <td>$100.00</td>\n",
              "      <td>1.0</td>\n",
              "      <td>$0.00</td>\n",
              "      <td>4</td>\n",
              "      <td>20</td>\n",
              "      <td>2018-10-06</td>\n",
              "      <td>2019-04-27</td>\n",
              "      <td>99.0</td>\n",
              "      <td>10.0</td>\n",
              "      <td>10.0</td>\n",
              "      <td>10.0</td>\n",
              "      <td>10.0</td>\n",
              "      <td>9.0</td>\n",
              "      <td>10.0</td>\n",
              "      <td>1</td>\n",
              "      <td>0</td>\n",
              "      <td>strict_14_with_grace_period</td>\n",
              "      <td>0</td>\n",
              "      <td>0</td>\n",
              "      <td>1.0</td>\n",
              "    </tr>\n",
              "    <tr>\n",
              "      <th>1</th>\n",
              "      <td>105891</td>\n",
              "      <td>Bartomeu</td>\n",
              "      <td>2011-05-01</td>\n",
              "      <td>Ariany, Balearic Islands, Spain</td>\n",
              "      <td>Hola!. Resido en una casa de campo de un puebl...</td>\n",
              "      <td>1</td>\n",
              "      <td>1</td>\n",
              "      <td>1</td>\n",
              "      <td>Maria de la Salut</td>\n",
              "      <td>39.66044</td>\n",
              "      <td>3.07165</td>\n",
              "      <td>Townhouse</td>\n",
              "      <td>Entire home/apt</td>\n",
              "      <td>6.0</td>\n",
              "      <td>2.0</td>\n",
              "      <td>3.0</td>\n",
              "      <td>4.0</td>\n",
              "      <td>Real Bed</td>\n",
              "      <td>{TV,\"Cable TV\",Wifi,\"Air conditioning\",Pool,Ki...</td>\n",
              "      <td>$90.00</td>\n",
              "      <td>0</td>\n",
              "      <td>0</td>\n",
              "      <td>4.0</td>\n",
              "      <td>$10.00</td>\n",
              "      <td>7</td>\n",
              "      <td>13</td>\n",
              "      <td>2012-06-19</td>\n",
              "      <td>2019-05-09</td>\n",
              "      <td>97.0</td>\n",
              "      <td>10.0</td>\n",
              "      <td>10.0</td>\n",
              "      <td>10.0</td>\n",
              "      <td>10.0</td>\n",
              "      <td>9.0</td>\n",
              "      <td>10.0</td>\n",
              "      <td>1</td>\n",
              "      <td>0</td>\n",
              "      <td>strict_14_with_grace_period</td>\n",
              "      <td>0</td>\n",
              "      <td>1</td>\n",
              "      <td>2.0</td>\n",
              "    </tr>\n",
              "    <tr>\n",
              "      <th>4</th>\n",
              "      <td>158925</td>\n",
              "      <td>Marie</td>\n",
              "      <td>2011-06-07</td>\n",
              "      <td>Palma, Balearic Islands, Spain</td>\n",
              "      <td>Hola, me llamo Marie.  Despues de haber viajad...</td>\n",
              "      <td>0</td>\n",
              "      <td>1</td>\n",
              "      <td>0</td>\n",
              "      <td>Campos</td>\n",
              "      <td>39.396609999999995</td>\n",
              "      <td>3.08728</td>\n",
              "      <td>Villa</td>\n",
              "      <td>Private room</td>\n",
              "      <td>3.0</td>\n",
              "      <td>1.0</td>\n",
              "      <td>1.0</td>\n",
              "      <td>3.0</td>\n",
              "      <td>Real Bed</td>\n",
              "      <td>{TV,Wifi,Pool,Kitchen,\"Free parking on premise...</td>\n",
              "      <td>$120.00</td>\n",
              "      <td>$200.00</td>\n",
              "      <td>$40.00</td>\n",
              "      <td>2.0</td>\n",
              "      <td>$10.00</td>\n",
              "      <td>3</td>\n",
              "      <td>37</td>\n",
              "      <td>2012-06-14</td>\n",
              "      <td>2018-10-07</td>\n",
              "      <td>94.0</td>\n",
              "      <td>10.0</td>\n",
              "      <td>9.0</td>\n",
              "      <td>10.0</td>\n",
              "      <td>10.0</td>\n",
              "      <td>9.0</td>\n",
              "      <td>9.0</td>\n",
              "      <td>1</td>\n",
              "      <td>0</td>\n",
              "      <td>strict_14_with_grace_period</td>\n",
              "      <td>0</td>\n",
              "      <td>0</td>\n",
              "      <td>3.0</td>\n",
              "    </tr>\n",
              "  </tbody>\n",
              "</table>\n",
              "</div>"
            ],
            "text/plain": [
              "       id  ... calculated_host_listings_count\n",
              "0  100831  ...                            1.0\n",
              "1  105891  ...                            2.0\n",
              "4  158925  ...                            3.0\n",
              "\n",
              "[3 rows x 41 columns]"
            ]
          },
          "metadata": {},
          "execution_count": 76
        }
      ]
    },
    {
      "cell_type": "markdown",
      "metadata": {
        "id": "SSwyaDGta6Me"
      },
      "source": [
        "### TRANSFORMACIÓN.\n",
        "\n",
        "Habiendo revisado el contenido de las columnas, transformamos los datos a los dtypes más convenientes para su posterior análisis y visualización. \n",
        "\n"
      ]
    },
    {
      "cell_type": "markdown",
      "metadata": {
        "id": "3flvQ3-7dKz9"
      },
      "source": [
        "##### **Explicación del paso** "
      ]
    },
    {
      "cell_type": "markdown",
      "metadata": {
        "id": "9oQisvf7oWE4"
      },
      "source": [
        "Habiendo relevando todas las columnas en búsqueda de datos extraños, el objetivo de la transformación será: \n",
        "\n",
        "\n",
        "\n",
        "*   **Transformar las fechas (YYYY-MM-DD) a datetime64**.\n",
        "*   **Transformar los números a algún dtype numérico o flotante.**\n",
        "\n",
        "\n",
        "\n",
        "\n"
      ]
    },
    {
      "cell_type": "markdown",
      "metadata": {
        "id": "_lMbCDbGdODl"
      },
      "source": [
        "##### **Implementación**"
      ]
    },
    {
      "cell_type": "markdown",
      "metadata": {
        "id": "C1ceDb1hguFh"
      },
      "source": [
        "###### **Columnas de instancias numéricas**"
      ]
    },
    {
      "cell_type": "code",
      "metadata": {
        "id": "dboCQYN3geob"
      },
      "source": [
        "df_listado['id'] = pd.to_numeric(df_listado['id'], downcast='float')\n",
        "df_listado['latitude'] = pd.to_numeric(df_listado['latitude'], downcast='float')\n",
        "df_listado['longitude'] = pd.to_numeric(df_listado['longitude'], downcast='float')\n",
        "df_listado['accommodates'] = df_listado['accommodates'].astype(int)\n",
        "df_listado['bathrooms'] = df_listado['bathrooms'].astype(int)\n",
        "df_listado['bedrooms'] = df_listado['bedrooms'].astype(int)\n",
        "df_listado['beds'] = df_listado['beds'].astype(int)\n",
        "df_listado['guests_included'] = df_listado['guests_included'].astype(int)\n",
        "df_listado['minimum_nights'] = df_listado['minimum_nights'].astype(int)\n",
        "df_listado['number_of_reviews'] = df_listado['number_of_reviews'].astype(int)\n",
        "df_listado['review_scores_rating'] = pd.to_numeric(df_listado['review_scores_rating'], downcast='float')\n",
        "df_listado['review_scores_accuracy'] = pd.to_numeric(df_listado['review_scores_accuracy'], downcast='float')\n",
        "df_listado['review_scores_cleanliness'] = pd.to_numeric(df_listado['review_scores_cleanliness'], downcast='float')\n",
        "df_listado['review_scores_checkin'] = pd.to_numeric(df_listado['review_scores_checkin'], downcast='float')\n",
        "df_listado['review_scores_communication'] = pd.to_numeric(df_listado['review_scores_communication'], downcast='float')\n",
        "df_listado['review_scores_location'] = pd.to_numeric(df_listado['review_scores_location'], downcast='float')\n",
        "df_listado['review_scores_value'] = pd.to_numeric(df_listado['review_scores_value'], downcast='float')\n",
        "df_listado['calculated_host_listings_count'] = pd.to_numeric(df_listado['calculated_host_listings_count'], downcast='float')"
      ],
      "execution_count": null,
      "outputs": []
    },
    {
      "cell_type": "markdown",
      "metadata": {
        "id": "JjMSizSqjF0C"
      },
      "source": [
        "###### **Columnas categóricas de Airbnb**"
      ]
    },
    {
      "cell_type": "code",
      "metadata": {
        "id": "GJoU8XkwjKwn"
      },
      "source": [
        "df_listado['bed_type'] = df_listado['bed_type'].astype(str)\n",
        "df_listado['property_type'] = df_listado['property_type'].astype(str)\n",
        "df_listado['room_type'] = df_listado['room_type'].astype(str)\n",
        "df_listado['neighbourhood_cleansed'] = df_listado['neighbourhood_cleansed'].astype(str)\n",
        "df_listado['cancellation_policy'] = df_listado['cancellation_policy'].astype(str)"
      ],
      "execution_count": null,
      "outputs": []
    },
    {
      "cell_type": "markdown",
      "metadata": {
        "id": "IYhq_Kbifjb9"
      },
      "source": [
        "###### **Columnas con montos($)**"
      ]
    },
    {
      "cell_type": "code",
      "metadata": {
        "id": "ac8xmteLfkO3"
      },
      "source": [
        "df_listado['price'] = df_listado['price'].replace('[\\$,]', '', regex=True).astype(float)\n",
        "df_listado['security_deposit'] = df_listado['security_deposit'].replace('[\\$,]', '', regex=True).astype(float)\n",
        "df_listado['cleaning_fee'] = df_listado['cleaning_fee'].replace('[\\$,]', '', regex=True).astype(float)\n",
        "df_listado['extra_people'] = df_listado['extra_people'].replace('[\\$,]', '', regex=True).astype(float)"
      ],
      "execution_count": null,
      "outputs": []
    },
    {
      "cell_type": "markdown",
      "metadata": {
        "id": "VyvXPGY3fzZI"
      },
      "source": [
        "###### **Columnas con fechas (YYYY-MM-DD)**"
      ]
    },
    {
      "cell_type": "code",
      "metadata": {
        "id": "F6bs4ztUf7f7"
      },
      "source": [
        "df_listado['host_since'] = pd.to_datetime(df_listado['host_since'])\n",
        "df_listado['first_review'] = pd.to_datetime(df_listado['first_review'])\n",
        "df_listado['last_review'] = pd.to_datetime(df_listado['last_review'])\n"
      ],
      "execution_count": null,
      "outputs": []
    },
    {
      "cell_type": "markdown",
      "metadata": {
        "id": "-TM6DMa3dRHB"
      },
      "source": [
        "##### **Conclusión** "
      ]
    },
    {
      "cell_type": "markdown",
      "metadata": {
        "id": "BvQHcYXjo4_z"
      },
      "source": [
        "Finalizada la transformación, llamamos nuevamente al método .info() y nos encontramos con un dataframe totalmente distinto al que teníamos al comenzar. Estamos listos para comenzar a analizar y visualizar. "
      ]
    },
    {
      "cell_type": "code",
      "metadata": {
        "colab": {
          "base_uri": "https://localhost:8080/"
        },
        "id": "fX4sx2mogKhx",
        "outputId": "deaf07d1-1ca9-497a-efe0-f6c862b240a3"
      },
      "source": [
        "df_listado_solucion2.info()"
      ],
      "execution_count": null,
      "outputs": [
        {
          "output_type": "stream",
          "name": "stdout",
          "text": [
            "<class 'pandas.core.frame.DataFrame'>\n",
            "Int64Index: 6246 entries, 0 to 16563\n",
            "Data columns (total 41 columns):\n",
            " #   Column                            Non-Null Count  Dtype         \n",
            "---  ------                            --------------  -----         \n",
            " 0   id                                6246 non-null   float32       \n",
            " 1   host_name                         6246 non-null   object        \n",
            " 2   host_since                        6246 non-null   datetime64[ns]\n",
            " 3   host_location                     6246 non-null   object        \n",
            " 4   host_about                        6246 non-null   object        \n",
            " 5   host_is_superhost                 6246 non-null   int64         \n",
            " 6   host_has_profile_pic              6246 non-null   int64         \n",
            " 7   host_identity_verified            6246 non-null   int64         \n",
            " 8   neighbourhood_cleansed            6246 non-null   object        \n",
            " 9   latitude                          6246 non-null   float32       \n",
            " 10  longitude                         6246 non-null   float32       \n",
            " 11  property_type                     6246 non-null   object        \n",
            " 12  room_type                         6246 non-null   object        \n",
            " 13  accommodates                      6246 non-null   int64         \n",
            " 14  bathrooms                         6246 non-null   int64         \n",
            " 15  bedrooms                          6246 non-null   int64         \n",
            " 16  beds                              6246 non-null   int64         \n",
            " 17  bed_type                          6246 non-null   object        \n",
            " 18  amenities                         6246 non-null   object        \n",
            " 19  price                             6246 non-null   float64       \n",
            " 20  security_deposit                  6246 non-null   float64       \n",
            " 21  cleaning_fee                      6246 non-null   float64       \n",
            " 22  guests_included                   6246 non-null   int64         \n",
            " 23  extra_people                      6246 non-null   float64       \n",
            " 24  minimum_nights                    6246 non-null   int64         \n",
            " 25  number_of_reviews                 6246 non-null   int64         \n",
            " 26  first_review                      6246 non-null   datetime64[ns]\n",
            " 27  last_review                       6246 non-null   datetime64[ns]\n",
            " 28  review_scores_rating              6246 non-null   float32       \n",
            " 29  review_scores_accuracy            6246 non-null   float32       \n",
            " 30  review_scores_cleanliness         6246 non-null   float32       \n",
            " 31  review_scores_checkin             6246 non-null   float32       \n",
            " 32  review_scores_communication       6246 non-null   float32       \n",
            " 33  review_scores_location            6246 non-null   float32       \n",
            " 34  review_scores_value               6246 non-null   float32       \n",
            " 35  instant_bookable                  6246 non-null   int64         \n",
            " 36  is_business_travel_ready          6246 non-null   int64         \n",
            " 37  cancellation_policy               6246 non-null   object        \n",
            " 38  require_guest_profile_picture     6246 non-null   int64         \n",
            " 39  require_guest_phone_verification  6246 non-null   int64         \n",
            " 40  calculated_host_listings_count    6246 non-null   float32       \n",
            "dtypes: datetime64[ns](3), float32(11), float64(4), int64(14), object(9)\n",
            "memory usage: 1.7+ MB\n"
          ]
        }
      ]
    },
    {
      "cell_type": "markdown",
      "metadata": {
        "id": "McLsl7uQcme3"
      },
      "source": [
        "Guardamos el nuevo dataset en un archivo csv como el que teníamos al comenzar, y este archivo está listo para su análisis y visualización. "
      ]
    },
    {
      "cell_type": "code",
      "metadata": {
        "id": "uM4xcnp-b5Uq"
      },
      "source": [
        "df_listado_solucion2.to_csv(\"basededatos.csv\")"
      ],
      "execution_count": null,
      "outputs": []
    }
  ]
}
